{
  "cells": [
    {
      "cell_type": "markdown",
      "metadata": {
        "id": "view-in-github",
        "colab_type": "text"
      },
      "source": [
        "<a href=\"https://colab.research.google.com/github/amirkasaei/NLP-An-Odd-Music-Generator/blob/main/NLP_An_Odd_Music_Generator.ipynb\" target=\"_parent\"><img src=\"https://colab.research.google.com/assets/colab-badge.svg\" alt=\"Open In Colab\"/></a>"
      ]
    },
    {
      "cell_type": "markdown",
      "metadata": {
        "id": "rG540utTBHVi"
      },
      "source": [
        "# **Libraries & Constants**\n",
        "\n",
        "---\n",
        "\n"
      ]
    },
    {
      "cell_type": "markdown",
      "metadata": {
        "id": "Q1qXvuLDsHy-"
      },
      "source": [
        "## **imports**"
      ]
    },
    {
      "cell_type": "code",
      "execution_count": null,
      "metadata": {
        "colab": {
          "base_uri": "https://localhost:8080/"
        },
        "id": "PkpWZM1-y5D6",
        "outputId": "1526c8ff-a7f4-474e-f451-df3712bc45dc"
      },
      "outputs": [
        {
          "output_type": "stream",
          "name": "stdout",
          "text": [
            "Looking in indexes: https://pypi.org/simple, https://us-python.pkg.dev/colab-wheels/public/simple/\n",
            "Requirement already satisfied: librosa in /usr/local/lib/python3.7/dist-packages (0.8.1)\n",
            "Requirement already satisfied: scipy>=1.0.0 in /usr/local/lib/python3.7/dist-packages (from librosa) (1.4.1)\n",
            "Requirement already satisfied: numpy>=1.15.0 in /usr/local/lib/python3.7/dist-packages (from librosa) (1.21.6)\n",
            "Requirement already satisfied: packaging>=20.0 in /usr/local/lib/python3.7/dist-packages (from librosa) (21.3)\n",
            "Requirement already satisfied: joblib>=0.14 in /usr/local/lib/python3.7/dist-packages (from librosa) (1.1.0)\n",
            "Requirement already satisfied: decorator>=3.0.0 in /usr/local/lib/python3.7/dist-packages (from librosa) (4.4.2)\n",
            "Requirement already satisfied: numba>=0.43.0 in /usr/local/lib/python3.7/dist-packages (from librosa) (0.51.2)\n",
            "Requirement already satisfied: resampy>=0.2.2 in /usr/local/lib/python3.7/dist-packages (from librosa) (0.2.2)\n",
            "Requirement already satisfied: soundfile>=0.10.2 in /usr/local/lib/python3.7/dist-packages (from librosa) (0.10.3.post1)\n",
            "Requirement already satisfied: audioread>=2.0.0 in /usr/local/lib/python3.7/dist-packages (from librosa) (2.1.9)\n",
            "Requirement already satisfied: scikit-learn!=0.19.0,>=0.14.0 in /usr/local/lib/python3.7/dist-packages (from librosa) (1.0.2)\n",
            "Requirement already satisfied: pooch>=1.0 in /usr/local/lib/python3.7/dist-packages (from librosa) (1.6.0)\n",
            "Requirement already satisfied: llvmlite<0.35,>=0.34.0.dev0 in /usr/local/lib/python3.7/dist-packages (from numba>=0.43.0->librosa) (0.34.0)\n",
            "Requirement already satisfied: setuptools in /usr/local/lib/python3.7/dist-packages (from numba>=0.43.0->librosa) (57.4.0)\n",
            "Requirement already satisfied: pyparsing!=3.0.5,>=2.0.2 in /usr/local/lib/python3.7/dist-packages (from packaging>=20.0->librosa) (3.0.9)\n",
            "Requirement already satisfied: requests>=2.19.0 in /usr/local/lib/python3.7/dist-packages (from pooch>=1.0->librosa) (2.23.0)\n",
            "Requirement already satisfied: appdirs>=1.3.0 in /usr/local/lib/python3.7/dist-packages (from pooch>=1.0->librosa) (1.4.4)\n",
            "Requirement already satisfied: certifi>=2017.4.17 in /usr/local/lib/python3.7/dist-packages (from requests>=2.19.0->pooch>=1.0->librosa) (2022.6.15)\n",
            "Requirement already satisfied: idna<3,>=2.5 in /usr/local/lib/python3.7/dist-packages (from requests>=2.19.0->pooch>=1.0->librosa) (2.10)\n",
            "Requirement already satisfied: chardet<4,>=3.0.2 in /usr/local/lib/python3.7/dist-packages (from requests>=2.19.0->pooch>=1.0->librosa) (3.0.4)\n",
            "Requirement already satisfied: urllib3!=1.25.0,!=1.25.1,<1.26,>=1.21.1 in /usr/local/lib/python3.7/dist-packages (from requests>=2.19.0->pooch>=1.0->librosa) (1.24.3)\n",
            "Requirement already satisfied: six>=1.3 in /usr/local/lib/python3.7/dist-packages (from resampy>=0.2.2->librosa) (1.15.0)\n",
            "Requirement already satisfied: threadpoolctl>=2.0.0 in /usr/local/lib/python3.7/dist-packages (from scikit-learn!=0.19.0,>=0.14.0->librosa) (3.1.0)\n",
            "Requirement already satisfied: cffi>=1.0 in /usr/local/lib/python3.7/dist-packages (from soundfile>=0.10.2->librosa) (1.15.0)\n",
            "Requirement already satisfied: pycparser in /usr/local/lib/python3.7/dist-packages (from cffi>=1.0->soundfile>=0.10.2->librosa) (2.21)\n"
          ]
        }
      ],
      "source": [
        "pip install librosa"
      ]
    },
    {
      "cell_type": "code",
      "execution_count": null,
      "metadata": {
        "id": "U9giafB6qqAv"
      },
      "outputs": [],
      "source": [
        "import pandas as pd\n",
        "import tensorflow as tf\n",
        "import numpy as np\n",
        "from keras.models import Sequential, load_model\n",
        "from keras.layers import Dense, Input, Softmax, BatchNormalization, Dropout, Flatten, LSTM, GRU, SimpleRNN, Concatenate, concatenate, MaxPooling1D, GlobalMaxPool1D, Bidirectional, GlobalMaxPooling1D, GlobalAveragePooling1D, Embedding\n",
        "# from keras.layers.merge import concatenate\n",
        "from keras.losses import CategoricalCrossentropy\n",
        "from keras.metrics import CategoricalAccuracy\n",
        "from keras.preprocessing.text import Tokenizer\n",
        "from tensorflow.keras.optimizers import RMSprop, Adam, Adamax, Nadam, SGD\n",
        "from tensorflow.keras import Model\n",
        "from tensorflow.keras.optimizers.schedules import InverseTimeDecay, ExponentialDecay\n",
        "from tensorflow.keras.utils import to_categorical, plot_model\n",
        "from keras.callbacks import ModelCheckpoint\n",
        "from keras.preprocessing.sequence import pad_sequences\n",
        "from sklearn.preprocessing import LabelEncoder\n",
        "from sklearn.model_selection import train_test_split, KFold\n",
        "from sklearn import metrics\n",
        "from matplotlib import pyplot as plt\n",
        "from sklearn.model_selection import KFold\n",
        "import os\n",
        "import string\n",
        "import cv2 as cv\n",
        "from tensorflow.keras.preprocessing.image import ImageDataGenerator\n",
        "from copy import deepcopy\n",
        "from __future__ import unicode_literals\n",
        "from scipy.io import wavfile\n",
        "import scipy.signal as sps\n",
        "import librosa"
      ]
    },
    {
      "cell_type": "markdown",
      "metadata": {
        "id": "mHrW-d9w4Css"
      },
      "source": [
        "## **Google drive mount**"
      ]
    },
    {
      "cell_type": "code",
      "execution_count": null,
      "metadata": {
        "colab": {
          "base_uri": "https://localhost:8080/"
        },
        "id": "5cL9P0mc4NBD",
        "outputId": "631aabfb-da30-4c92-d4cf-ba0cfa9df2f6"
      },
      "outputs": [
        {
          "output_type": "stream",
          "name": "stdout",
          "text": [
            "Mounted at /content/drive\n"
          ]
        }
      ],
      "source": [
        "from google.colab import drive\n",
        "drive.mount('/content/drive')"
      ]
    },
    {
      "cell_type": "markdown",
      "metadata": {
        "id": "LXvHNESIZ_BV"
      },
      "source": [
        "# **Helper functions**"
      ]
    },
    {
      "cell_type": "code",
      "execution_count": null,
      "metadata": {
        "id": "UTPdekKNZ9o9"
      },
      "outputs": [],
      "source": [
        "def argmaxKeepDimensions(arr):\n",
        "  tmp = np.zeros_like(arr)\n",
        "  tmp[np.arange(len(arr)), arr.argmax(1)] = 1\n",
        "  return tmp\n",
        "\n",
        "def outputResult(model, history, X_train, y_train, X_test, y_test, noteDict):\n",
        "  # print(\"result in training set:\", \"\\ntrain acc= \",\n",
        "  #       self.history['accuracy'], \"\\ntrain loss= \", self.history['loss'])\n",
        "  # print(\"\\nresult in test set:\", \"\\ntest acc= \",\n",
        "  #       self.history['val_accuracy'], \"\\ntest loss= \", self.history['val_loss'], '\\n')\n",
        "\n",
        "  # best models based on acc or loss in tarin set or test set\n",
        "  trainHistory = list(\n",
        "      map(lambda x, y: [x, y], history['accuracy'], history['loss']))\n",
        "  testHistory = list(\n",
        "      map(lambda x, y: [x, y], history['val_accuracy'], history['val_loss']))\n",
        "  print(\n",
        "      f\"\\nbest model based on min training set loss:  acc= {min(trainHistory, key = lambda k: k[1])[0]}  loss= {min(trainHistory, key = lambda k: k[1])[1]}\")\n",
        "  print(\n",
        "      f\"best model based on min test set loss:  acc= {min(testHistory, key = lambda k: k[1])[0]}  loss= {min(testHistory, key = lambda k: k[1])[1]}\")\n",
        "  print(\n",
        "      f\"best model based on max training set accuracy:  acc= {max(trainHistory, key = lambda k: k[0])[0]}  loss= {max(trainHistory, key = lambda k: k[0])[1]}\")\n",
        "  print(\n",
        "      f\"best model based on max test set accuracy:  acc= {max(testHistory, key = lambda k: k[0])[0]}  loss= {max(testHistory, key = lambda k: k[0])[1]}\")\n",
        "\n",
        "  print(\"\\nevaluate dataset with best model based on maximum test set accuracy\")\n",
        "  print(\"evaluate train set= \", model.evaluate(\n",
        "      X_train, y_train, verbose=0))\n",
        "  print(\"evaluate test set= \", model.evaluate(X_test, y_test, verbose=0))\n",
        "\n",
        "  y_train_pred = model.predict(X_train)\n",
        "  # convert probablities to 0s and 1s\n",
        "  y_train_pred = argmaxKeepDimensions(y_train_pred)\n",
        "\n",
        "  y_test_pred = model.predict(X_test)\n",
        "  # convert probablities to 0s and 1s\n",
        "  y_test_pred = argmaxKeepDimensions(y_test_pred)\n",
        "\n",
        "  # confusion matrix and precision, recall and f1 report\n",
        "  print('\\n', '-'*30, 'metrics for traning set', '-'*30)\n",
        "\n",
        "  print(\"confusion matrix: \\n\", metrics.confusion_matrix(\n",
        "      np.argmax(y_train, axis=1), np.argmax(y_train_pred, axis=1)))\n",
        "  print(metrics.classification_report(y_train,\n",
        "        y_train_pred, digits=3, target_names=list(noteDict.keys())))\n",
        "\n",
        "  # confusion matrix and precision, recall and f1 report\n",
        "  print('-'*30, 'metrics for test set', '-'*30)\n",
        "  \n",
        "  print(\"confusion matrix: \\n\", metrics.confusion_matrix(\n",
        "      np.argmax(y_test, axis=1), np.argmax(y_test_pred, axis=1)))\n",
        "  print(metrics.classification_report(y_test,\n",
        "        y_test_pred, digits=3, target_names=list(noteDict.keys())))\n",
        "  \n",
        "  # self.model.summary()\n"
      ]
    },
    {
      "cell_type": "code",
      "execution_count": null,
      "metadata": {
        "id": "kfL7Q0Tqn2-z"
      },
      "outputs": [],
      "source": [
        "def showPlots(model, history):\n",
        "    plt.plot(history['accuracy'],\n",
        "              label='training accuracy', marker='.', color='green')\n",
        "    plt.plot(history['val_accuracy'],\n",
        "              label='test accuracy', marker='.', color='blue')\n",
        "    plt.xlabel('Epochs')\n",
        "    plt.ylabel('Accuracy')\n",
        "    plt.legend()\n",
        "    plt.show()\n",
        "\n",
        "    plt.plot(history['loss'],\n",
        "              label='training loss', marker='.', color='green')\n",
        "    plt.plot(history['val_loss'],\n",
        "              label='test loss', marker='.', color='blue')\n",
        "    plt.xlabel('Epochs')\n",
        "    plt.ylabel('Loss')\n",
        "    plt.legend()\n",
        "    plt.show()"
      ]
    },
    {
      "cell_type": "markdown",
      "metadata": {
        "id": "9g2bT1KDsTU1"
      },
      "source": [
        "# **Denoising Network**"
      ]
    },
    {
      "cell_type": "markdown",
      "metadata": {
        "id": "WcHmHbcQsYPY"
      },
      "source": [
        "## **Preprocessing**"
      ]
    },
    {
      "cell_type": "code",
      "execution_count": null,
      "metadata": {
        "id": "uyTcURre1olb"
      },
      "outputs": [],
      "source": [
        "sample_rate = 4000  # sample rate"
      ]
    },
    {
      "cell_type": "markdown",
      "metadata": {
        "id": "LMMvqFfpEgVv"
      },
      "source": [
        "**Paths**"
      ]
    },
    {
      "cell_type": "code",
      "execution_count": null,
      "metadata": {
        "id": "U0gbIM9TEdrg"
      },
      "outputs": [],
      "source": [
        "notesPath = '/content/drive/MyDrive/Deep Learning/Music Generator/piano_triads'\n",
        "noisesPath = '/content/drive/MyDrive/Deep Learning/Music Generator/artifacts'\n",
        "songsPath = '/content/drive/MyDrive/Deep Learning/Music Generator/piano_pieces'"
      ]
    },
    {
      "cell_type": "markdown",
      "metadata": {
        "id": "7vAxP9i7tAyg"
      },
      "source": [
        "**Helper Functions**"
      ]
    },
    {
      "cell_type": "code",
      "execution_count": null,
      "metadata": {
        "id": "MnKTrgO1siMx"
      },
      "outputs": [],
      "source": [
        "# mix piece and noise together\n",
        "def AddNoiseToPiece(piece, noise, noise_factor):\n",
        "  noisy_piece = piece + (noise_factor*noise)\n",
        "  return noisy_piece\n",
        "\n",
        "# append wav np.array of notes by having note names in a piece\n",
        "def appendNotes(piece, notes, notesLabel): \n",
        "  appendedNotes = []\n",
        "  for piece_note in piece:\n",
        "    index = notesLabel.index(piece_note)\n",
        "    appendedNotes.extend(notes[index])\n",
        "  return np.array(appendedNotes)\n",
        "\n",
        "# add padding to wav piece to grow up its length to max_length\n",
        "def addPadding(piece_wav):\n",
        "  max_length = sample_rate * 9\n",
        "  return np.pad(piece_wav, (0,max_length-piece_wav.shape[0]))\n",
        "\n",
        "# split np.array to multiple specific length array \n",
        "def splitToSpecificLength(arr, length):\n",
        "  arr = np.array(arr)\n",
        "  numberOfPiece = arr.shape[0]//length + 1 if arr.shape[0]%length != 0 else arr.shape[0]//length\n",
        "  return np.split(arr, [length*i for i in range(1, numberOfPiece)])"
      ]
    },
    {
      "cell_type": "markdown",
      "metadata": {
        "id": "alM-xLiJve5K"
      },
      "source": [
        "**Read all notes and noise**"
      ]
    },
    {
      "cell_type": "code",
      "execution_count": null,
      "metadata": {
        "colab": {
          "base_uri": "https://localhost:8080/"
        },
        "id": "LAauC64WvdSC",
        "outputId": "45fe8b42-91ed-49bd-d646-69e271d39adb"
      },
      "outputs": [
        {
          "output_type": "stream",
          "name": "stdout",
          "text": [
            "(432, 12000)\n",
            "(42, 36000)\n"
          ]
        }
      ],
      "source": [
        "notes, notesLabel, noises = [], [], []\n",
        "for note in os.listdir(notesPath):\n",
        "  data  = librosa.load(notesPath+'/'+note, sr=sample_rate, dtype=np.float32)[0]\n",
        "  notes.append(data)\n",
        "  notesLabel.append(note[:-4])\n",
        "\n",
        "for noise in os.listdir(noisesPath):\n",
        "  # noises must have 1/3 note sample rate because their length are 3X\n",
        "  noises.append(librosa.load(noisesPath + '/'+ noise, sr=sample_rate, dtype=np.float32)[0]) # sample rate for a 9s song: 1 noises per song\n",
        "\n",
        "notes = np.array(notes)\n",
        "noises = np.array(noises)\n",
        "# notesLabel = np.array(notesLabel)\n",
        "print(notes.shape)\n",
        "print(noises.shape)"
      ]
    },
    {
      "cell_type": "markdown",
      "metadata": {
        "id": "cFsnuCFIvzu0"
      },
      "source": [
        "**Read all song notes**"
      ]
    },
    {
      "cell_type": "code",
      "execution_count": null,
      "metadata": {
        "id": "yjWsCrQkmKxg"
      },
      "outputs": [],
      "source": [
        "songs = []\n",
        "for song in os.listdir(songsPath):\n",
        "  data  = open(songsPath + '/' + song, 'r')\n",
        "  data = data.readlines()\n",
        "  if data:\n",
        "    songs.append(data[0].split(' / '))"
      ]
    },
    {
      "cell_type": "markdown",
      "metadata": {
        "id": "9uN7Lpgv_oje"
      },
      "source": [
        "**Estimate number of dataset**"
      ]
    },
    {
      "cell_type": "code",
      "execution_count": null,
      "metadata": {
        "colab": {
          "base_uri": "https://localhost:8080/"
        },
        "id": "pDEY55_S_nnt",
        "outputId": "e14c46e0-f0ec-4d12-d84f-8ca2bc2d3e3d"
      },
      "outputs": [
        {
          "output_type": "execute_result",
          "data": {
            "text/plain": [
              "1240.0"
            ]
          },
          "metadata": {},
          "execution_count": 60
        }
      ],
      "source": [
        "def estimateNumberOfSamples(songs, i, j):\n",
        "  numberOfNoises = 40\n",
        "\n",
        "  songsLength = [len(x) for x in songs]\n",
        "  songsLength = np.array(songsLength)\n",
        "  numberOfPiecesPerSong = np.ceil(songsLength/3)\n",
        "\n",
        "  #print(numberOfPiecesPerSong[0])\n",
        "  numberOfPieces = np.sum(numberOfPiecesPerSong[i : j])\n",
        "  numberOfSamples = numberOfPieces * numberOfNoises\n",
        "\n",
        "  return numberOfSamples\n",
        "\n",
        "estimateNumberOfSamples(songs, 0, 1)"
      ]
    },
    {
      "cell_type": "code",
      "execution_count": null,
      "metadata": {
        "colab": {
          "base_uri": "https://localhost:8080/"
        },
        "id": "OGWG_4YXMPQV",
        "outputId": "5937c6c7-48b2-4355-8fcd-3221f44901fa"
      },
      "outputs": [
        {
          "output_type": "execute_result",
          "data": {
            "text/plain": [
              "(36000,)"
            ]
          },
          "metadata": {},
          "execution_count": 22
        }
      ],
      "source": [
        "appendNotes(songs[0][:3], notes, notesLabel).shape"
      ]
    },
    {
      "cell_type": "markdown",
      "metadata": {
        "id": "U8ll2ZHIz8Jm"
      },
      "source": [
        "**DAE Data Generator**"
      ]
    },
    {
      "cell_type": "code",
      "execution_count": null,
      "metadata": {
        "id": "QMeGF9grwTKI"
      },
      "outputs": [],
      "source": [
        "def DAE_data_generator(songs, batchsize):\n",
        "    X_DAE_batch, y_DAE_batch = [], []\n",
        "    batchcount = 0\n",
        "    while True:\n",
        "        for song in songs:\n",
        "          # separate the notes of song with 30 length\n",
        "          song_pieces = splitToSpecificLength(song, 10) + splitToSpecificLength(song, 20)# + splitToSpecificLength(song, 4) + splitToSpecificLength(song, 5) + splitToSpecificLength(song, 20) + splitToSpecificLength(song, 30)\n",
        "          \n",
        "          # create all pieces in the song\n",
        "          for piece in song_pieces:\n",
        "              piece_wav = appendNotes(piece, notes, notesLabel)\n",
        "              piece_wav_pad = addPadding(piece_wav)\n",
        "              for noise in noises:\n",
        "                noisy_piece_wav = AddNoiseToPiece(piece_wav_pad, noise, 0.25)\n",
        "\n",
        "                X_DAE_batch.append(noisy_piece_wav)\n",
        "                # X_DAE_batch.append(piece_wav_pad)\n",
        "                y_DAE_batch.append(piece_wav_pad)\n",
        "\n",
        "                batchcount += 1\n",
        "                if batchcount == batchsize:\n",
        "                  X_DAE_batch = np.array(X_DAE_batch)\n",
        "                  y_DAE_batch = np.array(y_DAE_batch)\n",
        "                  \n",
        "                  yield (X_DAE_batch, y_DAE_batch)\n",
        "                  X_DAE_batch = []\n",
        "                  y_DAE_batch = []\n",
        "                  batchcount = 0"
      ]
    },
    {
      "cell_type": "code",
      "source": [
        "def DAE_data_generator1(songs, batchsize):\n",
        "    X_DAE_batch, y_DAE_batch = [], []\n",
        "    batchcount = 0\n",
        "    while True:\n",
        "        for song in songs[:5]:\n",
        "          # separate the notes of song with 3 length\n",
        "          song_pieces = splitToSpecificLength(song, 3)# + splitToSpecificLength(song, 4) + splitToSpecificLength(song, 5) + splitToSpecificLength(song, 20) + splitToSpecificLength(song, 30)\n",
        "          \n",
        "          # create all pieces in the song\n",
        "          for piece in song_pieces:\n",
        "              piece_wav = appendNotes(piece, notes, notesLabel)\n",
        "              piece_wav_pad = addPadding(piece_wav)\n",
        "              for noise in noises:\n",
        "                noisy_piece_wav = AddNoiseToPiece(piece_wav_pad, noise, 0.25)\n",
        "\n",
        "                X_DAE_batch.append(noisy_piece_wav)\n",
        "                # X_DAE_batch.append(piece_wav_pad)\n",
        "                y_DAE_batch.append(piece_wav_pad)\n",
        "\n",
        "                batchcount += 1\n",
        "                if batchcount == batchsize:\n",
        "                  X_DAE_batch = np.array(X_DAE_batch)\n",
        "                  y_DAE_batch = np.array(y_DAE_batch)\n",
        "                  \n",
        "                  yield (X_DAE_batch, y_DAE_batch)\n",
        "                  X_DAE_batch = []\n",
        "                  y_DAE_batch = []\n",
        "                  batchcount = 0"
      ],
      "metadata": {
        "id": "IQYqHPrx0rAZ"
      },
      "execution_count": null,
      "outputs": []
    },
    {
      "cell_type": "markdown",
      "metadata": {
        "id": "6YZs2_NCO_2K"
      },
      "source": [
        "## **Implementation**"
      ]
    },
    {
      "cell_type": "code",
      "execution_count": null,
      "metadata": {
        "colab": {
          "base_uri": "https://localhost:8080/",
          "height": 533
        },
        "id": "QdDxczVJPJ7J",
        "outputId": "7ec74182-f989-4cc2-f6d9-cc5f789fefa8"
      },
      "outputs": [
        {
          "output_type": "execute_result",
          "data": {
            "text/plain": [
              "<IPython.core.display.Image object>"
            ],
            "image/png": "[encoded data removed]"
          },
          "metadata": {},
          "execution_count": 89
        }
      ],
      "source": [
        "batchsize = 200 #720\n",
        "\n",
        "inputShape = ouputShape = 36000\n",
        "\n",
        "input = Input(shape=(inputShape, ), name=\"input_noisy_note\")\n",
        "\n",
        "# x = tf.keras.layers.Conv1D(1, 500, strides=100, activation='linear')(input)\n",
        "# x = tf.keras.layers.Flatten()(x)\n",
        "x = Dense(512, activation='relu', name=\"encoder_1\")(input)\n",
        "# x = Dense(128, activation='linear', name=\"encoder_2\")(x)\n",
        "# x = Dense(32, activation='tanh', name=\"encoder_3\")(x)\n",
        "x = Dense(64, activation='linear', name=\"encoded\")(x)\n",
        "# x = Dense(32, activation='tanh', name=\"decoder_1\")(x)\n",
        "# x = Dense(128, activation='linear', name=\"decoder_1\")(x)\n",
        "x = Dense(512, activation='linear', name=\"decoder_2\")(x)\n",
        "out = Dense(ouputShape, activation='linear', name=\"reconstructed_note\")(x)\n",
        "\n",
        "DAE_model = Model(inputs=input, outputs=out)\n",
        "\n",
        "# Compile the Model\n",
        "metrics = ['mean_absolute_error', 'mean_squared_logarithmic_error', 'cosine_similarity']\n",
        "DAE_model.compile(loss=\"mean_squared_error\", optimizer=Adam(0.01), metrics=metrics)\n",
        "\n",
        "filepath = '/content/drive/MyDrive/Deep Learning/Music Generator/DAE_best_model_test.hdf5'\n",
        "checkpoint = ModelCheckpoint(filepath=filepath,\n",
        "                              monitor='loss',\n",
        "                              verbose=0,\n",
        "                              save_best_only=True,\n",
        "                              mode='min')\n",
        "\n",
        "plot_model(DAE_model, to_file=\"DAE_model.png\", show_shapes=True)"
      ]
    },
    {
      "cell_type": "code",
      "execution_count": null,
      "metadata": {
        "id": "NoLzS3xUQ-DI",
        "colab": {
          "base_uri": "https://localhost:8080/"
        },
        "outputId": "798835d0-2963-4c37-89c5-79cc9631015c"
      },
      "outputs": [
        {
          "output_type": "stream",
          "name": "stdout",
          "text": [
            "Epoch 1/1000\n",
            "27/27 [==============================] - 4s 145ms/step - loss: 0.0010 - mean_absolute_error: 0.0171 - mean_squared_logarithmic_error: 4.0314e-04 - cosine_similarity: 0.1474\n",
            "Epoch 2/1000\n",
            "27/27 [==============================] - 4s 159ms/step - loss: 9.7897e-04 - mean_absolute_error: 0.0177 - mean_squared_logarithmic_error: 3.7769e-04 - cosine_similarity: 0.2177\n",
            "Epoch 3/1000\n",
            "27/27 [==============================] - 2s 82ms/step - loss: 0.0030 - mean_absolute_error: 0.0289 - mean_squared_logarithmic_error: 0.0010 - cosine_similarity: 0.1476\n",
            "Epoch 4/1000\n",
            "27/27 [==============================] - 2s 83ms/step - loss: 20.0144 - mean_absolute_error: 1.8811 - mean_squared_logarithmic_error: 0.4962 - cosine_similarity: 0.0052\n",
            "Epoch 5/1000\n",
            "27/27 [==============================] - 2s 83ms/step - loss: 609.1896 - mean_absolute_error: 12.1340 - mean_squared_logarithmic_error: 2.3794 - cosine_similarity: 0.0012\n",
            "Epoch 6/1000\n",
            "27/27 [==============================] - 3s 97ms/step - loss: 3080.3154 - mean_absolute_error: 28.5784 - mean_squared_logarithmic_error: 4.0164 - cosine_similarity: -2.3870e-05\n",
            "Epoch 7/1000\n",
            "27/27 [==============================] - 3s 95ms/step - loss: 18872.2500 - mean_absolute_error: 57.7318 - mean_squared_logarithmic_error: 5.5063 - cosine_similarity: -0.0034\n",
            "Epoch 8/1000\n",
            "27/27 [==============================] - 2s 86ms/step - loss: 43327.1758 - mean_absolute_error: 90.9908 - mean_squared_logarithmic_error: 6.3257 - cosine_similarity: -0.0022\n",
            "Epoch 9/1000\n",
            "27/27 [==============================] - 2s 85ms/step - loss: 48836.7812 - mean_absolute_error: 81.4507 - mean_squared_logarithmic_error: 5.6903 - cosine_similarity: 2.6185e-04\n",
            "Epoch 10/1000\n",
            "27/27 [==============================] - 2s 83ms/step - loss: 86375.1875 - mean_absolute_error: 91.0965 - mean_squared_logarithmic_error: 5.6579 - cosine_similarity: -8.3901e-04\n",
            "Epoch 11/1000\n",
            "27/27 [==============================] - 2s 83ms/step - loss: 81432.2344 - mean_absolute_error: 86.4898 - mean_squared_logarithmic_error: 5.2667 - cosine_similarity: 4.7687e-04\n",
            "Epoch 12/1000\n",
            "27/27 [==============================] - 2s 81ms/step - loss: 13997.9482 - mean_absolute_error: 35.4292 - mean_squared_logarithmic_error: 3.4788 - cosine_similarity: 0.0053\n",
            "Epoch 13/1000\n",
            "27/27 [==============================] - 2s 81ms/step - loss: 3425.2556 - mean_absolute_error: 16.3096 - mean_squared_logarithmic_error: 2.0778 - cosine_similarity: 0.0010\n",
            "Epoch 14/1000\n",
            "27/27 [==============================] - 2s 81ms/step - loss: 454.1240 - mean_absolute_error: 7.5654 - mean_squared_logarithmic_error: 1.4219 - cosine_similarity: 0.0036\n",
            "Epoch 15/1000\n",
            "27/27 [==============================] - 2s 82ms/step - loss: 248.9237 - mean_absolute_error: 5.8681 - mean_squared_logarithmic_error: 1.2139 - cosine_similarity: 0.0027\n",
            "Epoch 16/1000\n",
            "27/27 [==============================] - 2s 83ms/step - loss: 147.5485 - mean_absolute_error: 4.5690 - mean_squared_logarithmic_error: 1.0230 - cosine_similarity: 0.0015\n",
            "Epoch 17/1000\n",
            "27/27 [==============================] - 2s 83ms/step - loss: 100.7124 - mean_absolute_error: 4.1651 - mean_squared_logarithmic_error: 0.9631 - cosine_similarity: 4.8623e-04\n",
            "Epoch 18/1000\n",
            "27/27 [==============================] - 2s 82ms/step - loss: 86.1454 - mean_absolute_error: 3.7407 - mean_squared_logarithmic_error: 0.8742 - cosine_similarity: 0.0019\n",
            "Epoch 19/1000\n",
            "27/27 [==============================] - 2s 81ms/step - loss: 72.4998 - mean_absolute_error: 3.4876 - mean_squared_logarithmic_error: 0.8211 - cosine_similarity: 0.0018\n",
            "Epoch 20/1000\n",
            "27/27 [==============================] - 2s 88ms/step - loss: 57.4808 - mean_absolute_error: 3.0952 - mean_squared_logarithmic_error: 0.7410 - cosine_similarity: 0.0012\n",
            "Epoch 21/1000\n",
            "27/27 [==============================] - 2s 81ms/step - loss: 51.2109 - mean_absolute_error: 2.9216 - mean_squared_logarithmic_error: 0.7017 - cosine_similarity: 9.6311e-04\n",
            "Epoch 22/1000\n",
            "27/27 [==============================] - 2s 82ms/step - loss: 44.3745 - mean_absolute_error: 2.6854 - mean_squared_logarithmic_error: 0.6478 - cosine_similarity: -0.0015\n",
            "Epoch 23/1000\n",
            "27/27 [==============================] - 2s 80ms/step - loss: 39.8040 - mean_absolute_error: 2.5313 - mean_squared_logarithmic_error: 0.6128 - cosine_similarity: 0.0013\n",
            "Epoch 24/1000\n",
            "27/27 [==============================] - 2s 82ms/step - loss: 36.1325 - mean_absolute_error: 2.3971 - mean_squared_logarithmic_error: 0.5826 - cosine_similarity: 0.0010\n",
            "Epoch 25/1000\n",
            "27/27 [==============================] - 2s 82ms/step - loss: 32.1992 - mean_absolute_error: 2.2519 - mean_squared_logarithmic_error: 0.5501 - cosine_similarity: 2.8787e-05\n",
            "Epoch 26/1000\n",
            "27/27 [==============================] - 2s 80ms/step - loss: 28.2959 - mean_absolute_error: 2.0769 - mean_squared_logarithmic_error: 0.5089 - cosine_similarity: 5.9015e-04\n",
            "Epoch 27/1000\n",
            "27/27 [==============================] - 2s 81ms/step - loss: 25.5108 - mean_absolute_error: 1.9498 - mean_squared_logarithmic_error: 0.4785 - cosine_similarity: -8.7575e-05\n",
            "Epoch 28/1000\n",
            "27/27 [==============================] - 2s 81ms/step - loss: 24.1946 - mean_absolute_error: 1.8876 - mean_squared_logarithmic_error: 0.4639 - cosine_similarity: -4.8979e-04\n",
            "Epoch 29/1000\n",
            "27/27 [==============================] - 2s 80ms/step - loss: 22.2503 - mean_absolute_error: 1.8196 - mean_squared_logarithmic_error: 0.4505 - cosine_similarity: 2.8972e-04\n",
            "Epoch 30/1000\n",
            "27/27 [==============================] - 2s 81ms/step - loss: 20.3946 - mean_absolute_error: 1.7196 - mean_squared_logarithmic_error: 0.4262 - cosine_similarity: 5.7350e-04\n",
            "Epoch 31/1000\n",
            "27/27 [==============================] - 2s 81ms/step - loss: 18.1135 - mean_absolute_error: 1.6022 - mean_squared_logarithmic_error: 0.3980 - cosine_similarity: 0.0021\n",
            "Epoch 32/1000\n",
            "27/27 [==============================] - 2s 80ms/step - loss: 17.1182 - mean_absolute_error: 1.5305 - mean_squared_logarithmic_error: 0.3790 - cosine_similarity: 0.0017\n",
            "Epoch 33/1000\n",
            "27/27 [==============================] - 2s 79ms/step - loss: 14.6843 - mean_absolute_error: 1.4383 - mean_squared_logarithmic_error: 0.3601 - cosine_similarity: 0.0023\n",
            "Epoch 34/1000\n",
            "27/27 [==============================] - 2s 81ms/step - loss: 15.3093 - mean_absolute_error: 1.4509 - mean_squared_logarithmic_error: 0.3627 - cosine_similarity: 0.0032\n",
            "Epoch 35/1000\n",
            "27/27 [==============================] - 2s 81ms/step - loss: 12.2817 - mean_absolute_error: 1.2981 - mean_squared_logarithmic_error: 0.3256 - cosine_similarity: 0.0022\n",
            "Epoch 36/1000\n",
            "27/27 [==============================] - 2s 81ms/step - loss: 12.8443 - mean_absolute_error: 1.3207 - mean_squared_logarithmic_error: 0.3327 - cosine_similarity: 0.0026\n",
            "Epoch 37/1000\n",
            "27/27 [==============================] - 2s 80ms/step - loss: 12.9007 - mean_absolute_error: 1.3310 - mean_squared_logarithmic_error: 0.3361 - cosine_similarity: 0.0032\n",
            "Epoch 38/1000\n",
            "27/27 [==============================] - 2s 81ms/step - loss: 11.7665 - mean_absolute_error: 1.2518 - mean_squared_logarithmic_error: 0.3164 - cosine_similarity: 0.0043\n",
            "Epoch 39/1000\n",
            "27/27 [==============================] - 2s 78ms/step - loss: 11.6164 - mean_absolute_error: 1.2383 - mean_squared_logarithmic_error: 0.3126 - cosine_similarity: 0.0046\n",
            "Epoch 40/1000\n",
            "27/27 [==============================] - 2s 79ms/step - loss: 9.8313 - mean_absolute_error: 1.1075 - mean_squared_logarithmic_error: 0.2788 - cosine_similarity: 0.0043\n",
            "Epoch 41/1000\n",
            "27/27 [==============================] - 2s 79ms/step - loss: 9.9831 - mean_absolute_error: 1.1097 - mean_squared_logarithmic_error: 0.2785 - cosine_similarity: 0.0038\n",
            "Epoch 42/1000\n",
            "27/27 [==============================] - 2s 80ms/step - loss: 10.5248 - mean_absolute_error: 1.1412 - mean_squared_logarithmic_error: 0.2892 - cosine_similarity: 0.0052\n",
            "Epoch 43/1000\n",
            "27/27 [==============================] - 2s 81ms/step - loss: 11.6865 - mean_absolute_error: 1.1479 - mean_squared_logarithmic_error: 0.2861 - cosine_similarity: 0.0052\n",
            "Epoch 44/1000\n",
            "27/27 [==============================] - 2s 81ms/step - loss: 12.0373 - mean_absolute_error: 1.1551 - mean_squared_logarithmic_error: 0.2888 - cosine_similarity: 0.0046\n",
            "Epoch 45/1000\n",
            "27/27 [==============================] - 2s 79ms/step - loss: 14.8624 - mean_absolute_error: 1.1356 - mean_squared_logarithmic_error: 0.2734 - cosine_similarity: 0.0089\n",
            "Epoch 46/1000\n",
            "27/27 [==============================] - 2s 79ms/step - loss: 19.4737 - mean_absolute_error: 1.2912 - mean_squared_logarithmic_error: 0.3074 - cosine_similarity: 0.0029\n",
            "Epoch 47/1000\n",
            "27/27 [==============================] - 2s 81ms/step - loss: 31.7419 - mean_absolute_error: 1.3847 - mean_squared_logarithmic_error: 0.3094 - cosine_similarity: 0.0094\n",
            "Epoch 48/1000\n",
            "27/27 [==============================] - 2s 80ms/step - loss: 44.5673 - mean_absolute_error: 1.6146 - mean_squared_logarithmic_error: 0.3429 - cosine_similarity: 0.0017\n",
            "Epoch 49/1000\n",
            "27/27 [==============================] - 2s 79ms/step - loss: 71.4189 - mean_absolute_error: 1.8251 - mean_squared_logarithmic_error: 0.3637 - cosine_similarity: 0.0124\n",
            "Epoch 50/1000\n",
            "27/27 [==============================] - 2s 82ms/step - loss: 91.0270 - mean_absolute_error: 2.0564 - mean_squared_logarithmic_error: 0.3822 - cosine_similarity: -0.0018\n",
            "Epoch 51/1000\n",
            "27/27 [==============================] - 2s 80ms/step - loss: 114.7649 - mean_absolute_error: 2.2155 - mean_squared_logarithmic_error: 0.4029 - cosine_similarity: 0.0127\n",
            "Epoch 52/1000\n",
            "27/27 [==============================] - 2s 81ms/step - loss: 89.2558 - mean_absolute_error: 2.0546 - mean_squared_logarithmic_error: 0.3792 - cosine_similarity: 0.0014\n",
            "Epoch 53/1000\n",
            "27/27 [==============================] - 2s 82ms/step - loss: 50.6442 - mean_absolute_error: 1.6389 - mean_squared_logarithmic_error: 0.3384 - cosine_similarity: 0.0095\n",
            "Epoch 54/1000\n",
            "27/27 [==============================] - 2s 79ms/step - loss: 20.4014 - mean_absolute_error: 1.2637 - mean_squared_logarithmic_error: 0.2879 - cosine_similarity: 0.0037\n",
            "Epoch 55/1000\n",
            "27/27 [==============================] - 2s 81ms/step - loss: 9.8379 - mean_absolute_error: 0.9788 - mean_squared_logarithmic_error: 0.2428 - cosine_similarity: 0.0078\n",
            "Epoch 56/1000\n",
            "27/27 [==============================] - 2s 80ms/step - loss: 5.4965 - mean_absolute_error: 0.7776 - mean_squared_logarithmic_error: 0.1938 - cosine_similarity: 0.0065\n",
            "Epoch 57/1000\n",
            "27/27 [==============================] - 2s 82ms/step - loss: 5.1385 - mean_absolute_error: 0.7781 - mean_squared_logarithmic_error: 0.1977 - cosine_similarity: 0.0074\n",
            "Epoch 58/1000\n",
            "27/27 [==============================] - 2s 80ms/step - loss: 4.2849 - mean_absolute_error: 0.6941 - mean_squared_logarithmic_error: 0.1746 - cosine_similarity: 0.0089\n",
            "Epoch 59/1000\n",
            "27/27 [==============================] - 2s 80ms/step - loss: 3.6804 - mean_absolute_error: 0.6745 - mean_squared_logarithmic_error: 0.1720 - cosine_similarity: 0.0090\n",
            "Epoch 60/1000\n",
            "27/27 [==============================] - 2s 80ms/step - loss: 3.5195 - mean_absolute_error: 0.6514 - mean_squared_logarithmic_error: 0.1662 - cosine_similarity: 0.0092\n",
            "Epoch 61/1000\n",
            "27/27 [==============================] - 2s 81ms/step - loss: 3.6041 - mean_absolute_error: 0.6595 - mean_squared_logarithmic_error: 0.1689 - cosine_similarity: 0.0094\n",
            "Epoch 62/1000\n",
            "27/27 [==============================] - 2s 81ms/step - loss: 3.5108 - mean_absolute_error: 0.6578 - mean_squared_logarithmic_error: 0.1692 - cosine_similarity: 0.0104\n",
            "Epoch 63/1000\n",
            "27/27 [==============================] - 2s 80ms/step - loss: 3.4880 - mean_absolute_error: 0.6478 - mean_squared_logarithmic_error: 0.1666 - cosine_similarity: 0.0116\n",
            "Epoch 64/1000\n",
            "27/27 [==============================] - 2s 82ms/step - loss: 3.2129 - mean_absolute_error: 0.6165 - mean_squared_logarithmic_error: 0.1575 - cosine_similarity: 0.0118\n",
            "Epoch 65/1000\n",
            "27/27 [==============================] - 2s 81ms/step - loss: 3.1928 - mean_absolute_error: 0.5961 - mean_squared_logarithmic_error: 0.1513 - cosine_similarity: 0.0097\n",
            "Epoch 66/1000\n",
            "27/27 [==============================] - 2s 81ms/step - loss: 3.0374 - mean_absolute_error: 0.5968 - mean_squared_logarithmic_error: 0.1521 - cosine_similarity: 0.0117\n",
            "Epoch 67/1000\n",
            "27/27 [==============================] - 2s 80ms/step - loss: 3.3896 - mean_absolute_error: 0.6147 - mean_squared_logarithmic_error: 0.1566 - cosine_similarity: 0.0107\n",
            "Epoch 68/1000\n",
            "27/27 [==============================] - 2s 82ms/step - loss: 3.4687 - mean_absolute_error: 0.6298 - mean_squared_logarithmic_error: 0.1611 - cosine_similarity: 0.0137\n",
            "Epoch 69/1000\n",
            "27/27 [==============================] - 2s 81ms/step - loss: 3.8057 - mean_absolute_error: 0.6215 - mean_squared_logarithmic_error: 0.1570 - cosine_similarity: 0.0095\n",
            "Epoch 70/1000\n",
            "27/27 [==============================] - 2s 87ms/step - loss: 4.0510 - mean_absolute_error: 0.6369 - mean_squared_logarithmic_error: 0.1606 - cosine_similarity: 0.0157\n",
            "Epoch 71/1000\n",
            "27/27 [==============================] - 3s 104ms/step - loss: 4.8674 - mean_absolute_error: 0.6516 - mean_squared_logarithmic_error: 0.1622 - cosine_similarity: 0.0079\n",
            "Epoch 72/1000\n",
            "27/27 [==============================] - 2s 79ms/step - loss: 5.7583 - mean_absolute_error: 0.7001 - mean_squared_logarithmic_error: 0.1738 - cosine_similarity: 0.0152\n",
            "Epoch 73/1000\n",
            "27/27 [==============================] - 2s 84ms/step - loss: 7.5602 - mean_absolute_error: 0.7348 - mean_squared_logarithmic_error: 0.1786 - cosine_similarity: 0.0075\n",
            "Epoch 74/1000\n",
            "27/27 [==============================] - 2s 80ms/step - loss: 9.5576 - mean_absolute_error: 0.8142 - mean_squared_logarithmic_error: 0.1953 - cosine_similarity: 0.0156\n",
            "Epoch 75/1000\n",
            "27/27 [==============================] - 2s 83ms/step - loss: 12.5987 - mean_absolute_error: 0.8431 - mean_squared_logarithmic_error: 0.1951 - cosine_similarity: 0.0071\n",
            "Epoch 76/1000\n",
            "27/27 [==============================] - 2s 79ms/step - loss: 16.8819 - mean_absolute_error: 0.9711 - mean_squared_logarithmic_error: 0.2193 - cosine_similarity: 0.0127\n",
            "Epoch 77/1000\n",
            "27/27 [==============================] - 2s 79ms/step - loss: 22.8659 - mean_absolute_error: 1.0653 - mean_squared_logarithmic_error: 0.2326 - cosine_similarity: 0.0085\n",
            "Epoch 78/1000\n",
            "27/27 [==============================] - 2s 81ms/step - loss: 27.9792 - mean_absolute_error: 1.1974 - mean_squared_logarithmic_error: 0.2557 - cosine_similarity: 0.0059\n",
            "Epoch 79/1000\n",
            "27/27 [==============================] - 2s 80ms/step - loss: 31.1955 - mean_absolute_error: 1.2195 - mean_squared_logarithmic_error: 0.2542 - cosine_similarity: 0.0126\n",
            "Epoch 80/1000\n",
            "27/27 [==============================] - 2s 81ms/step - loss: 18.5359 - mean_absolute_error: 1.0212 - mean_squared_logarithmic_error: 0.2263 - cosine_similarity: 0.0065\n",
            "Epoch 81/1000\n",
            "27/27 [==============================] - 2s 82ms/step - loss: 31.3762 - mean_absolute_error: 1.1338 - mean_squared_logarithmic_error: 0.2307 - cosine_similarity: 0.0136\n",
            "Epoch 82/1000\n",
            "27/27 [==============================] - 2s 81ms/step - loss: 16.3538 - mean_absolute_error: 0.9073 - mean_squared_logarithmic_error: 0.2004 - cosine_similarity: 0.0102\n",
            "Epoch 83/1000\n",
            "27/27 [==============================] - 2s 81ms/step - loss: 15.2669 - mean_absolute_error: 0.8486 - mean_squared_logarithmic_error: 0.1898 - cosine_similarity: 0.0149\n",
            "Epoch 84/1000\n",
            "27/27 [==============================] - 2s 80ms/step - loss: 17.4462 - mean_absolute_error: 0.8206 - mean_squared_logarithmic_error: 0.1753 - cosine_similarity: 0.0114\n",
            "Epoch 85/1000\n",
            "27/27 [==============================] - 2s 81ms/step - loss: 9.5158 - mean_absolute_error: 0.7056 - mean_squared_logarithmic_error: 0.1636 - cosine_similarity: 0.0153\n",
            "Epoch 86/1000\n",
            "27/27 [==============================] - 2s 79ms/step - loss: 8.5543 - mean_absolute_error: 0.6663 - mean_squared_logarithmic_error: 0.1555 - cosine_similarity: 0.0130\n",
            "Epoch 87/1000\n",
            "27/27 [==============================] - 2s 79ms/step - loss: 3.8662 - mean_absolute_error: 0.5453 - mean_squared_logarithmic_error: 0.1340 - cosine_similarity: 0.0139\n",
            "Epoch 88/1000\n",
            "27/27 [==============================] - 2s 81ms/step - loss: 2.9370 - mean_absolute_error: 0.4913 - mean_squared_logarithmic_error: 0.1217 - cosine_similarity: 0.0148\n",
            "Epoch 89/1000\n",
            "27/27 [==============================] - 2s 80ms/step - loss: 1.8033 - mean_absolute_error: 0.4219 - mean_squared_logarithmic_error: 0.1040 - cosine_similarity: 0.0146\n",
            "Epoch 90/1000\n",
            "27/27 [==============================] - 2s 81ms/step - loss: 1.5346 - mean_absolute_error: 0.3961 - mean_squared_logarithmic_error: 0.0977 - cosine_similarity: 0.0155\n",
            "Epoch 91/1000\n",
            "27/27 [==============================] - 2s 81ms/step - loss: 1.3495 - mean_absolute_error: 0.3920 - mean_squared_logarithmic_error: 0.0967 - cosine_similarity: 0.0158\n",
            "Epoch 92/1000\n",
            "27/27 [==============================] - 2s 80ms/step - loss: 1.2391 - mean_absolute_error: 0.3754 - mean_squared_logarithmic_error: 0.0921 - cosine_similarity: 0.0166\n",
            "Epoch 93/1000\n",
            "27/27 [==============================] - 2s 79ms/step - loss: 1.1434 - mean_absolute_error: 0.3689 - mean_squared_logarithmic_error: 0.0903 - cosine_similarity: 0.0162\n",
            "Epoch 94/1000\n",
            "27/27 [==============================] - 2s 82ms/step - loss: 1.0410 - mean_absolute_error: 0.3444 - mean_squared_logarithmic_error: 0.0834 - cosine_similarity: 0.0183\n",
            "Epoch 95/1000\n",
            "27/27 [==============================] - 2s 83ms/step - loss: 1.0412 - mean_absolute_error: 0.3523 - mean_squared_logarithmic_error: 0.0857 - cosine_similarity: 0.0167\n",
            "Epoch 96/1000\n",
            "27/27 [==============================] - 2s 81ms/step - loss: 0.9707 - mean_absolute_error: 0.3351 - mean_squared_logarithmic_error: 0.0808 - cosine_similarity: 0.0183\n",
            "Epoch 97/1000\n",
            "27/27 [==============================] - 2s 80ms/step - loss: 0.9552 - mean_absolute_error: 0.3330 - mean_squared_logarithmic_error: 0.0801 - cosine_similarity: 0.0170\n",
            "Epoch 98/1000\n",
            "27/27 [==============================] - 2s 81ms/step - loss: 0.9580 - mean_absolute_error: 0.3317 - mean_squared_logarithmic_error: 0.0802 - cosine_similarity: 0.0197\n",
            "Epoch 99/1000\n",
            "27/27 [==============================] - 2s 81ms/step - loss: 0.8526 - mean_absolute_error: 0.3100 - mean_squared_logarithmic_error: 0.0733 - cosine_similarity: 0.0173\n",
            "Epoch 100/1000\n",
            "27/27 [==============================] - 2s 79ms/step - loss: 0.9597 - mean_absolute_error: 0.3292 - mean_squared_logarithmic_error: 0.0799 - cosine_similarity: 0.0197\n",
            "Epoch 101/1000\n",
            "27/27 [==============================] - 2s 79ms/step - loss: 0.9217 - mean_absolute_error: 0.3106 - mean_squared_logarithmic_error: 0.0740 - cosine_similarity: 0.0173\n",
            "Epoch 102/1000\n",
            "27/27 [==============================] - 2s 80ms/step - loss: 1.0258 - mean_absolute_error: 0.3257 - mean_squared_logarithmic_error: 0.0792 - cosine_similarity: 0.0202\n",
            "Epoch 103/1000\n",
            "27/27 [==============================] - 2s 79ms/step - loss: 1.0791 - mean_absolute_error: 0.3258 - mean_squared_logarithmic_error: 0.0780 - cosine_similarity: 0.0169\n",
            "Epoch 104/1000\n",
            "27/27 [==============================] - 2s 80ms/step - loss: 1.2444 - mean_absolute_error: 0.3329 - mean_squared_logarithmic_error: 0.0804 - cosine_similarity: 0.0212\n",
            "Epoch 105/1000\n",
            "27/27 [==============================] - 2s 80ms/step - loss: 1.3347 - mean_absolute_error: 0.3241 - mean_squared_logarithmic_error: 0.0765 - cosine_similarity: 0.0176\n",
            "Epoch 106/1000\n",
            "27/27 [==============================] - 2s 81ms/step - loss: 1.9136 - mean_absolute_error: 0.3495 - mean_squared_logarithmic_error: 0.0829 - cosine_similarity: 0.0238\n",
            "Epoch 107/1000\n",
            "27/27 [==============================] - 2s 81ms/step - loss: 0.7245 - mean_absolute_error: 0.2859 - mean_squared_logarithmic_error: 0.0661 - cosine_similarity: 0.0179\n",
            "Epoch 108/1000\n",
            "27/27 [==============================] - 2s 81ms/step - loss: 2.2819 - mean_absolute_error: 0.3504 - mean_squared_logarithmic_error: 0.0802 - cosine_similarity: 0.0217\n",
            "Epoch 109/1000\n",
            "27/27 [==============================] - 2s 81ms/step - loss: 4.0617 - mean_absolute_error: 0.4179 - mean_squared_logarithmic_error: 0.0938 - cosine_similarity: 0.0177\n",
            "Epoch 110/1000\n",
            "27/27 [==============================] - 2s 80ms/step - loss: 4.1897 - mean_absolute_error: 0.4213 - mean_squared_logarithmic_error: 0.0958 - cosine_similarity: 0.0212\n",
            "Epoch 111/1000\n",
            "27/27 [==============================] - 2s 79ms/step - loss: 6.9699 - mean_absolute_error: 0.5020 - mean_squared_logarithmic_error: 0.1110 - cosine_similarity: 0.0185\n",
            "Epoch 112/1000\n",
            "27/27 [==============================] - 2s 81ms/step - loss: 5.2799 - mean_absolute_error: 0.4851 - mean_squared_logarithmic_error: 0.1135 - cosine_similarity: 0.0215\n",
            "Epoch 113/1000\n",
            "27/27 [==============================] - 2s 78ms/step - loss: 7.0437 - mean_absolute_error: 0.5135 - mean_squared_logarithmic_error: 0.1170 - cosine_similarity: 0.0201\n",
            "Epoch 114/1000\n",
            "27/27 [==============================] - 2s 81ms/step - loss: 3.9134 - mean_absolute_error: 0.4837 - mean_squared_logarithmic_error: 0.1182 - cosine_similarity: 0.0211\n",
            "Epoch 115/1000\n",
            "27/27 [==============================] - 2s 80ms/step - loss: 4.2845 - mean_absolute_error: 0.5122 - mean_squared_logarithmic_error: 0.1241 - cosine_similarity: 0.0142\n",
            "Epoch 116/1000\n",
            "27/27 [==============================] - 2s 81ms/step - loss: 4.0132 - mean_absolute_error: 0.5291 - mean_squared_logarithmic_error: 0.1315 - cosine_similarity: 0.0235\n",
            "Epoch 117/1000\n",
            "27/27 [==============================] - 2s 82ms/step - loss: 4.9375 - mean_absolute_error: 0.5746 - mean_squared_logarithmic_error: 0.1370 - cosine_similarity: 0.0076\n",
            "Epoch 118/1000\n",
            "27/27 [==============================] - 2s 80ms/step - loss: 5.4193 - mean_absolute_error: 0.5576 - mean_squared_logarithmic_error: 0.1313 - cosine_similarity: 0.0279\n",
            "Epoch 119/1000\n",
            "27/27 [==============================] - 2s 80ms/step - loss: 6.9321 - mean_absolute_error: 0.5892 - mean_squared_logarithmic_error: 0.1327 - cosine_similarity: 0.0028\n",
            "Epoch 120/1000\n",
            "27/27 [==============================] - 2s 79ms/step - loss: 10.2146 - mean_absolute_error: 0.6830 - mean_squared_logarithmic_error: 0.1511 - cosine_similarity: 0.0237\n",
            "Epoch 121/1000\n",
            "27/27 [==============================] - 2s 81ms/step - loss: 13.6994 - mean_absolute_error: 0.7622 - mean_squared_logarithmic_error: 0.1627 - cosine_similarity: 0.0050\n",
            "Epoch 122/1000\n",
            "27/27 [==============================] - 2s 82ms/step - loss: 16.7995 - mean_absolute_error: 0.8140 - mean_squared_logarithmic_error: 0.1695 - cosine_similarity: 0.0186\n",
            "Epoch 123/1000\n",
            "27/27 [==============================] - 2s 83ms/step - loss: 15.7221 - mean_absolute_error: 0.8031 - mean_squared_logarithmic_error: 0.1686 - cosine_similarity: 0.0053\n",
            "Epoch 124/1000\n",
            "27/27 [==============================] - 2s 80ms/step - loss: 11.7878 - mean_absolute_error: 0.7032 - mean_squared_logarithmic_error: 0.1491 - cosine_similarity: 0.0166\n",
            "Epoch 125/1000\n",
            "27/27 [==============================] - 2s 81ms/step - loss: 6.9679 - mean_absolute_error: 0.5898 - mean_squared_logarithmic_error: 0.1348 - cosine_similarity: 0.0129\n",
            "Epoch 126/1000\n",
            "27/27 [==============================] - 2s 80ms/step - loss: 3.7974 - mean_absolute_error: 0.4843 - mean_squared_logarithmic_error: 0.1127 - cosine_similarity: 0.0109\n",
            "Epoch 127/1000\n",
            "27/27 [==============================] - 2s 80ms/step - loss: 2.2467 - mean_absolute_error: 0.3920 - mean_squared_logarithmic_error: 0.0976 - cosine_similarity: 0.0278\n",
            "Epoch 128/1000\n",
            "27/27 [==============================] - 2s 79ms/step - loss: 1.4751 - mean_absolute_error: 0.3412 - mean_squared_logarithmic_error: 0.0813 - cosine_similarity: 0.0113\n",
            "Epoch 129/1000\n",
            "27/27 [==============================] - 2s 80ms/step - loss: 1.2449 - mean_absolute_error: 0.2838 - mean_squared_logarithmic_error: 0.0689 - cosine_similarity: 0.0327\n",
            "Epoch 130/1000\n",
            "27/27 [==============================] - 2s 78ms/step - loss: 1.0616 - mean_absolute_error: 0.2735 - mean_squared_logarithmic_error: 0.0619 - cosine_similarity: 0.0185\n",
            "Epoch 131/1000\n",
            "27/27 [==============================] - 2s 80ms/step - loss: 0.9704 - mean_absolute_error: 0.2582 - mean_squared_logarithmic_error: 0.0596 - cosine_similarity: 0.0268\n",
            "Epoch 132/1000\n",
            "27/27 [==============================] - 2s 80ms/step - loss: 0.7117 - mean_absolute_error: 0.2410 - mean_squared_logarithmic_error: 0.0522 - cosine_similarity: 0.0218\n",
            "Epoch 133/1000\n",
            "27/27 [==============================] - 2s 81ms/step - loss: 1.1284 - mean_absolute_error: 0.2710 - mean_squared_logarithmic_error: 0.0616 - cosine_similarity: 0.0235\n",
            "Epoch 134/1000\n",
            "27/27 [==============================] - 2s 79ms/step - loss: 1.3143 - mean_absolute_error: 0.2830 - mean_squared_logarithmic_error: 0.0628 - cosine_similarity: 0.0232\n",
            "Epoch 135/1000\n",
            "27/27 [==============================] - 2s 82ms/step - loss: 1.2392 - mean_absolute_error: 0.2881 - mean_squared_logarithmic_error: 0.0648 - cosine_similarity: 0.0211\n",
            "Epoch 136/1000\n",
            "27/27 [==============================] - 2s 81ms/step - loss: 1.4986 - mean_absolute_error: 0.2992 - mean_squared_logarithmic_error: 0.0666 - cosine_similarity: 0.0253\n",
            "Epoch 137/1000\n",
            "27/27 [==============================] - 2s 81ms/step - loss: 1.4045 - mean_absolute_error: 0.2998 - mean_squared_logarithmic_error: 0.0668 - cosine_similarity: 0.0159\n",
            "Epoch 138/1000\n",
            "27/27 [==============================] - 2s 80ms/step - loss: 1.7255 - mean_absolute_error: 0.2990 - mean_squared_logarithmic_error: 0.0653 - cosine_similarity: 0.0274\n",
            "Epoch 139/1000\n",
            "27/27 [==============================] - 2s 81ms/step - loss: 1.5304 - mean_absolute_error: 0.3033 - mean_squared_logarithmic_error: 0.0670 - cosine_similarity: 0.0156\n",
            "Epoch 140/1000\n",
            "27/27 [==============================] - 2s 79ms/step - loss: 1.8296 - mean_absolute_error: 0.3058 - mean_squared_logarithmic_error: 0.0670 - cosine_similarity: 0.0267\n",
            "Epoch 141/1000\n",
            "27/27 [==============================] - 2s 82ms/step - loss: 1.4723 - mean_absolute_error: 0.3023 - mean_squared_logarithmic_error: 0.0667 - cosine_similarity: 0.0159\n",
            "Epoch 142/1000\n",
            "27/27 [==============================] - 2s 83ms/step - loss: 1.7397 - mean_absolute_error: 0.3041 - mean_squared_logarithmic_error: 0.0673 - cosine_similarity: 0.0301\n",
            "Epoch 143/1000\n",
            "27/27 [==============================] - 2s 80ms/step - loss: 1.2743 - mean_absolute_error: 0.2812 - mean_squared_logarithmic_error: 0.0618 - cosine_similarity: 0.0138\n",
            "Epoch 144/1000\n",
            "27/27 [==============================] - 2s 79ms/step - loss: 1.3676 - mean_absolute_error: 0.2822 - mean_squared_logarithmic_error: 0.0632 - cosine_similarity: 0.0322\n",
            "Epoch 145/1000\n",
            "27/27 [==============================] - 2s 80ms/step - loss: 1.0536 - mean_absolute_error: 0.2677 - mean_squared_logarithmic_error: 0.0595 - cosine_similarity: 0.0176\n",
            "Epoch 146/1000\n",
            "27/27 [==============================] - 2s 80ms/step - loss: 1.1139 - mean_absolute_error: 0.2577 - mean_squared_logarithmic_error: 0.0576 - cosine_similarity: 0.0331\n",
            "Epoch 147/1000\n",
            "27/27 [==============================] - 2s 80ms/step - loss: 0.9054 - mean_absolute_error: 0.2548 - mean_squared_logarithmic_error: 0.0566 - cosine_similarity: 0.0180\n",
            "Epoch 148/1000\n",
            "27/27 [==============================] - 2s 80ms/step - loss: 0.9104 - mean_absolute_error: 0.2333 - mean_squared_logarithmic_error: 0.0515 - cosine_similarity: 0.0343\n",
            "Epoch 149/1000\n",
            "27/27 [==============================] - 2s 80ms/step - loss: 0.7566 - mean_absolute_error: 0.2394 - mean_squared_logarithmic_error: 0.0530 - cosine_similarity: 0.0193\n",
            "Epoch 150/1000\n",
            "27/27 [==============================] - 2s 81ms/step - loss: 0.8006 - mean_absolute_error: 0.2235 - mean_squared_logarithmic_error: 0.0503 - cosine_similarity: 0.0363\n",
            "Epoch 151/1000\n",
            "27/27 [==============================] - 2s 81ms/step - loss: 0.6956 - mean_absolute_error: 0.2248 - mean_squared_logarithmic_error: 0.0495 - cosine_similarity: 0.0214\n",
            "Epoch 152/1000\n",
            "27/27 [==============================] - 2s 80ms/step - loss: 0.7728 - mean_absolute_error: 0.2227 - mean_squared_logarithmic_error: 0.0500 - cosine_similarity: 0.0325\n",
            "Epoch 153/1000\n",
            "27/27 [==============================] - 2s 84ms/step - loss: 0.6901 - mean_absolute_error: 0.2237 - mean_squared_logarithmic_error: 0.0495 - cosine_similarity: 0.0253\n",
            "Epoch 154/1000\n",
            "27/27 [==============================] - 3s 104ms/step - loss: 0.7541 - mean_absolute_error: 0.2131 - mean_squared_logarithmic_error: 0.0483 - cosine_similarity: 0.0340\n",
            "Epoch 155/1000\n",
            "27/27 [==============================] - 2s 80ms/step - loss: 0.7423 - mean_absolute_error: 0.2270 - mean_squared_logarithmic_error: 0.0513 - cosine_similarity: 0.0242\n",
            "Epoch 156/1000\n",
            "27/27 [==============================] - 2s 82ms/step - loss: 0.3833 - mean_absolute_error: 0.1862 - mean_squared_logarithmic_error: 0.0412 - cosine_similarity: 0.0387\n",
            "Epoch 157/1000\n",
            "27/27 [==============================] - 2s 80ms/step - loss: 0.9721 - mean_absolute_error: 0.2527 - mean_squared_logarithmic_error: 0.0582 - cosine_similarity: 0.0174\n",
            "Epoch 158/1000\n",
            "27/27 [==============================] - 2s 79ms/step - loss: 1.0759 - mean_absolute_error: 0.2732 - mean_squared_logarithmic_error: 0.0646 - cosine_similarity: 0.0380\n",
            "Epoch 159/1000\n",
            "27/27 [==============================] - 2s 81ms/step - loss: 1.4315 - mean_absolute_error: 0.3102 - mean_squared_logarithmic_error: 0.0710 - cosine_similarity: 0.0093\n",
            "Epoch 160/1000\n",
            "27/27 [==============================] - 2s 81ms/step - loss: 1.4705 - mean_absolute_error: 0.3328 - mean_squared_logarithmic_error: 0.0781 - cosine_similarity: 0.0289\n",
            "Epoch 161/1000\n",
            "27/27 [==============================] - 2s 81ms/step - loss: 1.9387 - mean_absolute_error: 0.3587 - mean_squared_logarithmic_error: 0.0809 - cosine_similarity: 0.0127\n",
            "Epoch 162/1000\n",
            "27/27 [==============================] - 2s 81ms/step - loss: 2.4903 - mean_absolute_error: 0.3872 - mean_squared_logarithmic_error: 0.0909 - cosine_similarity: 0.0136\n",
            "Epoch 163/1000\n",
            "27/27 [==============================] - 2s 82ms/step - loss: 4.7666 - mean_absolute_error: 0.5009 - mean_squared_logarithmic_error: 0.1134 - cosine_similarity: 0.0193\n",
            "Epoch 164/1000\n",
            "27/27 [==============================] - 2s 80ms/step - loss: 7.8596 - mean_absolute_error: 0.6100 - mean_squared_logarithmic_error: 0.1252 - cosine_similarity: 0.0030\n",
            "Epoch 165/1000\n",
            "27/27 [==============================] - 2s 80ms/step - loss: 9.6755 - mean_absolute_error: 0.7445 - mean_squared_logarithmic_error: 0.1542 - cosine_similarity: 0.0146\n",
            "Epoch 166/1000\n",
            "27/27 [==============================] - 2s 81ms/step - loss: 12.7422 - mean_absolute_error: 0.8322 - mean_squared_logarithmic_error: 0.1756 - cosine_similarity: 0.0057\n",
            "Epoch 167/1000\n",
            "27/27 [==============================] - 2s 80ms/step - loss: 28.6013 - mean_absolute_error: 0.9298 - mean_squared_logarithmic_error: 0.1689 - cosine_similarity: -0.0092\n",
            "Epoch 168/1000\n",
            "27/27 [==============================] - 2s 81ms/step - loss: 24.1984 - mean_absolute_error: 0.8767 - mean_squared_logarithmic_error: 0.1679 - cosine_similarity: 0.0268\n",
            "Epoch 169/1000\n",
            "27/27 [==============================] - 2s 78ms/step - loss: 9.9781 - mean_absolute_error: 0.7247 - mean_squared_logarithmic_error: 0.1475 - cosine_similarity: 3.3003e-04\n",
            "Epoch 170/1000\n",
            "27/27 [==============================] - 2s 81ms/step - loss: 5.3055 - mean_absolute_error: 0.5338 - mean_squared_logarithmic_error: 0.1069 - cosine_similarity: 0.0113\n",
            "Epoch 171/1000\n",
            "27/27 [==============================] - 2s 81ms/step - loss: 1.2130 - mean_absolute_error: 0.3042 - mean_squared_logarithmic_error: 0.0623 - cosine_similarity: 0.0101\n",
            "Epoch 172/1000\n",
            "27/27 [==============================] - 2s 81ms/step - loss: 0.4345 - mean_absolute_error: 0.1998 - mean_squared_logarithmic_error: 0.0407 - cosine_similarity: 0.0244\n",
            "Epoch 173/1000\n",
            "27/27 [==============================] - 2s 81ms/step - loss: 0.2192 - mean_absolute_error: 0.1441 - mean_squared_logarithmic_error: 0.0280 - cosine_similarity: 0.0349\n",
            "Epoch 174/1000\n",
            "27/27 [==============================] - 2s 80ms/step - loss: 0.1890 - mean_absolute_error: 0.1332 - mean_squared_logarithmic_error: 0.0261 - cosine_similarity: 0.0417\n",
            "Epoch 175/1000\n",
            "27/27 [==============================] - 2s 81ms/step - loss: 0.1762 - mean_absolute_error: 0.1210 - mean_squared_logarithmic_error: 0.0239 - cosine_similarity: 0.0529\n",
            "Epoch 176/1000\n",
            "27/27 [==============================] - 2s 81ms/step - loss: 0.1741 - mean_absolute_error: 0.1231 - mean_squared_logarithmic_error: 0.0237 - cosine_similarity: 0.0417\n",
            "Epoch 177/1000\n",
            "27/27 [==============================] - 2s 81ms/step - loss: 0.1658 - mean_absolute_error: 0.1145 - mean_squared_logarithmic_error: 0.0222 - cosine_similarity: 0.0557\n",
            "Epoch 178/1000\n",
            "27/27 [==============================] - 2s 82ms/step - loss: 0.1628 - mean_absolute_error: 0.1166 - mean_squared_logarithmic_error: 0.0220 - cosine_similarity: 0.0448\n",
            "Epoch 179/1000\n",
            "27/27 [==============================] - 2s 80ms/step - loss: 0.1496 - mean_absolute_error: 0.1062 - mean_squared_logarithmic_error: 0.0200 - cosine_similarity: 0.0573\n",
            "Epoch 180/1000\n",
            "27/27 [==============================] - 2s 84ms/step - loss: 0.1169 - mean_absolute_error: 0.1060 - mean_squared_logarithmic_error: 0.0187 - cosine_similarity: 0.0470\n",
            "Epoch 181/1000\n",
            "27/27 [==============================] - 2s 82ms/step - loss: 0.1538 - mean_absolute_error: 0.1074 - mean_squared_logarithmic_error: 0.0200 - cosine_similarity: 0.0548\n",
            "Epoch 182/1000\n",
            "27/27 [==============================] - 2s 80ms/step - loss: 0.1810 - mean_absolute_error: 0.1179 - mean_squared_logarithmic_error: 0.0223 - cosine_similarity: 0.0454\n",
            "Epoch 183/1000\n",
            "27/27 [==============================] - 2s 81ms/step - loss: 0.1813 - mean_absolute_error: 0.1146 - mean_squared_logarithmic_error: 0.0216 - cosine_similarity: 0.0529\n",
            "Epoch 184/1000\n",
            "27/27 [==============================] - 2s 81ms/step - loss: 0.2015 - mean_absolute_error: 0.1213 - mean_squared_logarithmic_error: 0.0230 - cosine_similarity: 0.0452\n",
            "Epoch 185/1000\n",
            "27/27 [==============================] - 2s 81ms/step - loss: 0.2041 - mean_absolute_error: 0.1214 - mean_squared_logarithmic_error: 0.0231 - cosine_similarity: 0.0489\n",
            "Epoch 186/1000\n",
            "27/27 [==============================] - 2s 80ms/step - loss: 0.2251 - mean_absolute_error: 0.1253 - mean_squared_logarithmic_error: 0.0239 - cosine_similarity: 0.0428\n",
            "Epoch 187/1000\n",
            "27/27 [==============================] - 2s 82ms/step - loss: 0.2358 - mean_absolute_error: 0.1220 - mean_squared_logarithmic_error: 0.0229 - cosine_similarity: 0.0456\n",
            "Epoch 188/1000\n",
            "27/27 [==============================] - 2s 81ms/step - loss: 0.2551 - mean_absolute_error: 0.1266 - mean_squared_logarithmic_error: 0.0241 - cosine_similarity: 0.0414\n",
            "Epoch 189/1000\n",
            "27/27 [==============================] - 2s 81ms/step - loss: 0.2394 - mean_absolute_error: 0.1249 - mean_squared_logarithmic_error: 0.0235 - cosine_similarity: 0.0453\n",
            "Epoch 190/1000\n",
            "27/27 [==============================] - 2s 83ms/step - loss: 0.2233 - mean_absolute_error: 0.1225 - mean_squared_logarithmic_error: 0.0232 - cosine_similarity: 0.0445\n",
            "Epoch 191/1000\n",
            "27/27 [==============================] - 2s 83ms/step - loss: 0.2000 - mean_absolute_error: 0.1213 - mean_squared_logarithmic_error: 0.0226 - cosine_similarity: 0.0475\n",
            "Epoch 192/1000\n",
            "27/27 [==============================] - 2s 82ms/step - loss: 0.1849 - mean_absolute_error: 0.1100 - mean_squared_logarithmic_error: 0.0202 - cosine_similarity: 0.0467\n",
            "Epoch 193/1000\n",
            "27/27 [==============================] - 2s 82ms/step - loss: 0.1799 - mean_absolute_error: 0.1164 - mean_squared_logarithmic_error: 0.0215 - cosine_similarity: 0.0516\n",
            "Epoch 194/1000\n",
            "27/27 [==============================] - 2s 82ms/step - loss: 0.1605 - mean_absolute_error: 0.1072 - mean_squared_logarithmic_error: 0.0200 - cosine_similarity: 0.0533\n",
            "Epoch 195/1000\n",
            "27/27 [==============================] - 2s 81ms/step - loss: 0.1384 - mean_absolute_error: 0.1048 - mean_squared_logarithmic_error: 0.0191 - cosine_similarity: 0.0594\n",
            "Epoch 196/1000\n",
            "27/27 [==============================] - 2s 82ms/step - loss: 0.1393 - mean_absolute_error: 0.1019 - mean_squared_logarithmic_error: 0.0194 - cosine_similarity: 0.0666\n",
            "Epoch 197/1000\n",
            "27/27 [==============================] - 2s 81ms/step - loss: 0.1364 - mean_absolute_error: 0.0983 - mean_squared_logarithmic_error: 0.0181 - cosine_similarity: 0.0676\n",
            "Epoch 198/1000\n",
            "27/27 [==============================] - 2s 81ms/step - loss: 0.1721 - mean_absolute_error: 0.1035 - mean_squared_logarithmic_error: 0.0205 - cosine_similarity: 0.0746\n",
            "Epoch 199/1000\n",
            "27/27 [==============================] - 2s 82ms/step - loss: 0.2377 - mean_absolute_error: 0.1110 - mean_squared_logarithmic_error: 0.0220 - cosine_similarity: 0.0657\n",
            "Epoch 200/1000\n",
            "27/27 [==============================] - 2s 80ms/step - loss: 0.3362 - mean_absolute_error: 0.1192 - mean_squared_logarithmic_error: 0.0238 - cosine_similarity: 0.0626\n",
            "Epoch 201/1000\n",
            "27/27 [==============================] - 2s 80ms/step - loss: 0.6440 - mean_absolute_error: 0.1428 - mean_squared_logarithmic_error: 0.0286 - cosine_similarity: 0.0475\n",
            "Epoch 202/1000\n",
            "27/27 [==============================] - 2s 82ms/step - loss: 0.7547 - mean_absolute_error: 0.1646 - mean_squared_logarithmic_error: 0.0312 - cosine_similarity: 0.0381\n",
            "Epoch 203/1000\n",
            "27/27 [==============================] - 2s 82ms/step - loss: 1.3197 - mean_absolute_error: 0.1888 - mean_squared_logarithmic_error: 0.0372 - cosine_similarity: 0.0285\n",
            "Epoch 204/1000\n",
            "27/27 [==============================] - 2s 82ms/step - loss: 0.6103 - mean_absolute_error: 0.1973 - mean_squared_logarithmic_error: 0.0372 - cosine_similarity: 0.0284\n",
            "Epoch 205/1000\n",
            "27/27 [==============================] - 2s 81ms/step - loss: 0.2119 - mean_absolute_error: 0.1423 - mean_squared_logarithmic_error: 0.0262 - cosine_similarity: 0.0232\n",
            "Epoch 206/1000\n",
            "27/27 [==============================] - 2s 84ms/step - loss: 0.6981 - mean_absolute_error: 0.1948 - mean_squared_logarithmic_error: 0.0402 - cosine_similarity: 0.0351\n",
            "Epoch 207/1000\n",
            "27/27 [==============================] - 2s 81ms/step - loss: 0.4453 - mean_absolute_error: 0.1827 - mean_squared_logarithmic_error: 0.0380 - cosine_similarity: 0.0198\n",
            "Epoch 208/1000\n",
            "27/27 [==============================] - 2s 83ms/step - loss: 0.4055 - mean_absolute_error: 0.1716 - mean_squared_logarithmic_error: 0.0357 - cosine_similarity: 0.0436\n",
            "Epoch 209/1000\n",
            "27/27 [==============================] - 2s 81ms/step - loss: 0.3891 - mean_absolute_error: 0.1811 - mean_squared_logarithmic_error: 0.0381 - cosine_similarity: 0.0201\n",
            "Epoch 210/1000\n",
            "27/27 [==============================] - 2s 82ms/step - loss: 0.3920 - mean_absolute_error: 0.1775 - mean_squared_logarithmic_error: 0.0376 - cosine_similarity: 0.0491\n",
            "Epoch 211/1000\n",
            "27/27 [==============================] - 2s 81ms/step - loss: 0.3945 - mean_absolute_error: 0.1822 - mean_squared_logarithmic_error: 0.0377 - cosine_similarity: 0.0277\n",
            "Epoch 212/1000\n",
            "27/27 [==============================] - 2s 80ms/step - loss: 0.3888 - mean_absolute_error: 0.1812 - mean_squared_logarithmic_error: 0.0365 - cosine_similarity: 0.0380\n",
            "Epoch 213/1000\n",
            "27/27 [==============================] - 2s 81ms/step - loss: 0.4067 - mean_absolute_error: 0.1875 - mean_squared_logarithmic_error: 0.0376 - cosine_similarity: 0.0289\n",
            "Epoch 214/1000\n",
            "27/27 [==============================] - 2s 82ms/step - loss: 0.4456 - mean_absolute_error: 0.1940 - mean_squared_logarithmic_error: 0.0384 - cosine_similarity: 0.0299\n",
            "Epoch 215/1000\n",
            "27/27 [==============================] - 2s 83ms/step - loss: 0.5217 - mean_absolute_error: 0.2086 - mean_squared_logarithmic_error: 0.0413 - cosine_similarity: 0.0339\n",
            "Epoch 216/1000\n",
            "27/27 [==============================] - 2s 84ms/step - loss: 0.4968 - mean_absolute_error: 0.2037 - mean_squared_logarithmic_error: 0.0374 - cosine_similarity: 0.0132\n",
            "Epoch 217/1000\n",
            "27/27 [==============================] - 2s 82ms/step - loss: 0.5303 - mean_absolute_error: 0.2138 - mean_squared_logarithmic_error: 0.0389 - cosine_similarity: 0.0394\n",
            "Epoch 218/1000\n",
            "27/27 [==============================] - 2s 80ms/step - loss: 0.6662 - mean_absolute_error: 0.2404 - mean_squared_logarithmic_error: 0.0459 - cosine_similarity: 0.0025\n",
            "Epoch 219/1000\n",
            "27/27 [==============================] - 2s 80ms/step - loss: 0.7186 - mean_absolute_error: 0.2460 - mean_squared_logarithmic_error: 0.0472 - cosine_similarity: 0.0348\n",
            "Epoch 220/1000\n",
            "27/27 [==============================] - 2s 82ms/step - loss: 0.8092 - mean_absolute_error: 0.2637 - mean_squared_logarithmic_error: 0.0515 - cosine_similarity: -0.0024\n",
            "Epoch 221/1000\n",
            "27/27 [==============================] - 2s 82ms/step - loss: 1.0054 - mean_absolute_error: 0.2949 - mean_squared_logarithmic_error: 0.0590 - cosine_similarity: 0.0303\n",
            "Epoch 222/1000\n",
            "27/27 [==============================] - 2s 82ms/step - loss: 1.1240 - mean_absolute_error: 0.3098 - mean_squared_logarithmic_error: 0.0601 - cosine_similarity: -0.0049\n",
            "Epoch 223/1000\n",
            "27/27 [==============================] - 2s 81ms/step - loss: 1.4426 - mean_absolute_error: 0.3539 - mean_squared_logarithmic_error: 0.0718 - cosine_similarity: 0.0227\n",
            "Epoch 224/1000\n",
            "27/27 [==============================] - 2s 82ms/step - loss: 1.9734 - mean_absolute_error: 0.4006 - mean_squared_logarithmic_error: 0.0807 - cosine_similarity: 0.0028\n",
            "Epoch 225/1000\n",
            "27/27 [==============================] - 2s 81ms/step - loss: 1.8796 - mean_absolute_error: 0.4072 - mean_squared_logarithmic_error: 0.0843 - cosine_similarity: 0.0085\n",
            "Epoch 226/1000\n",
            "27/27 [==============================] - 2s 82ms/step - loss: 1.7587 - mean_absolute_error: 0.3906 - mean_squared_logarithmic_error: 0.0779 - cosine_similarity: 0.0132\n",
            "Epoch 227/1000\n",
            "27/27 [==============================] - 2s 81ms/step - loss: 0.8576 - mean_absolute_error: 0.2969 - mean_squared_logarithmic_error: 0.0583 - cosine_similarity: 0.0095\n",
            "Epoch 228/1000\n",
            "27/27 [==============================] - 2s 82ms/step - loss: 0.4466 - mean_absolute_error: 0.2259 - mean_squared_logarithmic_error: 0.0413 - cosine_similarity: 0.0149\n",
            "Epoch 229/1000\n",
            "27/27 [==============================] - 2s 84ms/step - loss: 0.6440 - mean_absolute_error: 0.2505 - mean_squared_logarithmic_error: 0.0474 - cosine_similarity: 0.0246\n",
            "Epoch 230/1000\n",
            "27/27 [==============================] - 2s 83ms/step - loss: 0.6535 - mean_absolute_error: 0.2548 - mean_squared_logarithmic_error: 0.0476 - cosine_similarity: 0.0059\n",
            "Epoch 231/1000\n",
            "27/27 [==============================] - 2s 82ms/step - loss: 0.9624 - mean_absolute_error: 0.2945 - mean_squared_logarithmic_error: 0.0553 - cosine_similarity: 0.0194\n",
            "Epoch 232/1000\n",
            "27/27 [==============================] - 3s 95ms/step - loss: 1.5073 - mean_absolute_error: 0.3558 - mean_squared_logarithmic_error: 0.0694 - cosine_similarity: 0.0105\n",
            "Epoch 233/1000\n",
            "27/27 [==============================] - 3s 101ms/step - loss: 2.0128 - mean_absolute_error: 0.4052 - mean_squared_logarithmic_error: 0.0789 - cosine_similarity: 0.0097\n",
            "Epoch 234/1000\n",
            "27/27 [==============================] - 2s 82ms/step - loss: 2.3582 - mean_absolute_error: 0.4432 - mean_squared_logarithmic_error: 0.0876 - cosine_similarity: 0.0193\n",
            "Epoch 235/1000\n",
            "27/27 [==============================] - 2s 82ms/step - loss: 2.1652 - mean_absolute_error: 0.4228 - mean_squared_logarithmic_error: 0.0810 - cosine_similarity: 1.3675e-04\n",
            "Epoch 236/1000\n",
            "27/27 [==============================] - 2s 83ms/step - loss: 1.9382 - mean_absolute_error: 0.3931 - mean_squared_logarithmic_error: 0.0749 - cosine_similarity: 0.0235\n",
            "Epoch 237/1000\n",
            "27/27 [==============================] - 2s 82ms/step - loss: 1.3004 - mean_absolute_error: 0.3386 - mean_squared_logarithmic_error: 0.0625 - cosine_similarity: 2.9162e-04\n",
            "Epoch 238/1000\n",
            "27/27 [==============================] - 2s 82ms/step - loss: 0.8167 - mean_absolute_error: 0.2803 - mean_squared_logarithmic_error: 0.0505 - cosine_similarity: 0.0230\n",
            "Epoch 239/1000\n",
            "27/27 [==============================] - 2s 82ms/step - loss: 0.3923 - mean_absolute_error: 0.2165 - mean_squared_logarithmic_error: 0.0366 - cosine_similarity: 0.0071\n",
            "Epoch 240/1000\n",
            "27/27 [==============================] - 2s 81ms/step - loss: 0.2116 - mean_absolute_error: 0.1626 - mean_squared_logarithmic_error: 0.0263 - cosine_similarity: 0.0396\n",
            "Epoch 241/1000\n",
            "27/27 [==============================] - 2s 83ms/step - loss: 0.0948 - mean_absolute_error: 0.1137 - mean_squared_logarithmic_error: 0.0153 - cosine_similarity: 0.0139\n",
            "Epoch 242/1000\n",
            "27/27 [==============================] - 2s 81ms/step - loss: 0.1279 - mean_absolute_error: 0.1118 - mean_squared_logarithmic_error: 0.0181 - cosine_similarity: 0.0594\n",
            "Epoch 243/1000\n",
            "27/27 [==============================] - 2s 85ms/step - loss: 0.0837 - mean_absolute_error: 0.0961 - mean_squared_logarithmic_error: 0.0142 - cosine_similarity: 0.0274\n",
            "Epoch 244/1000\n",
            "27/27 [==============================] - 2s 83ms/step - loss: 0.0743 - mean_absolute_error: 0.0850 - mean_squared_logarithmic_error: 0.0124 - cosine_similarity: 0.0648\n",
            "Epoch 245/1000\n",
            "27/27 [==============================] - 2s 81ms/step - loss: 0.0712 - mean_absolute_error: 0.0824 - mean_squared_logarithmic_error: 0.0119 - cosine_similarity: 0.0486\n",
            "Epoch 246/1000\n",
            "27/27 [==============================] - 2s 81ms/step - loss: 0.0703 - mean_absolute_error: 0.0751 - mean_squared_logarithmic_error: 0.0106 - cosine_similarity: 0.0683\n",
            "Epoch 247/1000\n",
            "27/27 [==============================] - 2s 84ms/step - loss: 0.0813 - mean_absolute_error: 0.0805 - mean_squared_logarithmic_error: 0.0116 - cosine_similarity: 0.0574\n",
            "Epoch 248/1000\n",
            "27/27 [==============================] - 2s 81ms/step - loss: 0.0947 - mean_absolute_error: 0.0809 - mean_squared_logarithmic_error: 0.0121 - cosine_similarity: 0.0609\n",
            "Epoch 249/1000\n",
            "27/27 [==============================] - 2s 81ms/step - loss: 0.1082 - mean_absolute_error: 0.0844 - mean_squared_logarithmic_error: 0.0126 - cosine_similarity: 0.0621\n",
            "Epoch 250/1000\n",
            "27/27 [==============================] - 2s 83ms/step - loss: 0.1343 - mean_absolute_error: 0.0899 - mean_squared_logarithmic_error: 0.0139 - cosine_similarity: 0.0474\n",
            "Epoch 251/1000\n",
            "27/27 [==============================] - 2s 82ms/step - loss: 0.1413 - mean_absolute_error: 0.0917 - mean_squared_logarithmic_error: 0.0137 - cosine_similarity: 0.0558\n",
            "Epoch 252/1000\n",
            "27/27 [==============================] - 2s 83ms/step - loss: 0.1797 - mean_absolute_error: 0.0986 - mean_squared_logarithmic_error: 0.0155 - cosine_similarity: 0.0384\n",
            "Epoch 253/1000\n",
            "27/27 [==============================] - 2s 83ms/step - loss: 0.1815 - mean_absolute_error: 0.1032 - mean_squared_logarithmic_error: 0.0161 - cosine_similarity: 0.0471\n",
            "Epoch 254/1000\n",
            "27/27 [==============================] - 2s 84ms/step - loss: 0.1354 - mean_absolute_error: 0.0906 - mean_squared_logarithmic_error: 0.0122 - cosine_similarity: 0.0349\n",
            "Epoch 255/1000\n",
            "27/27 [==============================] - 2s 81ms/step - loss: 0.1940 - mean_absolute_error: 0.1108 - mean_squared_logarithmic_error: 0.0180 - cosine_similarity: 0.0423\n",
            "Epoch 256/1000\n",
            "27/27 [==============================] - 2s 82ms/step - loss: 0.2008 - mean_absolute_error: 0.1141 - mean_squared_logarithmic_error: 0.0188 - cosine_similarity: 0.0323\n",
            "Epoch 257/1000\n",
            "27/27 [==============================] - 2s 84ms/step - loss: 0.1727 - mean_absolute_error: 0.1106 - mean_squared_logarithmic_error: 0.0173 - cosine_similarity: 0.0430\n",
            "Epoch 258/1000\n",
            "27/27 [==============================] - 2s 82ms/step - loss: 0.2307 - mean_absolute_error: 0.1272 - mean_squared_logarithmic_error: 0.0223 - cosine_similarity: 0.0301\n",
            "Epoch 259/1000\n",
            "27/27 [==============================] - 2s 82ms/step - loss: 0.2785 - mean_absolute_error: 0.1342 - mean_squared_logarithmic_error: 0.0247 - cosine_similarity: 0.0365\n",
            "Epoch 260/1000\n",
            "27/27 [==============================] - 2s 82ms/step - loss: 0.2566 - mean_absolute_error: 0.1401 - mean_squared_logarithmic_error: 0.0252 - cosine_similarity: 0.0250\n",
            "Epoch 261/1000\n",
            "27/27 [==============================] - 2s 82ms/step - loss: 0.3003 - mean_absolute_error: 0.1447 - mean_squared_logarithmic_error: 0.0264 - cosine_similarity: 0.0311\n",
            "Epoch 262/1000\n",
            "27/27 [==============================] - 2s 81ms/step - loss: 0.2488 - mean_absolute_error: 0.1454 - mean_squared_logarithmic_error: 0.0259 - cosine_similarity: 0.0216\n",
            "Epoch 263/1000\n",
            "27/27 [==============================] - 2s 81ms/step - loss: 0.2771 - mean_absolute_error: 0.1495 - mean_squared_logarithmic_error: 0.0276 - cosine_similarity: 0.0342\n",
            "Epoch 264/1000\n",
            "27/27 [==============================] - 2s 82ms/step - loss: 0.2672 - mean_absolute_error: 0.1537 - mean_squared_logarithmic_error: 0.0285 - cosine_similarity: 0.0254\n",
            "Epoch 265/1000\n",
            "27/27 [==============================] - 2s 82ms/step - loss: 0.2995 - mean_absolute_error: 0.1517 - mean_squared_logarithmic_error: 0.0284 - cosine_similarity: 0.0300\n",
            "Epoch 266/1000\n",
            "27/27 [==============================] - 2s 84ms/step - loss: 0.2621 - mean_absolute_error: 0.1458 - mean_squared_logarithmic_error: 0.0251 - cosine_similarity: 0.0454\n",
            "Epoch 267/1000\n",
            "27/27 [==============================] - 2s 82ms/step - loss: 0.4616 - mean_absolute_error: 0.1805 - mean_squared_logarithmic_error: 0.0347 - cosine_similarity: 0.0125\n",
            "Epoch 268/1000\n",
            "27/27 [==============================] - 2s 82ms/step - loss: 0.5920 - mean_absolute_error: 0.1947 - mean_squared_logarithmic_error: 0.0374 - cosine_similarity: 0.0418\n",
            "Epoch 269/1000\n",
            "27/27 [==============================] - 2s 83ms/step - loss: 0.7801 - mean_absolute_error: 0.2203 - mean_squared_logarithmic_error: 0.0428 - cosine_similarity: 0.0030\n",
            "Epoch 270/1000\n",
            "27/27 [==============================] - 2s 82ms/step - loss: 0.9989 - mean_absolute_error: 0.2489 - mean_squared_logarithmic_error: 0.0482 - cosine_similarity: 0.0355\n",
            "Epoch 271/1000\n",
            "27/27 [==============================] - 2s 83ms/step - loss: 1.0811 - mean_absolute_error: 0.2601 - mean_squared_logarithmic_error: 0.0490 - cosine_similarity: -0.0020\n",
            "Epoch 272/1000\n",
            "27/27 [==============================] - 2s 82ms/step - loss: 1.0594 - mean_absolute_error: 0.2674 - mean_squared_logarithmic_error: 0.0511 - cosine_similarity: 0.0332\n",
            "Epoch 273/1000\n",
            "27/27 [==============================] - 2s 83ms/step - loss: 0.8911 - mean_absolute_error: 0.2579 - mean_squared_logarithmic_error: 0.0484 - cosine_similarity: 0.0106\n",
            "Epoch 274/1000\n",
            "27/27 [==============================] - 2s 80ms/step - loss: 0.7144 - mean_absolute_error: 0.2346 - mean_squared_logarithmic_error: 0.0425 - cosine_similarity: 0.0219\n",
            "Epoch 275/1000\n",
            "27/27 [==============================] - 2s 82ms/step - loss: 0.5803 - mean_absolute_error: 0.2136 - mean_squared_logarithmic_error: 0.0375 - cosine_similarity: 0.0205\n",
            "Epoch 276/1000\n",
            "27/27 [==============================] - 2s 83ms/step - loss: 0.3931 - mean_absolute_error: 0.1819 - mean_squared_logarithmic_error: 0.0302 - cosine_similarity: 0.0186\n",
            "Epoch 277/1000\n",
            "27/27 [==============================] - 2s 82ms/step - loss: 0.2076 - mean_absolute_error: 0.1322 - mean_squared_logarithmic_error: 0.0199 - cosine_similarity: 0.0266\n",
            "Epoch 278/1000\n",
            "27/27 [==============================] - 2s 81ms/step - loss: 0.1168 - mean_absolute_error: 0.1021 - mean_squared_logarithmic_error: 0.0151 - cosine_similarity: 0.0335\n",
            "Epoch 279/1000\n",
            "27/27 [==============================] - 2s 83ms/step - loss: 0.0617 - mean_absolute_error: 0.0721 - mean_squared_logarithmic_error: 0.0097 - cosine_similarity: 0.0507\n",
            "Epoch 280/1000\n",
            "27/27 [==============================] - 2s 83ms/step - loss: 0.0450 - mean_absolute_error: 0.0618 - mean_squared_logarithmic_error: 0.0081 - cosine_similarity: 0.0654\n",
            "Epoch 281/1000\n",
            "27/27 [==============================] - 2s 83ms/step - loss: 0.0316 - mean_absolute_error: 0.0521 - mean_squared_logarithmic_error: 0.0062 - cosine_similarity: 0.0851\n",
            "Epoch 282/1000\n",
            "16/27 [================>.............] - ETA: 0s - loss: 0.0308 - mean_absolute_error: 0.0535 - mean_squared_logarithmic_error: 0.0064 - cosine_similarity: 0.0873"
          ]
        }
      ],
      "source": [
        "filepath_old = '/content/drive/MyDrive/Deep Learning/Music Generator/DAE_best_model_3.hdf5'\n",
        "\n",
        "with tf.device('/GPU:0'):\n",
        "  # DAE_model = load_model(filepath_old)\n",
        "  DAE_history = DAE_model.fit(DAE_data_generator1(songs, batchsize), steps_per_epoch=estimateNumberOfSamples(songs, 0, 5)/batchsize, epochs=1000, callbacks=[checkpoint]).history\n",
        "  DAE_model = load_model(filepath)"
      ]
    },
    {
      "cell_type": "code",
      "execution_count": null,
      "metadata": {
        "id": "aV3853-11djG"
      },
      "outputs": [],
      "source": [
        "DAE_model = load_model(filepath)"
      ]
    },
    {
      "cell_type": "code",
      "execution_count": null,
      "metadata": {
        "colab": {
          "base_uri": "https://localhost:8080/"
        },
        "id": "nm_WiatfZuff",
        "outputId": "6793275a-637d-448b-cf8f-597285a29d34"
      },
      "outputs": [
        {
          "output_type": "stream",
          "name": "stdout",
          "text": [
            "X_test=  [-0.00090682 -0.02104415  0.02712481 ...  0.00014189 -0.00020377\n",
            " -0.00030586]\n",
            "y_test_true=  [ 0.00558981 -0.01113711  0.02105595 ...  0.00012396  0.00011809\n",
            "  0.00010467]\n",
            "y_test_pred=  [-0.04421364  0.20197463 -0.2910446  ... -0.11576898 -0.0268769\n",
            " -0.27270103]\n",
            "differention=  [-0.04980345  0.21311174 -0.31210056 ... -0.11589294 -0.02699499\n",
            " -0.2728057 ]\n"
          ]
        }
      ],
      "source": [
        "X_test = songs[0]\n",
        "pieces = 3\n",
        "song_pieces = splitToSpecificLength(X_test, pieces)\n",
        "X_test = song_pieces[15]\n",
        "X_test_wav = appendNotes(X_test, notes, notesLabel)\n",
        "X_test_pad = addPadding(X_test_wav)\n",
        "X_test = AddNoiseToPiece(X_test_pad, noises[16], 0.25)\n",
        "#X_test = X_test_pad\n",
        "wavfile.write('input.wav', sample_rate, X_test)\n",
        "\n",
        "y_test_true = X_test_pad\n",
        "X_test = np.array([X_test])\n",
        "y_test_pred = DAE_model.predict(X_test)\n",
        "\n",
        "\n",
        "print('X_test= ', X_test[0])\n",
        "print('y_test_true= ', y_test_true)\n",
        "print('y_test_pred= ', y_test_pred[0])\n",
        "\n",
        "wavfile.write('output_true.wav', sample_rate, y_test_true)\n",
        "wavfile.write('output_pred.wav', sample_rate, y_test_pred[0])\n",
        "\n",
        "\n",
        "differention = np.subtract(y_test_pred[0], y_test_true)\n",
        "print('differention= ', differention)\n",
        "\n",
        "# y_pred = DAE_model.predict(X_test)\n",
        "# wavfile.write('pred.wav', 4200, y_pred[0])"
      ]
    },
    {
      "cell_type": "markdown",
      "metadata": {
        "id": "jHKA9UHazJkI"
      },
      "source": [
        "# **Note Recognition**"
      ]
    },
    {
      "cell_type": "markdown",
      "metadata": {
        "id": "vIqIjSi41bS8"
      },
      "source": [
        "## **Preprocessing**"
      ]
    },
    {
      "cell_type": "markdown",
      "metadata": {
        "id": "79U9x_Su2BnO"
      },
      "source": [
        "**Read Note name from Piano Triads folder**"
      ]
    },
    {
      "cell_type": "code",
      "execution_count": null,
      "metadata": {
        "id": "Oumdc-C7zF2e"
      },
      "outputs": [],
      "source": [
        "notesPath = '/content/drive/MyDrive/Deep Learning/Music Generator/piano_triads'"
      ]
    },
    {
      "cell_type": "code",
      "execution_count": null,
      "metadata": {
        "colab": {
          "base_uri": "https://localhost:8080/"
        },
        "id": "wHF-t_-v6qJg",
        "outputId": "e473683b-6efa-4b7c-b2ad-74ac05cfaf97"
      },
      "outputs": [
        {
          "output_type": "execute_result",
          "data": {
            "text/plain": [
              "((432, 12000), (432,))"
            ]
          },
          "metadata": {},
          "execution_count": 79
        }
      ],
      "source": [
        "note = []\n",
        "noteLabel = []\n",
        "noteDic = {}\n",
        "sample_rate = 4000\n",
        "i = 0\n",
        "for filename in os.listdir(notesPath):\n",
        "  # data = sps.resample(wavfile.read(path+'/'+filename)[1], note_sample_rate)\n",
        "  data = librosa.load(notesPath + '/'+ filename, sr=sample_rate, dtype=np.float32)[0]\n",
        "  note.append(data)\n",
        "  noteLabel.append(filename[:-4])\n",
        "  noteDic[filename[:-4]] = i\n",
        "  i += 1\n",
        "\n",
        "note = np.array(note)\n",
        "noteLabel = np.array(noteLabel)\n",
        "\n",
        "note.shape, noteLabel.shape"
      ]
    },
    {
      "cell_type": "code",
      "execution_count": null,
      "metadata": {
        "id": "dTTfTvp-pOvi",
        "colab": {
          "base_uri": "https://localhost:8080/"
        },
        "outputId": "7bed8aca-0571-4d28-9e57-78ccb77b0229"
      },
      "outputs": [
        {
          "output_type": "execute_result",
          "data": {
            "text/plain": [
              "(432, 432)"
            ]
          },
          "metadata": {},
          "execution_count": 80
        }
      ],
      "source": [
        "# create y true for each note\n",
        "# A_dim_2_0\n",
        "y_true_NR = []\n",
        "\n",
        "for label in noteLabel:\n",
        "  labelEncoded = noteDic[label]\n",
        "  labelEncoded_HOT = to_categorical(labelEncoded, num_classes=len(noteDic))\n",
        "  y_true_NR.append(labelEncoded_HOT)\n",
        "\n",
        "y_true_NR = np.array(y_true_NR)\n",
        "\n",
        "X_NR = note\n",
        "\n",
        "y_true_NR.shape"
      ]
    },
    {
      "cell_type": "markdown",
      "metadata": {
        "id": "plg3bsOfjJYn"
      },
      "source": [
        "### **Data Augmentation**"
      ]
    },
    {
      "cell_type": "markdown",
      "metadata": {
        "id": "WuHsZrgdmTgO"
      },
      "source": [
        "#### **Noise Injection**"
      ]
    },
    {
      "cell_type": "markdown",
      "source": [
        "**medium noise**"
      ],
      "metadata": {
        "id": "utHF2z15vUua"
      }
    },
    {
      "cell_type": "code",
      "execution_count": null,
      "metadata": {
        "id": "mrkgcZtdixXO",
        "colab": {
          "base_uri": "https://localhost:8080/"
        },
        "outputId": "96f1c46c-df75-43b3-f19a-7895ec2c81be"
      },
      "outputs": [
        {
          "output_type": "execute_result",
          "data": {
            "text/plain": [
              "((864, 12000), (864, 432))"
            ]
          },
          "metadata": {},
          "execution_count": 81
        }
      ],
      "source": [
        "y_true_NR_aug = y_true_NR\n",
        "for i in range(len(note)):\n",
        "  noise = np.random.randn(len(note[i]))*0.01\n",
        "  X_NR = np.append(X_NR, [noise+note[i]], axis=0)\n",
        "  y_true_NR_aug = np.append(y_true_NR_aug, [y_true_NR[i]], axis=0)\n",
        "\n",
        "X_NR.shape, y_true_NR_aug.shape"
      ]
    },
    {
      "cell_type": "markdown",
      "source": [
        "**high noise**"
      ],
      "metadata": {
        "id": "I2DCCZKPvrMW"
      }
    },
    {
      "cell_type": "code",
      "source": [
        "for i in range(len(note)):\n",
        "  noise = np.random.randn(len(note[i]))*0.02\n",
        "  X_NR = np.append(X_NR, [noise+note[i]], axis=0)\n",
        "  y_true_NR_aug = np.append(y_true_NR_aug, [y_true_NR[i]], axis=0)\n",
        "\n",
        "X_NR.shape, y_true_NR_aug.shape"
      ],
      "metadata": {
        "colab": {
          "base_uri": "https://localhost:8080/"
        },
        "id": "6S2jgcYCrX7b",
        "outputId": "6a88811d-1307-465d-de36-cef5457bb3bd"
      },
      "execution_count": null,
      "outputs": [
        {
          "output_type": "execute_result",
          "data": {
            "text/plain": [
              "((1296, 12000), (1296, 432))"
            ]
          },
          "metadata": {},
          "execution_count": 82
        }
      ]
    },
    {
      "cell_type": "code",
      "source": [
        "for i in range(len(note)):\n",
        "  noise = np.random.randn(len(note[i]))*0.015\n",
        "  X_NR = np.append(X_NR, [noise+note[i]], axis=0)\n",
        "  y_true_NR_aug = np.append(y_true_NR_aug, [y_true_NR[i]], axis=0)\n",
        "\n",
        "X_NR.shape, y_true_NR_aug.shape"
      ],
      "metadata": {
        "colab": {
          "base_uri": "https://localhost:8080/"
        },
        "id": "cEY4tfwxwsmf",
        "outputId": "3863faaa-8164-4079-a833-fc29dea2cca5"
      },
      "execution_count": null,
      "outputs": [
        {
          "output_type": "execute_result",
          "data": {
            "text/plain": [
              "((1728, 12000), (1728, 432))"
            ]
          },
          "metadata": {},
          "execution_count": 83
        }
      ]
    },
    {
      "cell_type": "markdown",
      "source": [
        "**low noise**"
      ],
      "metadata": {
        "id": "efjar5b4vvmE"
      }
    },
    {
      "cell_type": "code",
      "source": [
        "for i in range(len(note)):\n",
        "  noise = np.random.randn(len(note[i]))*0.005\n",
        "  X_NR = np.append(X_NR, [noise+note[i]], axis=0)\n",
        "  y_true_NR_aug = np.append(y_true_NR_aug, [y_true_NR[i]], axis=0)\n",
        "\n",
        "X_NR.shape, y_true_NR_aug.shape"
      ],
      "metadata": {
        "colab": {
          "base_uri": "https://localhost:8080/"
        },
        "id": "iobNAp6Krzap",
        "outputId": "a8d35952-17d0-485f-bb7c-c9992be6aec7"
      },
      "execution_count": null,
      "outputs": [
        {
          "output_type": "execute_result",
          "data": {
            "text/plain": [
              "((2160, 12000), (2160, 432))"
            ]
          },
          "metadata": {},
          "execution_count": 84
        }
      ]
    },
    {
      "cell_type": "markdown",
      "metadata": {
        "id": "NmUGeK9MoHyt"
      },
      "source": [
        "####**Changing Pitch**"
      ]
    },
    {
      "cell_type": "markdown",
      "source": [
        "**low pitch shift**"
      ],
      "metadata": {
        "id": "4DBDyJtpvysG"
      }
    },
    {
      "cell_type": "code",
      "execution_count": null,
      "metadata": {
        "id": "MMsP-nyyoHN6",
        "colab": {
          "base_uri": "https://localhost:8080/"
        },
        "outputId": "a130d385-49cf-421b-b848-64d9927ae032"
      },
      "outputs": [
        {
          "output_type": "execute_result",
          "data": {
            "text/plain": [
              "((2592, 12000), (2592, 432))"
            ]
          },
          "metadata": {},
          "execution_count": 85
        }
      ],
      "source": [
        "for i in range(len(note)):\n",
        "  data = librosa.effects.pitch_shift(note[i], sample_rate, n_steps=12)\n",
        "  X_NR = np.append(X_NR, [data], axis=0)\n",
        "  y_true_NR_aug = np.append(y_true_NR_aug, [y_true_NR[i]], axis=0)\n",
        "\n",
        "X_NR.shape, y_true_NR_aug.shape"
      ]
    },
    {
      "cell_type": "markdown",
      "source": [
        "**high pitch shift**"
      ],
      "metadata": {
        "id": "WuWm7k-8v2RS"
      }
    },
    {
      "cell_type": "code",
      "source": [
        "for i in range(len(note)):\n",
        "  data = librosa.effects.pitch_shift(note[i], sample_rate, n_steps=20)\n",
        "  X_NR = np.append(X_NR, [data], axis=0)\n",
        "  y_true_NR_aug = np.append(y_true_NR_aug, [y_true_NR[i]], axis=0)\n",
        "\n",
        "X_NR.shape, y_true_NR_aug.shape"
      ],
      "metadata": {
        "colab": {
          "base_uri": "https://localhost:8080/"
        },
        "id": "a4rSdZC5sKS4",
        "outputId": "25dd104d-468a-4b81-90e9-627ae6e2e0bf"
      },
      "execution_count": null,
      "outputs": [
        {
          "output_type": "execute_result",
          "data": {
            "text/plain": [
              "((3024, 12000), (3024, 432))"
            ]
          },
          "metadata": {},
          "execution_count": 86
        }
      ]
    },
    {
      "cell_type": "markdown",
      "metadata": {
        "id": "1t344qwo0F-o"
      },
      "source": [
        "#### **Change Volume**"
      ]
    },
    {
      "cell_type": "markdown",
      "source": [
        "**increase volume**"
      ],
      "metadata": {
        "id": "aaJUGZZ0v6FE"
      }
    },
    {
      "cell_type": "code",
      "execution_count": null,
      "metadata": {
        "id": "d-0cva4i0Kcq",
        "colab": {
          "base_uri": "https://localhost:8080/"
        },
        "outputId": "4f51a986-4e7b-4bce-ae0a-854ce80658b0"
      },
      "outputs": [
        {
          "output_type": "execute_result",
          "data": {
            "text/plain": [
              "((3456, 12000), (3456, 432))"
            ]
          },
          "metadata": {},
          "execution_count": 87
        }
      ],
      "source": [
        "for i in range(len(note)):\n",
        "  X_NR = np.append(X_NR, [note[i]*1.5], axis=0)\n",
        "  y_true_NR_aug = np.append(y_true_NR_aug, [y_true_NR[i]], axis=0)\n",
        "\n",
        "X_NR.shape, y_true_NR_aug.shape"
      ]
    },
    {
      "cell_type": "markdown",
      "source": [
        "**decrease volume**"
      ],
      "metadata": {
        "id": "K9ztf7T8v_kP"
      }
    },
    {
      "cell_type": "code",
      "source": [
        "for i in range(len(note)):\n",
        "  X_NR = np.append(X_NR, [note[i]*0.5], axis=0)\n",
        "  y_true_NR_aug = np.append(y_true_NR_aug, [y_true_NR[i]], axis=0)\n",
        "\n",
        "X_NR.shape, y_true_NR_aug.shape"
      ],
      "metadata": {
        "colab": {
          "base_uri": "https://localhost:8080/"
        },
        "id": "2QxhQNU5sm_6",
        "outputId": "9aca21c6-6477-479a-badd-29177e147eb6"
      },
      "execution_count": null,
      "outputs": [
        {
          "output_type": "execute_result",
          "data": {
            "text/plain": [
              "((3888, 12000), (3888, 432))"
            ]
          },
          "metadata": {},
          "execution_count": 88
        }
      ]
    },
    {
      "cell_type": "code",
      "source": [
        "for i in range(len(note)):\n",
        "  X_NR = np.append(X_NR, [note[i]*0.75], axis=0)\n",
        "  y_true_NR_aug = np.append(y_true_NR_aug, [y_true_NR[i]], axis=0)\n",
        "\n",
        "X_NR.shape, y_true_NR_aug.shape"
      ],
      "metadata": {
        "colab": {
          "base_uri": "https://localhost:8080/"
        },
        "id": "xPvfJ8zvs-rj",
        "outputId": "d3434496-d25e-42b7-8eb2-9ea5594ee6e6"
      },
      "execution_count": null,
      "outputs": [
        {
          "output_type": "execute_result",
          "data": {
            "text/plain": [
              "((4320, 12000), (4320, 432))"
            ]
          },
          "metadata": {},
          "execution_count": 89
        }
      ]
    },
    {
      "cell_type": "markdown",
      "source": [
        "### **Split Dataset**"
      ],
      "metadata": {
        "id": "KGWOhtvqgfQI"
      }
    },
    {
      "cell_type": "code",
      "source": [
        "X_train, X_test, y_train, y_test = train_test_split(X_NR, y_true_NR_aug, test_size=0.2)\n",
        "X_train.shape, y_train.shape, X_test.shape, y_test.shape"
      ],
      "metadata": {
        "colab": {
          "base_uri": "https://localhost:8080/"
        },
        "id": "4TlHAyIpgmAi",
        "outputId": "84e3d7aa-0f48-44be-e2a5-17a1326f67aa"
      },
      "execution_count": null,
      "outputs": [
        {
          "output_type": "execute_result",
          "data": {
            "text/plain": [
              "((3456, 12000), (3456, 432), (864, 12000), (864, 432))"
            ]
          },
          "metadata": {},
          "execution_count": 19
        }
      ]
    },
    {
      "cell_type": "markdown",
      "metadata": {
        "id": "xzGuRMZc2UUT"
      },
      "source": [
        "## **Implementation**"
      ]
    },
    {
      "cell_type": "code",
      "execution_count": null,
      "metadata": {
        "colab": {
          "base_uri": "https://localhost:8080/",
          "height": 644
        },
        "id": "O8No160X1Nft",
        "outputId": "bdeef6fd-811c-4554-fafa-762e5f99d235"
      },
      "outputs": [
        {
          "output_type": "execute_result",
          "data": {
            "text/plain": [
              "<IPython.core.display.Image object>"
            ],
            "image/png": "[encoded data removed]"
          },
          "metadata": {},
          "execution_count": 95
        }
      ],
      "source": [
        "input = Input(shape=(X_NR.shape[1],))\n",
        "x = Dense(128, activation='relu')(input)\n",
        "x = Dense(64, activation='relu')(x)\n",
        "x = Dense(64, activation='relu')(x)\n",
        "x = Dense(128, activation='sigmoid')(x)\n",
        "out = Dense(432, activation=\"softmax\")(x)\n",
        "\n",
        "NR_model = Model(inputs=input, outputs=out)\n",
        "\n",
        "# Compile the Model\n",
        "NR_model.compile(loss=\"categorical_crossentropy\", optimizer=Adam(0.001), metrics=['accuracy'])\n",
        "\n",
        "filepath = '/content/drive/MyDrive/Deep Learning/Music Generator/NR_best_model.hdf5'\n",
        "checkpoint = ModelCheckpoint(filepath=filepath,\n",
        "                              monitor='accuracy',\n",
        "                              verbose=0,\n",
        "                              save_best_only=True,\n",
        "                              mode='max')\n",
        "\n",
        "plot_model(NR_model, to_file=\"NR_model.png\", show_shapes=True)"
      ]
    },
    {
      "cell_type": "markdown",
      "source": [
        "## **NR Model**"
      ],
      "metadata": {
        "id": "US2y4cnYzL3I"
      }
    },
    {
      "cell_type": "code",
      "execution_count": null,
      "metadata": {
        "colab": {
          "base_uri": "https://localhost:8080/",
          "height": 1000
        },
        "id": "MBiuqpJr8NhN",
        "outputId": "0db68b68-0c9e-49f1-b840-123722cd17f5"
      },
      "outputs": [
        {
          "output_type": "stream",
          "name": "stdout",
          "text": [
            "Epoch 1/100\n",
            "54/54 - 2s - loss: 6.1425 - accuracy: 0.0052 - val_loss: 6.0642 - val_accuracy: 0.0104 - 2s/epoch - 36ms/step\n",
            "Epoch 2/100\n",
            "54/54 - 1s - loss: 5.8021 - accuracy: 0.0648 - val_loss: 5.7349 - val_accuracy: 0.0613 - 1s/epoch - 21ms/step\n",
            "Epoch 3/100\n",
            "54/54 - 1s - loss: 5.2617 - accuracy: 0.1875 - val_loss: 5.1700 - val_accuracy: 0.1586 - 1s/epoch - 22ms/step\n",
            "Epoch 4/100\n",
            "54/54 - 1s - loss: 4.5614 - accuracy: 0.3449 - val_loss: 4.5196 - val_accuracy: 0.2882 - 1s/epoch - 24ms/step\n",
            "Epoch 5/100\n",
            "54/54 - 2s - loss: 3.8418 - accuracy: 0.4890 - val_loss: 3.8698 - val_accuracy: 0.4051 - 2s/epoch - 35ms/step\n",
            "Epoch 6/100\n",
            "54/54 - 2s - loss: 3.2049 - accuracy: 0.5885 - val_loss: 3.2924 - val_accuracy: 0.4896 - 2s/epoch - 35ms/step\n",
            "Epoch 7/100\n",
            "54/54 - 1s - loss: 2.6536 - accuracy: 0.6826 - val_loss: 2.8075 - val_accuracy: 0.5486 - 1s/epoch - 22ms/step\n",
            "Epoch 8/100\n",
            "54/54 - 1s - loss: 2.2154 - accuracy: 0.7494 - val_loss: 2.4108 - val_accuracy: 0.6215 - 1s/epoch - 22ms/step\n",
            "Epoch 9/100\n",
            "54/54 - 1s - loss: 1.8627 - accuracy: 0.7946 - val_loss: 2.0874 - val_accuracy: 0.6725 - 1s/epoch - 22ms/step\n",
            "Epoch 10/100\n",
            "54/54 - 1s - loss: 1.5818 - accuracy: 0.8287 - val_loss: 1.8250 - val_accuracy: 0.7176 - 1s/epoch - 21ms/step\n",
            "Epoch 11/100\n",
            "54/54 - 1s - loss: 1.3627 - accuracy: 0.8530 - val_loss: 1.6305 - val_accuracy: 0.7338 - 1s/epoch - 22ms/step\n",
            "Epoch 12/100\n",
            "54/54 - 1s - loss: 1.1852 - accuracy: 0.8620 - val_loss: 1.4539 - val_accuracy: 0.7697 - 1s/epoch - 21ms/step\n",
            "Epoch 13/100\n",
            "54/54 - 1s - loss: 1.0370 - accuracy: 0.8747 - val_loss: 1.3197 - val_accuracy: 0.7824 - 1s/epoch - 21ms/step\n",
            "Epoch 14/100\n",
            "54/54 - 1s - loss: 0.9186 - accuracy: 0.8892 - val_loss: 1.2129 - val_accuracy: 0.8056 - 1s/epoch - 21ms/step\n",
            "Epoch 15/100\n",
            "54/54 - 1s - loss: 0.8169 - accuracy: 0.8990 - val_loss: 1.1135 - val_accuracy: 0.8009 - 1s/epoch - 20ms/step\n",
            "Epoch 16/100\n",
            "54/54 - 1s - loss: 0.7330 - accuracy: 0.9094 - val_loss: 1.0162 - val_accuracy: 0.8194 - 1s/epoch - 22ms/step\n",
            "Epoch 17/100\n",
            "54/54 - 1s - loss: 0.6558 - accuracy: 0.9146 - val_loss: 0.9384 - val_accuracy: 0.8264 - 1s/epoch - 21ms/step\n",
            "Epoch 18/100\n",
            "54/54 - 1s - loss: 0.5913 - accuracy: 0.9216 - val_loss: 0.8821 - val_accuracy: 0.8368 - 1s/epoch - 21ms/step\n",
            "Epoch 19/100\n",
            "54/54 - 1s - loss: 0.5426 - accuracy: 0.9277 - val_loss: 0.8285 - val_accuracy: 0.8426 - 1s/epoch - 21ms/step\n",
            "Epoch 20/100\n",
            "54/54 - 1s - loss: 0.4911 - accuracy: 0.9314 - val_loss: 0.7890 - val_accuracy: 0.8403 - 1s/epoch - 20ms/step\n",
            "Epoch 21/100\n",
            "54/54 - 1s - loss: 0.4464 - accuracy: 0.9421 - val_loss: 0.7451 - val_accuracy: 0.8600 - 1s/epoch - 22ms/step\n",
            "Epoch 22/100\n",
            "54/54 - 1s - loss: 0.4116 - accuracy: 0.9459 - val_loss: 0.6999 - val_accuracy: 0.8623 - 1s/epoch - 21ms/step\n",
            "Epoch 23/100\n",
            "54/54 - 1s - loss: 0.3759 - accuracy: 0.9543 - val_loss: 0.6685 - val_accuracy: 0.8738 - 1s/epoch - 21ms/step\n",
            "Epoch 24/100\n",
            "54/54 - 1s - loss: 0.3453 - accuracy: 0.9578 - val_loss: 0.6368 - val_accuracy: 0.8715 - 1s/epoch - 19ms/step\n",
            "Epoch 25/100\n",
            "54/54 - 1s - loss: 0.3229 - accuracy: 0.9609 - val_loss: 0.6179 - val_accuracy: 0.8727 - 1s/epoch - 19ms/step\n",
            "Epoch 26/100\n",
            "54/54 - 1s - loss: 0.2996 - accuracy: 0.9609 - val_loss: 0.5785 - val_accuracy: 0.8866 - 1s/epoch - 21ms/step\n",
            "Epoch 27/100\n",
            "54/54 - 1s - loss: 0.2744 - accuracy: 0.9705 - val_loss: 0.5568 - val_accuracy: 0.8889 - 1s/epoch - 22ms/step\n",
            "Epoch 28/100\n",
            "54/54 - 1s - loss: 0.2563 - accuracy: 0.9696 - val_loss: 0.5366 - val_accuracy: 0.8889 - 1s/epoch - 19ms/step\n",
            "Epoch 29/100\n",
            "54/54 - 1s - loss: 0.2379 - accuracy: 0.9719 - val_loss: 0.5153 - val_accuracy: 0.8912 - 1s/epoch - 21ms/step\n",
            "Epoch 30/100\n",
            "54/54 - 1s - loss: 0.2228 - accuracy: 0.9771 - val_loss: 0.4960 - val_accuracy: 0.8900 - 1s/epoch - 19ms/step\n",
            "Epoch 31/100\n",
            "54/54 - 1s - loss: 0.2080 - accuracy: 0.9769 - val_loss: 0.4813 - val_accuracy: 0.8970 - 1s/epoch - 22ms/step\n",
            "Epoch 32/100\n",
            "54/54 - 1s - loss: 0.1946 - accuracy: 0.9777 - val_loss: 0.4692 - val_accuracy: 0.8935 - 1s/epoch - 19ms/step\n",
            "Epoch 33/100\n",
            "54/54 - 1s - loss: 0.1825 - accuracy: 0.9797 - val_loss: 0.4640 - val_accuracy: 0.8889 - 999ms/epoch - 19ms/step\n",
            "Epoch 34/100\n",
            "54/54 - 1s - loss: 0.1726 - accuracy: 0.9786 - val_loss: 0.4432 - val_accuracy: 0.8993 - 1s/epoch - 21ms/step\n",
            "Epoch 35/100\n",
            "54/54 - 1s - loss: 0.1607 - accuracy: 0.9821 - val_loss: 0.4321 - val_accuracy: 0.9005 - 1s/epoch - 22ms/step\n",
            "Epoch 36/100\n",
            "54/54 - 1s - loss: 0.1500 - accuracy: 0.9812 - val_loss: 0.4213 - val_accuracy: 0.9005 - 1s/epoch - 20ms/step\n",
            "Epoch 37/100\n",
            "54/54 - 1s - loss: 0.1450 - accuracy: 0.9832 - val_loss: 0.4061 - val_accuracy: 0.9155 - 1s/epoch - 22ms/step\n",
            "Epoch 38/100\n",
            "54/54 - 1s - loss: 0.1359 - accuracy: 0.9852 - val_loss: 0.3965 - val_accuracy: 0.9062 - 1s/epoch - 20ms/step\n",
            "Epoch 39/100\n",
            "54/54 - 1s - loss: 0.1283 - accuracy: 0.9829 - val_loss: 0.3958 - val_accuracy: 0.9109 - 1s/epoch - 19ms/step\n",
            "Epoch 40/100\n",
            "54/54 - 1s - loss: 0.1228 - accuracy: 0.9826 - val_loss: 0.3888 - val_accuracy: 0.9016 - 1s/epoch - 19ms/step\n",
            "Epoch 41/100\n",
            "54/54 - 1s - loss: 0.1139 - accuracy: 0.9838 - val_loss: 0.3739 - val_accuracy: 0.9167 - 1s/epoch - 22ms/step\n",
            "Epoch 42/100\n",
            "54/54 - 1s - loss: 0.1075 - accuracy: 0.9855 - val_loss: 0.3620 - val_accuracy: 0.9132 - 1s/epoch - 19ms/step\n",
            "Epoch 43/100\n",
            "54/54 - 1s - loss: 0.1050 - accuracy: 0.9835 - val_loss: 0.3747 - val_accuracy: 0.9132 - 1s/epoch - 19ms/step\n",
            "Epoch 44/100\n",
            "54/54 - 1s - loss: 0.0983 - accuracy: 0.9870 - val_loss: 0.3515 - val_accuracy: 0.9178 - 1s/epoch - 22ms/step\n",
            "Epoch 45/100\n",
            "54/54 - 1s - loss: 0.0906 - accuracy: 0.9878 - val_loss: 0.3542 - val_accuracy: 0.9167 - 1s/epoch - 19ms/step\n",
            "Epoch 46/100\n",
            "54/54 - 1s - loss: 0.0889 - accuracy: 0.9864 - val_loss: 0.3523 - val_accuracy: 0.9109 - 1s/epoch - 20ms/step\n",
            "Epoch 47/100\n",
            "54/54 - 1s - loss: 0.0893 - accuracy: 0.9855 - val_loss: 0.3382 - val_accuracy: 0.9201 - 1s/epoch - 21ms/step\n",
            "Epoch 48/100\n",
            "54/54 - 1s - loss: 0.0825 - accuracy: 0.9861 - val_loss: 0.3463 - val_accuracy: 0.9178 - 1s/epoch - 19ms/step\n",
            "Epoch 49/100\n",
            "54/54 - 1s - loss: 0.0807 - accuracy: 0.9878 - val_loss: 0.3337 - val_accuracy: 0.9213 - 1s/epoch - 21ms/step\n",
            "Epoch 50/100\n",
            "54/54 - 1s - loss: 0.0756 - accuracy: 0.9873 - val_loss: 0.3310 - val_accuracy: 0.9225 - 1s/epoch - 22ms/step\n",
            "Epoch 51/100\n",
            "54/54 - 1s - loss: 0.0742 - accuracy: 0.9887 - val_loss: 0.3333 - val_accuracy: 0.9236 - 1s/epoch - 21ms/step\n",
            "Epoch 52/100\n",
            "54/54 - 1s - loss: 0.0721 - accuracy: 0.9890 - val_loss: 0.3385 - val_accuracy: 0.9097 - 1s/epoch - 19ms/step\n",
            "Epoch 53/100\n",
            "54/54 - 1s - loss: 0.0676 - accuracy: 0.9870 - val_loss: 0.3245 - val_accuracy: 0.9132 - 1s/epoch - 19ms/step\n",
            "Epoch 54/100\n",
            "54/54 - 1s - loss: 0.0667 - accuracy: 0.9870 - val_loss: 0.3180 - val_accuracy: 0.9225 - 1s/epoch - 19ms/step\n",
            "Epoch 55/100\n",
            "54/54 - 1s - loss: 0.0628 - accuracy: 0.9887 - val_loss: 0.3213 - val_accuracy: 0.9167 - 1s/epoch - 19ms/step\n",
            "Epoch 56/100\n",
            "54/54 - 1s - loss: 0.0631 - accuracy: 0.9881 - val_loss: 0.3256 - val_accuracy: 0.9190 - 1s/epoch - 20ms/step\n",
            "Epoch 57/100\n",
            "54/54 - 1s - loss: 0.0628 - accuracy: 0.9878 - val_loss: 0.3182 - val_accuracy: 0.9225 - 1s/epoch - 20ms/step\n",
            "Epoch 58/100\n",
            "54/54 - 1s - loss: 0.0612 - accuracy: 0.9873 - val_loss: 0.3268 - val_accuracy: 0.9259 - 1s/epoch - 22ms/step\n",
            "Epoch 59/100\n",
            "54/54 - 1s - loss: 0.0571 - accuracy: 0.9884 - val_loss: 0.3236 - val_accuracy: 0.9201 - 1s/epoch - 19ms/step\n",
            "Epoch 60/100\n",
            "54/54 - 1s - loss: 0.0555 - accuracy: 0.9902 - val_loss: 0.3076 - val_accuracy: 0.9282 - 1s/epoch - 21ms/step\n",
            "Epoch 61/100\n",
            "54/54 - 1s - loss: 0.0506 - accuracy: 0.9899 - val_loss: 0.3127 - val_accuracy: 0.9236 - 1s/epoch - 19ms/step\n",
            "Epoch 62/100\n",
            "54/54 - 1s - loss: 0.0514 - accuracy: 0.9899 - val_loss: 0.2989 - val_accuracy: 0.9178 - 1s/epoch - 19ms/step\n",
            "Epoch 63/100\n",
            "54/54 - 1s - loss: 0.0484 - accuracy: 0.9905 - val_loss: 0.3048 - val_accuracy: 0.9259 - 1s/epoch - 19ms/step\n",
            "Epoch 64/100\n",
            "54/54 - 1s - loss: 0.0476 - accuracy: 0.9905 - val_loss: 0.3037 - val_accuracy: 0.9236 - 1s/epoch - 19ms/step\n",
            "Epoch 65/100\n",
            "54/54 - 1s - loss: 0.0449 - accuracy: 0.9910 - val_loss: 0.2909 - val_accuracy: 0.9236 - 1s/epoch - 19ms/step\n",
            "Epoch 66/100\n",
            "54/54 - 1s - loss: 0.0488 - accuracy: 0.9887 - val_loss: 0.3011 - val_accuracy: 0.9167 - 1s/epoch - 20ms/step\n",
            "Epoch 67/100\n",
            "54/54 - 1s - loss: 0.0512 - accuracy: 0.9890 - val_loss: 0.2995 - val_accuracy: 0.9225 - 1s/epoch - 21ms/step\n",
            "Epoch 68/100\n",
            "54/54 - 1s - loss: 0.0485 - accuracy: 0.9893 - val_loss: 0.2903 - val_accuracy: 0.9236 - 1s/epoch - 20ms/step\n",
            "Epoch 69/100\n",
            "54/54 - 1s - loss: 0.0450 - accuracy: 0.9881 - val_loss: 0.3074 - val_accuracy: 0.9155 - 1s/epoch - 19ms/step\n",
            "Epoch 70/100\n",
            "54/54 - 1s - loss: 0.0452 - accuracy: 0.9907 - val_loss: 0.3094 - val_accuracy: 0.9190 - 1s/epoch - 20ms/step\n",
            "Epoch 71/100\n",
            "54/54 - 1s - loss: 0.0452 - accuracy: 0.9899 - val_loss: 0.3041 - val_accuracy: 0.9144 - 1s/epoch - 19ms/step\n",
            "Epoch 72/100\n",
            "54/54 - 1s - loss: 0.0450 - accuracy: 0.9905 - val_loss: 0.3124 - val_accuracy: 0.9178 - 1s/epoch - 19ms/step\n",
            "Epoch 73/100\n",
            "54/54 - 1s - loss: 0.0440 - accuracy: 0.9899 - val_loss: 0.2987 - val_accuracy: 0.9213 - 1s/epoch - 20ms/step\n",
            "Epoch 74/100\n",
            "54/54 - 1s - loss: 0.0433 - accuracy: 0.9896 - val_loss: 0.2919 - val_accuracy: 0.9248 - 1s/epoch - 19ms/step\n",
            "Epoch 75/100\n",
            "54/54 - 1s - loss: 0.0378 - accuracy: 0.9910 - val_loss: 0.2875 - val_accuracy: 0.9213 - 1s/epoch - 19ms/step\n",
            "Epoch 76/100\n",
            "54/54 - 1s - loss: 0.0352 - accuracy: 0.9922 - val_loss: 0.2706 - val_accuracy: 0.9294 - 1s/epoch - 27ms/step\n",
            "Epoch 77/100\n",
            "54/54 - 1s - loss: 0.0368 - accuracy: 0.9907 - val_loss: 0.2877 - val_accuracy: 0.9329 - 1s/epoch - 22ms/step\n",
            "Epoch 78/100\n",
            "54/54 - 1s - loss: 0.0389 - accuracy: 0.9899 - val_loss: 0.2896 - val_accuracy: 0.9213 - 1s/epoch - 19ms/step\n",
            "Epoch 79/100\n",
            "54/54 - 1s - loss: 0.0337 - accuracy: 0.9913 - val_loss: 0.2857 - val_accuracy: 0.9248 - 1s/epoch - 19ms/step\n",
            "Epoch 80/100\n",
            "54/54 - 1s - loss: 0.0319 - accuracy: 0.9913 - val_loss: 0.2866 - val_accuracy: 0.9213 - 1s/epoch - 19ms/step\n",
            "Epoch 81/100\n",
            "54/54 - 2s - loss: 0.0319 - accuracy: 0.9916 - val_loss: 0.2873 - val_accuracy: 0.9259 - 2s/epoch - 29ms/step\n",
            "Epoch 82/100\n",
            "54/54 - 1s - loss: 0.0316 - accuracy: 0.9919 - val_loss: 0.2808 - val_accuracy: 0.9317 - 1s/epoch - 19ms/step\n",
            "Epoch 83/100\n",
            "54/54 - 1s - loss: 0.0306 - accuracy: 0.9933 - val_loss: 0.2731 - val_accuracy: 0.9294 - 1s/epoch - 19ms/step\n",
            "Epoch 84/100\n",
            "54/54 - 1s - loss: 0.0338 - accuracy: 0.9916 - val_loss: 0.3041 - val_accuracy: 0.9201 - 1s/epoch - 20ms/step\n",
            "Epoch 85/100\n",
            "54/54 - 1s - loss: 0.0292 - accuracy: 0.9916 - val_loss: 0.2911 - val_accuracy: 0.9225 - 1s/epoch - 20ms/step\n",
            "Epoch 86/100\n",
            "54/54 - 1s - loss: 0.0289 - accuracy: 0.9922 - val_loss: 0.2820 - val_accuracy: 0.9271 - 1s/epoch - 20ms/step\n",
            "Epoch 87/100\n",
            "54/54 - 1s - loss: 0.0276 - accuracy: 0.9910 - val_loss: 0.2820 - val_accuracy: 0.9271 - 1s/epoch - 19ms/step\n",
            "Epoch 88/100\n",
            "54/54 - 1s - loss: 0.0291 - accuracy: 0.9910 - val_loss: 0.2878 - val_accuracy: 0.9259 - 1s/epoch - 19ms/step\n",
            "Epoch 89/100\n",
            "54/54 - 1s - loss: 0.0304 - accuracy: 0.9913 - val_loss: 0.2846 - val_accuracy: 0.9213 - 1s/epoch - 19ms/step\n",
            "Epoch 90/100\n",
            "54/54 - 1s - loss: 0.0290 - accuracy: 0.9910 - val_loss: 0.2731 - val_accuracy: 0.9306 - 1s/epoch - 19ms/step\n",
            "Epoch 91/100\n",
            "54/54 - 1s - loss: 0.0269 - accuracy: 0.9916 - val_loss: 0.2872 - val_accuracy: 0.9271 - 1s/epoch - 19ms/step\n",
            "Epoch 92/100\n",
            "54/54 - 1s - loss: 0.0272 - accuracy: 0.9913 - val_loss: 0.2805 - val_accuracy: 0.9282 - 1s/epoch - 19ms/step\n",
            "Epoch 93/100\n",
            "54/54 - 1s - loss: 0.0261 - accuracy: 0.9916 - val_loss: 0.2892 - val_accuracy: 0.9236 - 1s/epoch - 20ms/step\n",
            "Epoch 94/100\n",
            "54/54 - 1s - loss: 0.0307 - accuracy: 0.9902 - val_loss: 0.2842 - val_accuracy: 0.9259 - 1s/epoch - 20ms/step\n",
            "Epoch 95/100\n",
            "54/54 - 1s - loss: 0.0366 - accuracy: 0.9887 - val_loss: 0.2856 - val_accuracy: 0.9271 - 1s/epoch - 19ms/step\n",
            "Epoch 96/100\n",
            "54/54 - 1s - loss: 0.0317 - accuracy: 0.9902 - val_loss: 0.2813 - val_accuracy: 0.9236 - 1s/epoch - 19ms/step\n",
            "Epoch 97/100\n",
            "54/54 - 1s - loss: 0.0374 - accuracy: 0.9887 - val_loss: 0.3237 - val_accuracy: 0.9178 - 1s/epoch - 19ms/step\n",
            "Epoch 98/100\n",
            "54/54 - 1s - loss: 0.0435 - accuracy: 0.9884 - val_loss: 0.2855 - val_accuracy: 0.9271 - 1s/epoch - 19ms/step\n",
            "Epoch 99/100\n",
            "54/54 - 1s - loss: 0.0379 - accuracy: 0.9902 - val_loss: 0.2983 - val_accuracy: 0.9329 - 1s/epoch - 19ms/step\n",
            "Epoch 100/100\n",
            "54/54 - 1s - loss: 0.0325 - accuracy: 0.9910 - val_loss: 0.2790 - val_accuracy: 0.9259 - 1s/epoch - 19ms/step\n",
            "\n",
            "best model based on min training set loss:  acc= 0.9916087985038757  loss= 0.02608380652964115\n",
            "best model based on min test set loss:  acc= 0.9293981194496155  loss= 0.27056607604026794\n",
            "best model based on max training set accuracy:  acc= 0.9933449029922485  loss= 0.0305897518992424\n",
            "best model based on max test set accuracy:  acc= 0.9328703880310059  loss= 0.2876511216163635\n",
            "\n",
            "evaluate dataset with best model based on maximum test set accuracy\n",
            "evaluate train set=  [0.034524187445640564, 0.9939236044883728]\n",
            "evaluate test set=  [0.28765109181404114, 0.9328703880310059]\n",
            "\n",
            " ------------------------------ metrics for traning set ------------------------------\n",
            "confusion matrix: \n",
            " [[ 8  0  0 ...  0  0  0]\n",
            " [ 0  7  0 ...  0  0  0]\n",
            " [ 0  0  6 ...  0  0  0]\n",
            " ...\n",
            " [ 0  0  0 ...  8  0  0]\n",
            " [ 0  0  0 ...  0  9  0]\n",
            " [ 0  0  0 ...  0  0 10]]\n",
            "              precision    recall  f1-score   support\n",
            "\n",
            "   A_dim_2_1      1.000     1.000     1.000         8\n",
            "   A_dim_2_0      1.000     1.000     1.000         7\n",
            "   A_maj_5_1      1.000     0.857     0.923         7\n",
            "   A_maj_3_1      1.000     1.000     1.000         9\n",
            "   A_min_2_0      1.000     1.000     1.000        10\n",
            "   A_maj_2_0      1.000     1.000     1.000         8\n",
            "   A_maj_3_0      1.000     1.000     1.000        10\n",
            "   A_maj_5_0      1.000     1.000     1.000         7\n",
            "   A_dim_3_1      1.000     1.000     1.000         8\n",
            "   A_dim_6_1      1.000     1.000     1.000         9\n",
            "   A_min_2_1      1.000     1.000     1.000         9\n",
            "   A_dim_5_1      0.875     1.000     0.933         7\n",
            "   A_dim_7_0      1.000     1.000     1.000        10\n",
            "   A_dim_5_0      1.000     1.000     1.000         8\n",
            "   A_maj_7_0      1.000     1.000     1.000         7\n",
            "   A_maj_6_0      1.000     1.000     1.000         9\n",
            "   A_maj_4_0      1.000     1.000     1.000         8\n",
            "   A_dim_3_0      1.000     1.000     1.000         7\n",
            "   A_dim_4_1      1.000     1.000     1.000         8\n",
            "   A_maj_6_1      1.000     1.000     1.000         8\n",
            "   A_maj_4_1      1.000     1.000     1.000         9\n",
            "   A_dim_4_0      1.000     1.000     1.000         8\n",
            "   A_maj_2_1      1.000     1.000     1.000         8\n",
            "   A_maj_7_1      1.000     1.000     1.000         8\n",
            "   A_dim_7_1      1.000     1.000     1.000         7\n",
            "   A_dim_6_0      1.000     1.000     1.000         8\n",
            "   B_dim_3_1      1.000     1.000     1.000         7\n",
            "   B_dim_7_0      1.000     1.000     1.000         9\n",
            "   B_maj_6_0      1.000     1.000     1.000         9\n",
            "   B_dim_7_1      1.000     1.000     1.000         6\n",
            "   B_min_2_1      1.000     1.000     1.000         7\n",
            "   B_dim_5_0      1.000     0.857     0.923         7\n",
            "   B_min_2_0      1.000     1.000     1.000         9\n",
            "   B_dim_6_1      1.000     1.000     1.000         5\n",
            "   B_maj_7_1      1.000     1.000     1.000        10\n",
            "   B_dim_4_1      1.000     1.000     1.000         9\n",
            "   B_maj_3_0      1.000     1.000     1.000         9\n",
            "   B_dim_3_0      1.000     1.000     1.000         8\n",
            "   A_min_6_0      1.000     1.000     1.000         6\n",
            "   B_maj_6_1      1.000     1.000     1.000         7\n",
            "   B_dim_5_1      1.000     1.000     1.000         2\n",
            "   A_min_6_1      1.000     1.000     1.000         8\n",
            "   A_min_4_1      1.000     1.000     1.000         7\n",
            "   B_maj_5_1      1.000     1.000     1.000         9\n",
            "   B_maj_2_0      1.000     1.000     1.000         7\n",
            "   B_dim_2_0      1.000     1.000     1.000         9\n",
            "   A_min_7_1      1.000     1.000     1.000        10\n",
            "   A_min_4_0      1.000     1.000     1.000         8\n",
            "   A_min_3_0      1.000     1.000     1.000         9\n",
            "   B_dim_4_0      1.000     1.000     1.000        10\n",
            "   B_maj_4_0      1.000     1.000     1.000         9\n",
            "   A_min_7_0      1.000     1.000     1.000         4\n",
            "   B_maj_4_1      1.000     1.000     1.000         9\n",
            "   A_min_3_1      1.000     1.000     1.000         8\n",
            "   B_maj_2_1      1.000     1.000     1.000         8\n",
            "   A_min_5_0      1.000     1.000     1.000         7\n",
            "   B_maj_3_1      1.000     1.000     1.000         7\n",
            "   B_maj_5_0      1.000     1.000     1.000         7\n",
            "   B_dim_2_1      1.000     1.000     1.000         9\n",
            "   B_maj_7_0      1.000     1.000     1.000         9\n",
            "   B_dim_6_0      1.000     1.000     1.000         9\n",
            "   B_min_3_0      1.000     1.000     1.000         8\n",
            "   A_min_5_1      1.000     0.857     0.923         7\n",
            "  Bb_dim_4_1      1.000     1.000     1.000         6\n",
            "  Bb_maj_7_0      1.000     1.000     1.000         8\n",
            "   B_min_5_1      1.000     1.000     1.000         8\n",
            "   B_min_4_0      1.000     1.000     1.000         7\n",
            "  Bb_maj_4_1      1.000     1.000     1.000         9\n",
            "   B_min_7_0      1.000     1.000     1.000         6\n",
            "  Bb_min_2_0      1.000     1.000     1.000         6\n",
            "  Bb_dim_3_0      1.000     1.000     1.000         7\n",
            "  Bb_dim_3_1      1.000     1.000     1.000         8\n",
            "   B_min_3_1      1.000     1.000     1.000         8\n",
            "  Bb_dim_7_1      1.000     1.000     1.000         8\n",
            "  Bb_maj_3_1      1.000     1.000     1.000         7\n",
            "   B_min_5_0      1.000     1.000     1.000         6\n",
            "   B_min_4_1      1.000     1.000     1.000         7\n",
            "   B_min_7_1      1.000     1.000     1.000         7\n",
            "  Bb_dim_5_1      1.000     0.875     0.933         8\n",
            "  Bb_maj_5_0      0.875     1.000     0.933         7\n",
            "  Bb_dim_4_0      1.000     1.000     1.000         8\n",
            "   B_min_6_0      1.000     1.000     1.000         8\n",
            "  Bb_maj_5_1      1.000     1.000     1.000         7\n",
            "  Bb_min_3_1      1.000     1.000     1.000         7\n",
            "  Bb_maj_3_0      1.000     1.000     1.000        10\n",
            "  Bb_dim_6_1      1.000     1.000     1.000         9\n",
            "  Bb_min_2_1      1.000     1.000     1.000        10\n",
            "  Bb_maj_6_1      1.000     1.000     1.000         9\n",
            "  Bb_min_4_0      1.000     1.000     1.000         7\n",
            "  Bb_maj_2_0      1.000     1.000     1.000         7\n",
            "  Bb_dim_2_1      1.000     1.000     1.000         8\n",
            "  Bb_maj_2_1      1.000     1.000     1.000         9\n",
            "  Bb_maj_7_1      1.000     1.000     1.000        10\n",
            "   B_min_6_1      1.000     1.000     1.000         9\n",
            "  Bb_dim_6_0      1.000     1.000     1.000         7\n",
            "  Bb_dim_7_0      1.000     1.000     1.000         8\n",
            "  Bb_maj_6_0      1.000     1.000     1.000         9\n",
            "  Bb_dim_2_0      1.000     1.000     1.000        10\n",
            "  Bb_min_3_0      1.000     1.000     1.000         8\n",
            "  Bb_dim_5_0      1.000     0.900     0.947        10\n",
            "  Bb_maj_4_0      1.000     1.000     1.000         9\n",
            "   C_dim_4_0      1.000     1.000     1.000         7\n",
            "   C_maj_2_0      1.000     1.000     1.000         7\n",
            "   C_dim_4_1      1.000     1.000     1.000         8\n",
            "   C_dim_6_0      1.000     0.800     0.889         5\n",
            "   C_min_2_0      1.000     1.000     1.000        10\n",
            "   C_maj_6_1      1.000     1.000     1.000         8\n",
            "   C_maj_4_0      1.000     1.000     1.000         6\n",
            "   C_min_2_1      1.000     1.000     1.000         9\n",
            "   C_maj_7_1      1.000     1.000     1.000         7\n",
            "   C_dim_7_0      1.000     1.000     1.000         8\n",
            "   C_min_3_1      1.000     1.000     1.000         4\n",
            "   C_maj_2_1      1.000     1.000     1.000         9\n",
            "  Bb_min_6_0      1.000     1.000     1.000         8\n",
            "   C_maj_5_1      1.000     1.000     1.000         7\n",
            "   C_dim_3_1      1.000     1.000     1.000        10\n",
            "  Bb_min_7_1      1.000     1.000     1.000         9\n",
            "  Bb_min_5_1      1.000     1.000     1.000         6\n",
            "   C_maj_3_1      1.000     1.000     1.000         7\n",
            "   C_maj_3_0      0.667     0.889     0.762         9\n",
            "  Bb_min_4_1      1.000     1.000     1.000         7\n",
            "   C_dim_2_1      1.000     1.000     1.000        10\n",
            "   C_dim_3_0      1.000     1.000     1.000         8\n",
            "   C_dim_2_0      1.000     1.000     1.000         9\n",
            "   C_maj_5_0      1.000     1.000     1.000         7\n",
            "   C_dim_5_1      1.000     1.000     1.000         7\n",
            "  Bb_min_6_1      1.000     1.000     1.000        10\n",
            "   C_maj_7_0      1.000     1.000     1.000         8\n",
            "   C_dim_5_0      1.000     1.000     1.000         8\n",
            "  Bb_min_5_0      0.667     1.000     0.800         6\n",
            "   C_maj_6_0      1.000     1.000     1.000         7\n",
            "   C_dim_6_1      1.000     1.000     1.000         7\n",
            "   C_min_4_1      1.000     1.000     1.000         8\n",
            "  Bb_min_7_0      1.000     1.000     1.000         7\n",
            "   C_min_3_0      1.000     1.000     1.000        10\n",
            "   C_maj_4_1      1.000     1.000     1.000         8\n",
            "   C_dim_7_1      1.000     1.000     1.000         7\n",
            "   C_min_4_0      1.000     1.000     1.000         8\n",
            "  Cs_maj_3_0      1.000     1.000     1.000         8\n",
            "  Cs_maj_4_0      1.000     1.000     1.000         8\n",
            "  Cs_maj_2_1      1.000     1.000     1.000         8\n",
            "  Cs_dim_6_0      1.000     0.857     0.923         7\n",
            "   C_min_5_1      1.000     1.000     1.000         9\n",
            "  Cs_min_2_0      1.000     1.000     1.000         9\n",
            "  Cs_maj_3_1      1.000     1.000     1.000         5\n",
            "  Cs_dim_3_1      1.000     1.000     1.000        10\n",
            "  Cs_min_3_0      1.000     1.000     1.000         7\n",
            "  Cs_dim_4_0      1.000     1.000     1.000         7\n",
            "  Cs_maj_2_0      1.000     1.000     1.000         9\n",
            "  Cs_dim_6_1      1.000     1.000     1.000         7\n",
            "  Cs_maj_7_0      1.000     1.000     1.000         7\n",
            "  Cs_dim_5_1      1.000     1.000     1.000         9\n",
            "  Cs_maj_6_1      1.000     0.857     0.923         7\n",
            "  Cs_dim_7_0      1.000     1.000     1.000        10\n",
            "  Cs_dim_2_0      1.000     1.000     1.000        10\n",
            "   C_min_6_1      1.000     1.000     1.000         9\n",
            "  Cs_maj_5_0      1.000     1.000     1.000        10\n",
            "   C_min_7_1      1.000     1.000     1.000         9\n",
            "  Cs_min_4_1      1.000     1.000     1.000         8\n",
            "  Cs_dim_7_1      1.000     1.000     1.000         8\n",
            "  Cs_dim_5_0      1.000     1.000     1.000         7\n",
            "  Cs_maj_6_0      0.750     1.000     0.857         9\n",
            "  Cs_min_5_0      1.000     1.000     1.000         9\n",
            "   C_min_6_0      1.000     1.000     1.000         8\n",
            "  Cs_maj_5_1      1.000     1.000     1.000         7\n",
            "  Cs_min_3_1      1.000     1.000     1.000         8\n",
            "  Cs_maj_7_1      1.000     1.000     1.000         7\n",
            "  Cs_min_2_1      1.000     1.000     1.000         9\n",
            "  Cs_dim_4_1      1.000     1.000     1.000         7\n",
            "  Cs_dim_3_0      1.000     1.000     1.000         6\n",
            "  Cs_dim_2_1      1.000     1.000     1.000         8\n",
            "  Cs_maj_4_1      1.000     1.000     1.000         7\n",
            "  Cs_min_4_0      1.000     1.000     1.000        10\n",
            "   C_min_7_0      1.000     1.000     1.000         7\n",
            "   C_min_5_0      1.000     1.000     1.000        10\n",
            "   D_dim_3_0      1.000     1.000     1.000         7\n",
            "   D_maj_5_0      1.000     1.000     1.000         8\n",
            "   D_dim_4_0      1.000     1.000     1.000         9\n",
            "  Cs_min_7_0      1.000     1.000     1.000         8\n",
            "   D_maj_7_1      1.000     1.000     1.000         8\n",
            "   D_min_5_0      1.000     1.000     1.000         7\n",
            "   D_dim_3_1      1.000     1.000     1.000         8\n",
            "   D_maj_4_0      1.000     1.000     1.000         6\n",
            "   D_dim_7_1      1.000     1.000     1.000        10\n",
            "   D_min_4_1      1.000     1.000     1.000         5\n",
            "   D_min_4_0      1.000     1.000     1.000         4\n",
            "   D_maj_3_0      0.667     0.333     0.444         6\n",
            "   D_maj_7_0      1.000     1.000     1.000         8\n",
            "   D_min_2_1      1.000     1.000     1.000         8\n",
            "   D_dim_2_0      1.000     1.000     1.000         9\n",
            "   D_maj_6_0      1.000     1.000     1.000         8\n",
            "   D_min_3_0      1.000     1.000     1.000         9\n",
            "   D_maj_5_1      1.000     1.000     1.000         4\n",
            "   D_dim_6_0      1.000     1.000     1.000        10\n",
            "   D_dim_5_1      1.000     1.000     1.000         9\n",
            "   D_maj_2_0      1.000     1.000     1.000         8\n",
            "   D_maj_4_1      1.000     1.000     1.000         9\n",
            "  Cs_min_5_1      1.000     1.000     1.000         6\n",
            "   D_maj_2_1      1.000     1.000     1.000         7\n",
            "   D_maj_3_1      1.000     1.000     1.000         7\n",
            "  Cs_min_6_0      1.000     1.000     1.000         6\n",
            "   D_min_2_0      1.000     1.000     1.000         9\n",
            "   D_min_5_1      1.000     1.000     1.000         7\n",
            "   D_dim_4_1      1.000     1.000     1.000         5\n",
            "   D_dim_6_1      1.000     0.875     0.933         8\n",
            "   D_dim_2_1      1.000     1.000     1.000         8\n",
            "   D_dim_5_0      1.000     1.000     1.000         8\n",
            "   D_dim_7_0      1.000     1.000     1.000         8\n",
            "  Cs_min_6_1      1.000     1.000     1.000        10\n",
            "   D_maj_6_1      1.000     1.000     1.000         9\n",
            "   D_min_3_1      1.000     1.000     1.000        10\n",
            "  Cs_min_7_1      1.000     1.000     1.000         8\n",
            "   E_maj_2_1      1.000     1.000     1.000         8\n",
            "   E_dim_6_1      1.000     1.000     1.000         7\n",
            "   D_min_7_0      1.000     1.000     1.000         9\n",
            "   D_min_6_0      1.000     1.000     1.000        10\n",
            "   E_min_3_0      1.000     1.000     1.000         8\n",
            "   D_min_6_1      1.000     0.857     0.923         7\n",
            "   E_dim_7_1      1.000     1.000     1.000         6\n",
            "   E_min_2_1      1.000     1.000     1.000         8\n",
            "   E_dim_2_1      1.000     1.000     1.000         7\n",
            "   E_dim_5_1      1.000     1.000     1.000         8\n",
            "   E_dim_7_0      1.000     1.000     1.000         8\n",
            "   E_dim_3_0      1.000     1.000     1.000         7\n",
            "   E_dim_4_0      1.000     1.000     1.000         6\n",
            "   E_min_2_0      1.000     1.000     1.000         8\n",
            "   E_dim_3_1      1.000     1.000     1.000         8\n",
            "   E_maj_4_0      1.000     1.000     1.000        10\n",
            "   E_min_3_1      1.000     1.000     1.000         9\n",
            "   E_maj_5_0      1.000     1.000     1.000         8\n",
            "   E_maj_7_1      1.000     1.000     1.000         8\n",
            "   E_min_4_1      1.000     1.000     1.000         6\n",
            "   E_min_4_0      1.000     1.000     1.000        10\n",
            "   E_min_6_0      1.000     1.000     1.000         9\n",
            "   E_maj_4_1      1.000     1.000     1.000         8\n",
            "   E_maj_7_0      1.000     1.000     1.000         6\n",
            "   E_dim_4_1      1.000     1.000     1.000         9\n",
            "   E_maj_6_0      1.000     1.000     1.000         9\n",
            "   E_maj_3_1      1.000     1.000     1.000         7\n",
            "   E_dim_5_0      1.000     1.000     1.000        10\n",
            "   E_maj_2_0      1.000     1.000     1.000         7\n",
            "   E_min_5_0      1.000     1.000     1.000         9\n",
            "   E_min_5_1      1.000     1.000     1.000         9\n",
            "   E_dim_2_0      1.000     1.000     1.000         6\n",
            "   E_maj_6_1      1.000     1.000     1.000         6\n",
            "   E_maj_3_0      1.000     1.000     1.000         5\n",
            "   E_maj_5_1      1.000     0.900     0.947        10\n",
            "   E_dim_6_0      1.000     1.000     1.000         8\n",
            "   D_min_7_1      1.000     1.000     1.000         8\n",
            "  Eb_min_4_1      1.000     1.000     1.000         7\n",
            "  Eb_dim_6_1      1.000     1.000     1.000         7\n",
            "  Eb_maj_7_0      1.000     1.000     1.000         8\n",
            "  Eb_min_3_1      1.000     1.000     1.000         9\n",
            "  Eb_min_2_0      1.000     1.000     1.000         9\n",
            "  Eb_maj_5_0      1.000     1.000     1.000         9\n",
            "  Eb_maj_4_0      1.000     1.000     1.000        10\n",
            "  Eb_maj_5_1      1.000     1.000     1.000         8\n",
            "  Eb_dim_5_1      1.000     1.000     1.000         9\n",
            "  Eb_min_5_0      1.000     1.000     1.000         8\n",
            "  Eb_maj_3_0      1.000     1.000     1.000         8\n",
            "  Eb_dim_2_1      1.000     1.000     1.000         9\n",
            "  Eb_maj_3_1      1.000     1.000     1.000         8\n",
            "  Eb_dim_7_0      1.000     1.000     1.000         8\n",
            "  Eb_dim_3_0      1.000     1.000     1.000         8\n",
            "  Eb_dim_4_0      1.000     1.000     1.000         6\n",
            "  Eb_min_5_1      1.000     1.000     1.000        10\n",
            "   E_min_7_0      1.000     1.000     1.000         9\n",
            "  Eb_maj_6_0      1.000     1.000     1.000         5\n",
            "  Eb_maj_2_0      1.000     1.000     1.000         6\n",
            "   E_min_6_1      1.000     1.000     1.000         8\n",
            "   E_min_7_1      1.000     1.000     1.000        10\n",
            "  Eb_dim_2_0      1.000     1.000     1.000         7\n",
            "  Eb_maj_2_1      1.000     1.000     1.000         9\n",
            "  Eb_maj_4_1      1.000     1.000     1.000         9\n",
            "  Eb_min_6_0      1.000     1.000     1.000         6\n",
            "  Eb_maj_7_1      1.000     1.000     1.000         9\n",
            "  Eb_dim_4_1      1.000     1.000     1.000         8\n",
            "  Eb_dim_5_0      1.000     1.000     1.000         4\n",
            "  Eb_min_4_0      1.000     1.000     1.000         7\n",
            "  Eb_min_3_0      1.000     1.000     1.000         7\n",
            "  Eb_min_2_1      1.000     1.000     1.000        10\n",
            "  Eb_dim_7_1      1.000     1.000     1.000         7\n",
            "  Eb_dim_3_1      1.000     1.000     1.000         8\n",
            "  Eb_maj_6_1      1.000     1.000     1.000        10\n",
            "  Eb_dim_6_0      1.000     1.000     1.000         9\n",
            "   F_maj_4_0      1.000     1.000     1.000         9\n",
            "   F_dim_7_1      1.000     1.000     1.000         8\n",
            "   F_dim_2_1      1.000     1.000     1.000         9\n",
            "   F_dim_4_0      1.000     1.000     1.000         8\n",
            "   F_dim_5_1      1.000     1.000     1.000         8\n",
            "   F_dim_7_0      1.000     1.000     1.000         9\n",
            "   F_maj_7_0      1.000     1.000     1.000         9\n",
            "   F_min_4_0      1.000     1.000     1.000         9\n",
            "  Eb_min_7_0      1.000     1.000     1.000         6\n",
            "   F_dim_2_0      1.000     1.000     1.000         8\n",
            "   F_maj_2_0      1.000     1.000     1.000         5\n",
            "   F_maj_6_0      0.833     1.000     0.909         5\n",
            "   F_min_6_1      1.000     1.000     1.000         8\n",
            "   F_min_5_0      1.000     1.000     1.000         8\n",
            "   F_min_2_1      1.000     1.000     1.000         9\n",
            "   F_dim_3_1      1.000     1.000     1.000        10\n",
            "   F_min_6_0      0.727     1.000     0.842         8\n",
            "   F_dim_3_0      1.000     1.000     1.000         8\n",
            "   F_maj_3_1      1.000     1.000     1.000         8\n",
            "   F_dim_6_1      1.000     1.000     1.000         9\n",
            "   F_maj_5_0      1.000     1.000     1.000         9\n",
            "   F_min_4_1      1.000     1.000     1.000         7\n",
            "  Eb_min_7_1      1.000     1.000     1.000         9\n",
            "   F_min_3_0      1.000     1.000     1.000         8\n",
            "   F_min_3_1      1.000     1.000     1.000         8\n",
            "   F_maj_3_0      1.000     1.000     1.000         9\n",
            "   F_min_2_0      1.000     1.000     1.000         7\n",
            "   F_maj_4_1      1.000     1.000     1.000         9\n",
            "   F_dim_4_1      1.000     1.000     1.000         8\n",
            "   F_dim_5_0      1.000     1.000     1.000         8\n",
            "   F_dim_6_0      1.000     0.875     0.933         8\n",
            "   F_min_5_1      1.000     1.000     1.000         9\n",
            "   F_maj_5_1      1.000     1.000     1.000         8\n",
            "   F_maj_7_1      1.000     1.000     1.000         9\n",
            "   F_maj_2_1      1.000     1.000     1.000         9\n",
            "  Eb_min_6_1      1.000     1.000     1.000         8\n",
            "   F_maj_6_1      1.000     1.000     1.000         7\n",
            "  Fs_maj_4_1      1.000     1.000     1.000         9\n",
            "  Fs_dim_6_0      1.000     1.000     1.000         9\n",
            "  Fs_maj_7_1      1.000     1.000     1.000         8\n",
            "  Fs_maj_4_0      1.000     1.000     1.000         6\n",
            "  Fs_min_5_0      1.000     1.000     1.000         7\n",
            "  Fs_maj_5_0      1.000     1.000     1.000         9\n",
            "  Fs_dim_4_1      1.000     1.000     1.000         7\n",
            "  Fs_dim_4_0      1.000     1.000     1.000         9\n",
            "  Fs_maj_3_1      1.000     1.000     1.000         6\n",
            "  Fs_maj_7_0      1.000     1.000     1.000         7\n",
            "  Fs_dim_5_0      1.000     1.000     1.000         9\n",
            "  Fs_maj_6_1      1.000     1.000     1.000         9\n",
            "   F_min_7_0      1.000     1.000     1.000         9\n",
            "  Fs_min_6_1      1.000     1.000     1.000         5\n",
            "  Fs_min_2_0      1.000     1.000     1.000        10\n",
            "  Fs_min_3_1      1.000     1.000     1.000         8\n",
            "  Fs_min_5_1      1.000     1.000     1.000         8\n",
            "  Fs_dim_7_1      1.000     1.000     1.000         9\n",
            "  Fs_maj_2_0      1.000     1.000     1.000         9\n",
            "  Fs_min_2_1      1.000     1.000     1.000         8\n",
            "  Fs_min_6_0      1.000     1.000     1.000         7\n",
            "   F_min_7_1      1.000     1.000     1.000         8\n",
            "  Fs_min_3_0      1.000     1.000     1.000         8\n",
            "  Fs_dim_7_0      1.000     1.000     1.000         9\n",
            "  Fs_dim_2_0      1.000     1.000     1.000         9\n",
            "  Fs_min_4_0      1.000     1.000     1.000        10\n",
            "  Fs_dim_3_1      1.000     1.000     1.000         7\n",
            "  Fs_maj_6_0      1.000     1.000     1.000         9\n",
            "  Fs_maj_2_1      1.000     1.000     1.000         8\n",
            "  Fs_dim_6_1      1.000     1.000     1.000         6\n",
            "  Fs_dim_5_1      1.000     1.000     1.000        10\n",
            "  Fs_min_7_0      1.000     1.000     1.000         8\n",
            "  Fs_min_4_1      1.000     1.000     1.000         8\n",
            "  Fs_maj_5_1      1.000     0.875     0.933         8\n",
            "  Fs_dim_3_0      1.000     1.000     1.000         9\n",
            "  Fs_dim_2_1      1.000     1.000     1.000         8\n",
            "  Fs_maj_3_0      1.000     1.000     1.000         7\n",
            "   G_maj_6_0      1.000     1.000     1.000         7\n",
            "   G_maj_5_0      1.000     1.000     1.000         8\n",
            "   G_min_3_1      1.000     1.000     1.000         8\n",
            "   G_dim_5_1      1.000     0.875     0.933         8\n",
            "   G_dim_4_0      1.000     1.000     1.000         9\n",
            "   G_maj_2_1      1.000     1.000     1.000         9\n",
            "   G_min_5_0      1.000     1.000     1.000         6\n",
            "   G_min_4_0      1.000     1.000     1.000         6\n",
            "   G_min_2_0      1.000     1.000     1.000         8\n",
            "   G_maj_6_1      1.000     1.000     1.000         9\n",
            "   G_maj_3_0      1.000     1.000     1.000        10\n",
            "   G_dim_7_1      1.000     1.000     1.000         8\n",
            "   G_maj_7_1      1.000     1.000     1.000         7\n",
            "   G_maj_2_0      1.000     1.000     1.000         9\n",
            "   G_min_7_0      1.000     1.000     1.000         9\n",
            "   G_min_2_1      1.000     1.000     1.000         8\n",
            "   G_min_5_1      1.000     0.875     0.933         8\n",
            "   G_dim_2_0      1.000     1.000     1.000         7\n",
            "   G_dim_3_0      1.000     1.000     1.000         8\n",
            "   G_dim_6_1      1.000     1.000     1.000         9\n",
            "  Fs_min_7_1      1.000     1.000     1.000         5\n",
            "   G_dim_3_1      1.000     1.000     1.000         7\n",
            "   G_dim_7_0      1.000     1.000     1.000         8\n",
            "   G_min_3_0      1.000     1.000     1.000         9\n",
            "   G_dim_5_0      1.000     1.000     1.000         7\n",
            "   G_dim_6_0      1.000     1.000     1.000         9\n",
            "   G_dim_2_1      1.000     1.000     1.000         8\n",
            "   G_min_6_1      1.000     1.000     1.000         4\n",
            "   G_maj_5_1      1.000     0.875     0.933         8\n",
            "   G_min_4_1      1.000     1.000     1.000         9\n",
            "   G_min_6_0      1.000     1.000     1.000         7\n",
            "   G_maj_3_1      1.000     1.000     1.000         8\n",
            "   G_dim_4_1      1.000     1.000     1.000         9\n",
            "   G_maj_4_0      1.000     1.000     1.000         8\n",
            "   G_maj_7_0      1.000     1.000     1.000         7\n",
            "   G_maj_4_1      1.000     1.000     1.000        10\n",
            "  Gs_maj_3_1      1.000     1.000     1.000         9\n",
            "  Gs_maj_6_0      1.000     1.000     1.000         8\n",
            "  Gs_min_4_0      1.000     1.000     1.000         8\n",
            "  Gs_dim_7_0      1.000     1.000     1.000         8\n",
            "  Gs_min_3_1      1.000     1.000     1.000         8\n",
            "  Gs_maj_3_0      1.000     1.000     1.000         8\n",
            "  Gs_dim_4_1      1.000     1.000     1.000         9\n",
            "  Gs_min_5_0      0.900     1.000     0.947         9\n",
            "  Gs_maj_6_1      1.000     1.000     1.000        10\n",
            "  Gs_dim_6_1      1.000     1.000     1.000        10\n",
            "  Gs_maj_7_1      1.000     1.000     1.000         8\n",
            "  Gs_dim_2_0      1.000     1.000     1.000         8\n",
            "  Gs_dim_2_1      1.000     1.000     1.000         7\n",
            "  Gs_dim_6_0      1.000     1.000     1.000         8\n",
            "  Gs_min_7_0      1.000     1.000     1.000         8\n",
            "  Gs_min_7_1      1.000     1.000     1.000        10\n",
            "  Gs_dim_3_0      1.000     1.000     1.000         9\n",
            "  Gs_dim_4_0      1.000     1.000     1.000         8\n",
            "  Gs_maj_4_1      1.000     1.000     1.000         9\n",
            "  Gs_dim_5_0      1.000     1.000     1.000         8\n",
            "  Gs_min_4_1      1.000     1.000     1.000         9\n",
            "  Gs_min_5_1      1.000     1.000     1.000         7\n",
            "  Gs_maj_5_0      1.000     1.000     1.000        10\n",
            "  Gs_min_3_0      1.000     1.000     1.000        10\n",
            "  Gs_min_2_0      1.000     1.000     1.000        10\n",
            "  Gs_dim_5_1      0.818     1.000     0.900         9\n",
            "  Gs_maj_4_0      1.000     1.000     1.000         9\n",
            "  Gs_maj_2_0      1.000     1.000     1.000         9\n",
            "  Gs_maj_5_1      0.909     1.000     0.952        10\n",
            "  Gs_maj_7_0      1.000     1.000     1.000         8\n",
            "   G_min_7_1      1.000     1.000     1.000         9\n",
            "  Gs_min_6_1      1.000     1.000     1.000         8\n",
            "  Gs_dim_3_1      1.000     1.000     1.000         6\n",
            "  Gs_min_6_0      1.000     1.000     1.000         7\n",
            "  Gs_dim_7_1      1.000     1.000     1.000         8\n",
            "  Gs_maj_2_1      1.000     1.000     1.000         9\n",
            "  Gs_min_2_1      1.000     1.000     1.000        10\n",
            "\n",
            "   micro avg      0.994     0.994     0.994      3456\n",
            "   macro avg      0.995     0.993     0.993      3456\n",
            "weighted avg      0.995     0.994     0.994      3456\n",
            " samples avg      0.994     0.994     0.994      3456\n",
            "\n",
            "------------------------------ metrics for test set ------------------------------\n",
            "confusion matrix: \n",
            " [[2 0 0 ... 0 0 0]\n",
            " [0 3 0 ... 0 0 0]\n",
            " [0 0 3 ... 0 0 0]\n",
            " ...\n",
            " [0 0 0 ... 2 0 0]\n",
            " [0 0 0 ... 0 2 0]\n",
            " [0 0 0 ... 0 0 1]]\n",
            "              precision    recall  f1-score   support\n",
            "\n",
            "   A_dim_2_1      1.000     1.000     1.000         2\n",
            "   A_dim_2_0      1.000     1.000     1.000         3\n",
            "   A_maj_5_1      1.000     1.000     1.000         3\n",
            "   A_maj_3_1      1.000     1.000     1.000         1\n",
            "   A_min_2_0      0.000     0.000     0.000         0\n",
            "   A_maj_2_0      1.000     1.000     1.000         2\n",
            "   A_maj_3_0      0.000     0.000     0.000         0\n",
            "   A_maj_5_0      1.000     1.000     1.000         3\n",
            "   A_dim_3_1      1.000     1.000     1.000         2\n",
            "   A_dim_6_1      0.500     1.000     0.667         1\n",
            "   A_min_2_1      1.000     1.000     1.000         1\n",
            "   A_dim_5_1      0.750     1.000     0.857         3\n",
            "   A_dim_7_0      0.000     0.000     0.000         0\n",
            "   A_dim_5_0      1.000     0.500     0.667         2\n",
            "   A_maj_7_0      0.600     1.000     0.750         3\n",
            "   A_maj_6_0      1.000     1.000     1.000         1\n",
            "   A_maj_4_0      1.000     1.000     1.000         2\n",
            "   A_dim_3_0      1.000     1.000     1.000         3\n",
            "   A_dim_4_1      1.000     1.000     1.000         2\n",
            "   A_maj_6_1      0.500     1.000     0.667         2\n",
            "   A_maj_4_1      1.000     1.000     1.000         1\n",
            "   A_dim_4_0      1.000     1.000     1.000         2\n",
            "   A_maj_2_1      1.000     1.000     1.000         2\n",
            "   A_maj_7_1      1.000     0.500     0.667         2\n",
            "   A_dim_7_1      1.000     1.000     1.000         3\n",
            "   A_dim_6_0      0.500     1.000     0.667         2\n",
            "   B_dim_3_1      1.000     1.000     1.000         3\n",
            "   B_dim_7_0      0.333     1.000     0.500         1\n",
            "   B_maj_6_0      1.000     1.000     1.000         1\n",
            "   B_dim_7_1      1.000     0.500     0.667         4\n",
            "   B_min_2_1      1.000     1.000     1.000         3\n",
            "   B_dim_5_0      1.000     1.000     1.000         3\n",
            "   B_min_2_0      1.000     1.000     1.000         1\n",
            "   B_dim_6_1      1.000     1.000     1.000         5\n",
            "   B_maj_7_1      0.000     0.000     0.000         0\n",
            "   B_dim_4_1      1.000     1.000     1.000         1\n",
            "   B_maj_3_0      1.000     1.000     1.000         1\n",
            "   B_dim_3_0      1.000     1.000     1.000         2\n",
            "   A_min_6_0      1.000     0.750     0.857         4\n",
            "   B_maj_6_1      1.000     1.000     1.000         3\n",
            "   B_dim_5_1      0.875     0.875     0.875         8\n",
            "   A_min_6_1      1.000     1.000     1.000         2\n",
            "   A_min_4_1      1.000     1.000     1.000         3\n",
            "   B_maj_5_1      1.000     1.000     1.000         1\n",
            "   B_maj_2_0      1.000     1.000     1.000         3\n",
            "   B_dim_2_0      1.000     1.000     1.000         1\n",
            "   A_min_7_1      0.000     0.000     0.000         0\n",
            "   A_min_4_0      1.000     1.000     1.000         2\n",
            "   A_min_3_0      1.000     1.000     1.000         1\n",
            "   B_dim_4_0      0.000     0.000     0.000         0\n",
            "   B_maj_4_0      1.000     1.000     1.000         1\n",
            "   A_min_7_0      1.000     0.667     0.800         6\n",
            "   B_maj_4_1      1.000     1.000     1.000         1\n",
            "   A_min_3_1      1.000     1.000     1.000         2\n",
            "   B_maj_2_1      1.000     1.000     1.000         2\n",
            "   A_min_5_0      0.750     1.000     0.857         3\n",
            "   B_maj_3_1      1.000     1.000     1.000         3\n",
            "   B_maj_5_0      1.000     1.000     1.000         3\n",
            "   B_dim_2_1      1.000     1.000     1.000         1\n",
            "   B_maj_7_0      0.500     1.000     0.667         1\n",
            "   B_dim_6_0      0.500     1.000     0.667         1\n",
            "   B_min_3_0      1.000     1.000     1.000         2\n",
            "   A_min_5_1      1.000     1.000     1.000         3\n",
            "  Bb_dim_4_1      1.000     1.000     1.000         4\n",
            "  Bb_maj_7_0      1.000     1.000     1.000         2\n",
            "   B_min_5_1      1.000     1.000     1.000         2\n",
            "   B_min_4_0      1.000     1.000     1.000         3\n",
            "  Bb_maj_4_1      1.000     1.000     1.000         1\n",
            "   B_min_7_0      0.750     0.750     0.750         4\n",
            "  Bb_min_2_0      1.000     1.000     1.000         4\n",
            "  Bb_dim_3_0      1.000     1.000     1.000         3\n",
            "  Bb_dim_3_1      1.000     1.000     1.000         2\n",
            "   B_min_3_1      1.000     1.000     1.000         2\n",
            "  Bb_dim_7_1      1.000     1.000     1.000         2\n",
            "  Bb_maj_3_1      1.000     1.000     1.000         3\n",
            "   B_min_5_0      1.000     0.750     0.857         4\n",
            "   B_min_4_1      1.000     1.000     1.000         3\n",
            "   B_min_7_1      0.750     1.000     0.857         3\n",
            "  Bb_dim_5_1      1.000     1.000     1.000         2\n",
            "  Bb_maj_5_0      1.000     1.000     1.000         3\n",
            "  Bb_dim_4_0      1.000     1.000     1.000         2\n",
            "   B_min_6_0      1.000     1.000     1.000         2\n",
            "  Bb_maj_5_1      1.000     0.333     0.500         3\n",
            "  Bb_min_3_1      1.000     1.000     1.000         3\n",
            "  Bb_maj_3_0      0.000     0.000     0.000         0\n",
            "  Bb_dim_6_1      1.000     1.000     1.000         1\n",
            "  Bb_min_2_1      0.000     0.000     0.000         0\n",
            "  Bb_maj_6_1      1.000     1.000     1.000         1\n",
            "  Bb_min_4_0      1.000     0.667     0.800         3\n",
            "  Bb_maj_2_0      1.000     1.000     1.000         3\n",
            "  Bb_dim_2_1      1.000     1.000     1.000         2\n",
            "  Bb_maj_2_1      1.000     1.000     1.000         1\n",
            "  Bb_maj_7_1      0.000     0.000     0.000         0\n",
            "   B_min_6_1      1.000     1.000     1.000         1\n",
            "  Bb_dim_6_0      1.000     1.000     1.000         3\n",
            "  Bb_dim_7_0      1.000     1.000     1.000         2\n",
            "  Bb_maj_6_0      1.000     1.000     1.000         1\n",
            "  Bb_dim_2_0      0.000     0.000     0.000         0\n",
            "  Bb_min_3_0      1.000     1.000     1.000         2\n",
            "  Bb_dim_5_0      0.000     0.000     0.000         0\n",
            "  Bb_maj_4_0      1.000     1.000     1.000         1\n",
            "   C_dim_4_0      1.000     1.000     1.000         3\n",
            "   C_maj_2_0      1.000     1.000     1.000         3\n",
            "   C_dim_4_1      1.000     1.000     1.000         2\n",
            "   C_dim_6_0      1.000     0.800     0.889         5\n",
            "   C_min_2_0      0.000     0.000     0.000         0\n",
            "   C_maj_6_1      1.000     0.500     0.667         2\n",
            "   C_maj_4_0      1.000     1.000     1.000         4\n",
            "   C_min_2_1      1.000     1.000     1.000         1\n",
            "   C_maj_7_1      1.000     1.000     1.000         3\n",
            "   C_dim_7_0      0.667     1.000     0.800         2\n",
            "   C_min_3_1      1.000     1.000     1.000         6\n",
            "   C_maj_2_1      1.000     1.000     1.000         1\n",
            "  Bb_min_6_0      1.000     0.500     0.667         2\n",
            "   C_maj_5_1      1.000     1.000     1.000         3\n",
            "   C_dim_3_1      0.000     0.000     0.000         0\n",
            "  Bb_min_7_1      1.000     1.000     1.000         1\n",
            "  Bb_min_5_1      1.000     0.750     0.857         4\n",
            "   C_maj_3_1      1.000     1.000     1.000         3\n",
            "   C_maj_3_0      0.200     1.000     0.333         1\n",
            "  Bb_min_4_1      1.000     1.000     1.000         3\n",
            "   C_dim_2_1      0.000     0.000     0.000         0\n",
            "   C_dim_3_0      1.000     1.000     1.000         2\n",
            "   C_dim_2_0      1.000     1.000     1.000         1\n",
            "   C_maj_5_0      1.000     1.000     1.000         3\n",
            "   C_dim_5_1      1.000     1.000     1.000         3\n",
            "  Bb_min_6_1      0.000     0.000     0.000         0\n",
            "   C_maj_7_0      1.000     0.500     0.667         2\n",
            "   C_dim_5_0      1.000     1.000     1.000         2\n",
            "  Bb_min_5_0      1.000     1.000     1.000         4\n",
            "   C_maj_6_0      1.000     0.667     0.800         3\n",
            "   C_dim_6_1      1.000     1.000     1.000         3\n",
            "   C_min_4_1      1.000     1.000     1.000         2\n",
            "  Bb_min_7_0      1.000     1.000     1.000         3\n",
            "   C_min_3_0      0.000     0.000     0.000         0\n",
            "   C_maj_4_1      1.000     1.000     1.000         2\n",
            "   C_dim_7_1      1.000     1.000     1.000         3\n",
            "   C_min_4_0      1.000     1.000     1.000         2\n",
            "  Cs_maj_3_0      1.000     1.000     1.000         2\n",
            "  Cs_maj_4_0      1.000     1.000     1.000         2\n",
            "  Cs_maj_2_1      1.000     1.000     1.000         2\n",
            "  Cs_dim_6_0      1.000     1.000     1.000         3\n",
            "   C_min_5_1      1.000     1.000     1.000         1\n",
            "  Cs_min_2_0      1.000     1.000     1.000         1\n",
            "  Cs_maj_3_1      1.000     1.000     1.000         5\n",
            "  Cs_dim_3_1      0.000     0.000     0.000         0\n",
            "  Cs_min_3_0      1.000     1.000     1.000         3\n",
            "  Cs_dim_4_0      1.000     1.000     1.000         3\n",
            "  Cs_maj_2_0      1.000     1.000     1.000         1\n",
            "  Cs_dim_6_1      0.500     1.000     0.667         3\n",
            "  Cs_maj_7_0      1.000     1.000     1.000         3\n",
            "  Cs_dim_5_1      1.000     1.000     1.000         1\n",
            "  Cs_maj_6_1      1.000     1.000     1.000         3\n",
            "  Cs_dim_7_0      0.000     0.000     0.000         0\n",
            "  Cs_dim_2_0      0.000     0.000     0.000         0\n",
            "   C_min_6_1      1.000     1.000     1.000         1\n",
            "  Cs_maj_5_0      0.000     0.000     0.000         0\n",
            "   C_min_7_1      0.200     1.000     0.333         1\n",
            "  Cs_min_4_1      1.000     1.000     1.000         2\n",
            "  Cs_dim_7_1      1.000     1.000     1.000         2\n",
            "  Cs_dim_5_0      1.000     1.000     1.000         3\n",
            "  Cs_maj_6_0      0.333     1.000     0.500         1\n",
            "  Cs_min_5_0      1.000     1.000     1.000         1\n",
            "   C_min_6_0      1.000     0.500     0.667         2\n",
            "  Cs_maj_5_1      1.000     1.000     1.000         3\n",
            "  Cs_min_3_1      1.000     1.000     1.000         2\n",
            "  Cs_maj_7_1      1.000     1.000     1.000         3\n",
            "  Cs_min_2_1      1.000     1.000     1.000         1\n",
            "  Cs_dim_4_1      1.000     1.000     1.000         3\n",
            "  Cs_dim_3_0      1.000     1.000     1.000         4\n",
            "  Cs_dim_2_1      1.000     1.000     1.000         2\n",
            "  Cs_maj_4_1      1.000     1.000     1.000         3\n",
            "  Cs_min_4_0      0.000     0.000     0.000         0\n",
            "   C_min_7_0      0.500     0.333     0.400         3\n",
            "   C_min_5_0      0.000     0.000     0.000         0\n",
            "   D_dim_3_0      1.000     1.000     1.000         3\n",
            "   D_maj_5_0      1.000     1.000     1.000         2\n",
            "   D_dim_4_0      1.000     1.000     1.000         1\n",
            "  Cs_min_7_0      1.000     1.000     1.000         2\n",
            "   D_maj_7_1      0.667     1.000     0.800         2\n",
            "   D_min_5_0      1.000     1.000     1.000         3\n",
            "   D_dim_3_1      1.000     1.000     1.000         2\n",
            "   D_maj_4_0      1.000     1.000     1.000         4\n",
            "   D_dim_7_1      0.000     0.000     0.000         0\n",
            "   D_min_4_1      1.000     1.000     1.000         5\n",
            "   D_min_4_0      1.000     1.000     1.000         6\n",
            "   D_maj_3_0      0.000     0.000     0.000         4\n",
            "   D_maj_7_0      1.000     0.500     0.667         2\n",
            "   D_min_2_1      1.000     1.000     1.000         2\n",
            "   D_dim_2_0      1.000     1.000     1.000         1\n",
            "   D_maj_6_0      1.000     1.000     1.000         2\n",
            "   D_min_3_0      1.000     1.000     1.000         1\n",
            "   D_maj_5_1      1.000     0.833     0.909         6\n",
            "   D_dim_6_0      0.000     0.000     0.000         0\n",
            "   D_dim_5_1      1.000     1.000     1.000         1\n",
            "   D_maj_2_0      1.000     1.000     1.000         2\n",
            "   D_maj_4_1      1.000     1.000     1.000         1\n",
            "  Cs_min_5_1      1.000     1.000     1.000         4\n",
            "   D_maj_2_1      1.000     0.667     0.800         3\n",
            "   D_maj_3_1      1.000     1.000     1.000         3\n",
            "  Cs_min_6_0      1.000     0.750     0.857         4\n",
            "   D_min_2_0      1.000     1.000     1.000         1\n",
            "   D_min_5_1      1.000     1.000     1.000         3\n",
            "   D_dim_4_1      1.000     1.000     1.000         5\n",
            "   D_dim_6_1      1.000     1.000     1.000         2\n",
            "   D_dim_2_1      1.000     1.000     1.000         2\n",
            "   D_dim_5_0      1.000     1.000     1.000         2\n",
            "   D_dim_7_0      1.000     0.500     0.667         2\n",
            "  Cs_min_6_1      0.000     0.000     0.000         0\n",
            "   D_maj_6_1      1.000     1.000     1.000         1\n",
            "   D_min_3_1      0.000     0.000     0.000         0\n",
            "  Cs_min_7_1      1.000     1.000     1.000         2\n",
            "   E_maj_2_1      1.000     1.000     1.000         2\n",
            "   E_dim_6_1      1.000     1.000     1.000         3\n",
            "   D_min_7_0      1.000     1.000     1.000         1\n",
            "   D_min_6_0      0.000     0.000     0.000         0\n",
            "   E_min_3_0      1.000     1.000     1.000         2\n",
            "   D_min_6_1      0.750     1.000     0.857         3\n",
            "   E_dim_7_1      1.000     0.750     0.857         4\n",
            "   E_min_2_1      1.000     1.000     1.000         2\n",
            "   E_dim_2_1      1.000     1.000     1.000         3\n",
            "   E_dim_5_1      1.000     1.000     1.000         2\n",
            "   E_dim_7_0      1.000     1.000     1.000         2\n",
            "   E_dim_3_0      1.000     1.000     1.000         3\n",
            "   E_dim_4_0      1.000     1.000     1.000         4\n",
            "   E_min_2_0      1.000     1.000     1.000         2\n",
            "   E_dim_3_1      1.000     1.000     1.000         2\n",
            "   E_maj_4_0      0.000     0.000     0.000         0\n",
            "   E_min_3_1      1.000     1.000     1.000         1\n",
            "   E_maj_5_0      1.000     1.000     1.000         2\n",
            "   E_maj_7_1      1.000     1.000     1.000         2\n",
            "   E_min_4_1      1.000     1.000     1.000         4\n",
            "   E_min_4_0      0.000     0.000     0.000         0\n",
            "   E_min_6_0      0.000     0.000     0.000         1\n",
            "   E_maj_4_1      1.000     1.000     1.000         2\n",
            "   E_maj_7_0      1.000     1.000     1.000         4\n",
            "   E_dim_4_1      1.000     1.000     1.000         1\n",
            "   E_maj_6_0      1.000     1.000     1.000         1\n",
            "   E_maj_3_1      1.000     1.000     1.000         3\n",
            "   E_dim_5_0      0.000     0.000     0.000         0\n",
            "   E_maj_2_0      1.000     1.000     1.000         3\n",
            "   E_min_5_0      1.000     1.000     1.000         1\n",
            "   E_min_5_1      1.000     1.000     1.000         1\n",
            "   E_dim_2_0      1.000     1.000     1.000         4\n",
            "   E_maj_6_1      1.000     0.500     0.667         4\n",
            "   E_maj_3_0      1.000     1.000     1.000         5\n",
            "   E_maj_5_1      0.000     0.000     0.000         0\n",
            "   E_dim_6_0      1.000     1.000     1.000         2\n",
            "   D_min_7_1      1.000     0.500     0.667         2\n",
            "  Eb_min_4_1      1.000     1.000     1.000         3\n",
            "  Eb_dim_6_1      1.000     1.000     1.000         3\n",
            "  Eb_maj_7_0      1.000     0.500     0.667         2\n",
            "  Eb_min_3_1      1.000     1.000     1.000         1\n",
            "  Eb_min_2_0      1.000     1.000     1.000         1\n",
            "  Eb_maj_5_0      1.000     1.000     1.000         1\n",
            "  Eb_maj_4_0      0.000     0.000     0.000         0\n",
            "  Eb_maj_5_1      1.000     1.000     1.000         2\n",
            "  Eb_dim_5_1      0.500     1.000     0.667         1\n",
            "  Eb_min_5_0      1.000     1.000     1.000         2\n",
            "  Eb_maj_3_0      1.000     1.000     1.000         2\n",
            "  Eb_dim_2_1      1.000     1.000     1.000         1\n",
            "  Eb_maj_3_1      1.000     1.000     1.000         2\n",
            "  Eb_dim_7_0      1.000     1.000     1.000         2\n",
            "  Eb_dim_3_0      1.000     1.000     1.000         2\n",
            "  Eb_dim_4_0      1.000     1.000     1.000         4\n",
            "  Eb_min_5_1      0.000     0.000     0.000         0\n",
            "   E_min_7_0      1.000     1.000     1.000         1\n",
            "  Eb_maj_6_0      1.000     0.800     0.889         5\n",
            "  Eb_maj_2_0      1.000     1.000     1.000         4\n",
            "   E_min_6_1      1.000     1.000     1.000         2\n",
            "   E_min_7_1      0.000     0.000     0.000         0\n",
            "  Eb_dim_2_0      1.000     0.667     0.800         3\n",
            "  Eb_maj_2_1      0.000     0.000     0.000         1\n",
            "  Eb_maj_4_1      1.000     1.000     1.000         1\n",
            "  Eb_min_6_0      1.000     1.000     1.000         4\n",
            "  Eb_maj_7_1      1.000     1.000     1.000         1\n",
            "  Eb_dim_4_1      1.000     1.000     1.000         2\n",
            "  Eb_dim_5_0      1.000     1.000     1.000         6\n",
            "  Eb_min_4_0      1.000     1.000     1.000         3\n",
            "  Eb_min_3_0      1.000     1.000     1.000         3\n",
            "  Eb_min_2_1      0.000     0.000     0.000         0\n",
            "  Eb_dim_7_1      1.000     0.667     0.800         3\n",
            "  Eb_dim_3_1      1.000     1.000     1.000         2\n",
            "  Eb_maj_6_1      0.000     0.000     0.000         0\n",
            "  Eb_dim_6_0      1.000     1.000     1.000         1\n",
            "   F_maj_4_0      1.000     1.000     1.000         1\n",
            "   F_dim_7_1      1.000     1.000     1.000         2\n",
            "   F_dim_2_1      1.000     1.000     1.000         1\n",
            "   F_dim_4_0      1.000     1.000     1.000         2\n",
            "   F_dim_5_1      1.000     1.000     1.000         2\n",
            "   F_dim_7_0      1.000     1.000     1.000         1\n",
            "   F_maj_7_0      0.500     1.000     0.667         1\n",
            "   F_min_4_0      1.000     1.000     1.000         1\n",
            "  Eb_min_7_0      1.000     1.000     1.000         4\n",
            "   F_dim_2_0      1.000     1.000     1.000         2\n",
            "   F_maj_2_0      1.000     1.000     1.000         5\n",
            "   F_maj_6_0      1.000     0.800     0.889         5\n",
            "   F_min_6_1      1.000     1.000     1.000         2\n",
            "   F_min_5_0      1.000     1.000     1.000         2\n",
            "   F_min_2_1      1.000     1.000     1.000         1\n",
            "   F_dim_3_1      0.000     0.000     0.000         0\n",
            "   F_min_6_0      1.000     1.000     1.000         2\n",
            "   F_dim_3_0      1.000     1.000     1.000         2\n",
            "   F_maj_3_1      1.000     1.000     1.000         2\n",
            "   F_dim_6_1      0.000     0.000     0.000         1\n",
            "   F_maj_5_0      1.000     1.000     1.000         1\n",
            "   F_min_4_1      1.000     1.000     1.000         3\n",
            "  Eb_min_7_1      1.000     1.000     1.000         1\n",
            "   F_min_3_0      1.000     1.000     1.000         2\n",
            "   F_min_3_1      1.000     1.000     1.000         2\n",
            "   F_maj_3_0      1.000     1.000     1.000         1\n",
            "   F_min_2_0      1.000     1.000     1.000         3\n",
            "   F_maj_4_1      1.000     1.000     1.000         1\n",
            "   F_dim_4_1      1.000     1.000     1.000         2\n",
            "   F_dim_5_0      1.000     1.000     1.000         2\n",
            "   F_dim_6_0      1.000     1.000     1.000         2\n",
            "   F_min_5_1      1.000     1.000     1.000         1\n",
            "   F_maj_5_1      1.000     0.500     0.667         2\n",
            "   F_maj_7_1      1.000     1.000     1.000         1\n",
            "   F_maj_2_1      1.000     1.000     1.000         1\n",
            "  Eb_min_6_1      1.000     1.000     1.000         2\n",
            "   F_maj_6_1      1.000     1.000     1.000         3\n",
            "  Fs_maj_4_1      1.000     1.000     1.000         1\n",
            "  Fs_dim_6_0      1.000     1.000     1.000         1\n",
            "  Fs_maj_7_1      1.000     1.000     1.000         2\n",
            "  Fs_maj_4_0      1.000     0.750     0.857         4\n",
            "  Fs_min_5_0      1.000     1.000     1.000         3\n",
            "  Fs_maj_5_0      1.000     1.000     1.000         1\n",
            "  Fs_dim_4_1      1.000     1.000     1.000         3\n",
            "  Fs_dim_4_0      1.000     1.000     1.000         1\n",
            "  Fs_maj_3_1      1.000     1.000     1.000         4\n",
            "  Fs_maj_7_0      1.000     1.000     1.000         3\n",
            "  Fs_dim_5_0      1.000     1.000     1.000         1\n",
            "  Fs_maj_6_1      1.000     1.000     1.000         1\n",
            "   F_min_7_0      1.000     1.000     1.000         1\n",
            "  Fs_min_6_1      1.000     0.800     0.889         5\n",
            "  Fs_min_2_0      0.000     0.000     0.000         0\n",
            "  Fs_min_3_1      1.000     1.000     1.000         2\n",
            "  Fs_min_5_1      1.000     1.000     1.000         2\n",
            "  Fs_dim_7_1      0.000     0.000     0.000         1\n",
            "  Fs_maj_2_0      1.000     1.000     1.000         1\n",
            "  Fs_min_2_1      1.000     1.000     1.000         2\n",
            "  Fs_min_6_0      1.000     1.000     1.000         3\n",
            "   F_min_7_1      1.000     1.000     1.000         2\n",
            "  Fs_min_3_0      1.000     1.000     1.000         2\n",
            "  Fs_dim_7_0      1.000     1.000     1.000         1\n",
            "  Fs_dim_2_0      0.500     1.000     0.667         1\n",
            "  Fs_min_4_0      0.000     0.000     0.000         0\n",
            "  Fs_dim_3_1      1.000     1.000     1.000         3\n",
            "  Fs_maj_6_0      1.000     1.000     1.000         1\n",
            "  Fs_maj_2_1      0.667     1.000     0.800         2\n",
            "  Fs_dim_6_1      1.000     1.000     1.000         4\n",
            "  Fs_dim_5_1      0.000     0.000     0.000         0\n",
            "  Fs_min_7_0      0.667     1.000     0.800         2\n",
            "  Fs_min_4_1      1.000     0.500     0.667         2\n",
            "  Fs_maj_5_1      1.000     1.000     1.000         2\n",
            "  Fs_dim_3_0      1.000     1.000     1.000         1\n",
            "  Fs_dim_2_1      1.000     1.000     1.000         2\n",
            "  Fs_maj_3_0      1.000     1.000     1.000         3\n",
            "   G_maj_6_0      1.000     0.667     0.800         3\n",
            "   G_maj_5_0      1.000     1.000     1.000         2\n",
            "   G_min_3_1      1.000     1.000     1.000         2\n",
            "   G_dim_5_1      1.000     1.000     1.000         2\n",
            "   G_dim_4_0      1.000     1.000     1.000         1\n",
            "   G_maj_2_1      1.000     1.000     1.000         1\n",
            "   G_min_5_0      1.000     1.000     1.000         4\n",
            "   G_min_4_0      1.000     1.000     1.000         4\n",
            "   G_min_2_0      1.000     1.000     1.000         2\n",
            "   G_maj_6_1      0.000     0.000     0.000         1\n",
            "   G_maj_3_0      0.000     0.000     0.000         0\n",
            "   G_dim_7_1      1.000     1.000     1.000         2\n",
            "   G_maj_7_1      1.000     0.667     0.800         3\n",
            "   G_maj_2_0      1.000     1.000     1.000         1\n",
            "   G_min_7_0      0.500     1.000     0.667         1\n",
            "   G_min_2_1      1.000     1.000     1.000         2\n",
            "   G_min_5_1      1.000     1.000     1.000         2\n",
            "   G_dim_2_0      1.000     1.000     1.000         3\n",
            "   G_dim_3_0      1.000     1.000     1.000         2\n",
            "   G_dim_6_1      1.000     1.000     1.000         1\n",
            "  Fs_min_7_1      1.000     0.800     0.889         5\n",
            "   G_dim_3_1      1.000     1.000     1.000         3\n",
            "   G_dim_7_0      1.000     1.000     1.000         2\n",
            "   G_min_3_0      1.000     1.000     1.000         1\n",
            "   G_dim_5_0      1.000     1.000     1.000         3\n",
            "   G_dim_6_0      0.500     1.000     0.667         1\n",
            "   G_dim_2_1      1.000     1.000     1.000         2\n",
            "   G_min_6_1      1.000     1.000     1.000         6\n",
            "   G_maj_5_1      1.000     1.000     1.000         2\n",
            "   G_min_4_1      1.000     1.000     1.000         1\n",
            "   G_min_6_0      1.000     1.000     1.000         3\n",
            "   G_maj_3_1      1.000     1.000     1.000         2\n",
            "   G_dim_4_1      1.000     1.000     1.000         1\n",
            "   G_maj_4_0      1.000     1.000     1.000         2\n",
            "   G_maj_7_0      1.000     0.333     0.500         3\n",
            "   G_maj_4_1      0.000     0.000     0.000         0\n",
            "  Gs_maj_3_1      1.000     1.000     1.000         1\n",
            "  Gs_maj_6_0      1.000     0.500     0.667         2\n",
            "  Gs_min_4_0      1.000     1.000     1.000         2\n",
            "  Gs_dim_7_0      1.000     1.000     1.000         2\n",
            "  Gs_min_3_1      1.000     1.000     1.000         2\n",
            "  Gs_maj_3_0      1.000     1.000     1.000         2\n",
            "  Gs_dim_4_1      1.000     1.000     1.000         1\n",
            "  Gs_min_5_0      1.000     1.000     1.000         1\n",
            "  Gs_maj_6_1      0.000     0.000     0.000         0\n",
            "  Gs_dim_6_1      0.000     0.000     0.000         0\n",
            "  Gs_maj_7_1      1.000     1.000     1.000         2\n",
            "  Gs_dim_2_0      1.000     1.000     1.000         2\n",
            "  Gs_dim_2_1      1.000     1.000     1.000         3\n",
            "  Gs_dim_6_0      1.000     0.500     0.667         2\n",
            "  Gs_min_7_0      1.000     1.000     1.000         2\n",
            "  Gs_min_7_1      0.000     0.000     0.000         0\n",
            "  Gs_dim_3_0      1.000     1.000     1.000         1\n",
            "  Gs_dim_4_0      1.000     1.000     1.000         2\n",
            "  Gs_maj_4_1      0.500     1.000     0.667         1\n",
            "  Gs_dim_5_0      1.000     1.000     1.000         2\n",
            "  Gs_min_4_1      1.000     1.000     1.000         1\n",
            "  Gs_min_5_1      1.000     1.000     1.000         3\n",
            "  Gs_maj_5_0      0.000     0.000     0.000         0\n",
            "  Gs_min_3_0      0.000     0.000     0.000         0\n",
            "  Gs_min_2_0      0.000     0.000     0.000         0\n",
            "  Gs_dim_5_1      0.500     1.000     0.667         1\n",
            "  Gs_maj_4_0      0.000     0.000     0.000         1\n",
            "  Gs_maj_2_0      1.000     1.000     1.000         1\n",
            "  Gs_maj_5_1      0.000     0.000     0.000         0\n",
            "  Gs_maj_7_0      1.000     1.000     1.000         2\n",
            "   G_min_7_1      1.000     1.000     1.000         1\n",
            "  Gs_min_6_1      1.000     1.000     1.000         2\n",
            "  Gs_dim_3_1      1.000     1.000     1.000         4\n",
            "  Gs_min_6_0      0.667     0.667     0.667         3\n",
            "  Gs_dim_7_1      0.667     1.000     0.800         2\n",
            "  Gs_maj_2_1      1.000     1.000     1.000         1\n",
            "  Gs_min_2_1      0.000     0.000     0.000         0\n",
            "\n",
            "   micro avg      0.933     0.933     0.933       864\n",
            "   macro avg      0.836     0.831     0.824       864\n",
            "weighted avg      0.961     0.933     0.937       864\n",
            " samples avg      0.933     0.933     0.933       864\n",
            "\n"
          ]
        },
        {
          "output_type": "stream",
          "name": "stderr",
          "text": [
            "/usr/local/lib/python3.7/dist-packages/sklearn/metrics/_classification.py:1318: UndefinedMetricWarning: Precision and F-score are ill-defined and being set to 0.0 in labels with no predicted samples. Use `zero_division` parameter to control this behavior.\n",
            "  _warn_prf(average, modifier, msg_start, len(result))\n",
            "/usr/local/lib/python3.7/dist-packages/sklearn/metrics/_classification.py:1318: UndefinedMetricWarning: Recall and F-score are ill-defined and being set to 0.0 in labels with no true samples. Use `zero_division` parameter to control this behavior.\n",
            "  _warn_prf(average, modifier, msg_start, len(result))\n"
          ]
        },
        {
          "output_type": "display_data",
          "data": {
            "text/plain": [
              "<Figure size 432x288 with 1 Axes>"
            ],
            "image/png": "[encoded data removed]"
          },
          "metadata": {
            "needs_background": "light"
          }
        },
        {
          "output_type": "display_data",
          "data": {
            "text/plain": [
              "<Figure size 432x288 with 1 Axes>"
            ],
            "image/png": "[encoded data removed]"
          },
          "metadata": {
            "needs_background": "light"
          }
        }
      ],
      "source": [
        "with tf.device('/GPU:0'):\n",
        "  NR_history = NR_model.fit(X_train, y_train, validation_data=(X_test, y_test), batch_size=64, epochs=100, verbose=2, callbacks=[checkpoint]).history\n",
        "  NR_model = load_model(filepath)\n",
        "  outputResult(NR_model, NR_history, X_train, y_train, X_test, y_test, noteDic)\n",
        "  showPlots(NR_model, NR_history)"
      ]
    },
    {
      "cell_type": "code",
      "source": [
        "with tf.device('/GPU:0'):\n",
        "  NR_history = NR_model.fit(X_NR, y_true_NR_aug, batch_size=64, epochs=100, verbose=2, callbacks=[checkpoint]).history\n",
        "  NR_model = load_model(filepath)\n"
      ],
      "metadata": {
        "colab": {
          "base_uri": "https://localhost:8080/"
        },
        "id": "CFPGW1Zr5qOq",
        "outputId": "9968d96e-c035-41e1-9f01-3a7629f1c078"
      },
      "execution_count": null,
      "outputs": [
        {
          "output_type": "stream",
          "name": "stdout",
          "text": [
            "Epoch 1/100\n",
            "68/68 - 3s - loss: 6.1153 - accuracy: 0.0060 - 3s/epoch - 42ms/step\n",
            "Epoch 2/100\n",
            "68/68 - 4s - loss: 5.6587 - accuracy: 0.0799 - 4s/epoch - 53ms/step\n",
            "Epoch 3/100\n",
            "68/68 - 2s - loss: 4.9076 - accuracy: 0.2632 - 2s/epoch - 34ms/step\n",
            "Epoch 4/100\n",
            "68/68 - 2s - loss: 4.0415 - accuracy: 0.4757 - 2s/epoch - 27ms/step\n",
            "Epoch 5/100\n",
            "68/68 - 2s - loss: 3.2564 - accuracy: 0.6086 - 2s/epoch - 28ms/step\n",
            "Epoch 6/100\n",
            "68/68 - 2s - loss: 2.6052 - accuracy: 0.7104 - 2s/epoch - 29ms/step\n",
            "Epoch 7/100\n",
            "68/68 - 2s - loss: 2.0947 - accuracy: 0.7713 - 2s/epoch - 28ms/step\n",
            "Epoch 8/100\n",
            "68/68 - 2s - loss: 1.7116 - accuracy: 0.8201 - 2s/epoch - 28ms/step\n",
            "Epoch 9/100\n",
            "68/68 - 2s - loss: 1.4137 - accuracy: 0.8463 - 2s/epoch - 27ms/step\n",
            "Epoch 10/100\n",
            "68/68 - 2s - loss: 1.1889 - accuracy: 0.8713 - 2s/epoch - 27ms/step\n",
            "Epoch 11/100\n",
            "68/68 - 2s - loss: 1.0140 - accuracy: 0.8838 - 2s/epoch - 28ms/step\n",
            "Epoch 12/100\n",
            "68/68 - 2s - loss: 0.8689 - accuracy: 0.9044 - 2s/epoch - 27ms/step\n",
            "Epoch 13/100\n",
            "68/68 - 2s - loss: 0.7538 - accuracy: 0.9162 - 2s/epoch - 27ms/step\n",
            "Epoch 14/100\n",
            "68/68 - 2s - loss: 0.6614 - accuracy: 0.9236 - 2s/epoch - 27ms/step\n",
            "Epoch 15/100\n",
            "68/68 - 2s - loss: 0.5806 - accuracy: 0.9336 - 2s/epoch - 27ms/step\n",
            "Epoch 16/100\n",
            "68/68 - 2s - loss: 0.5150 - accuracy: 0.9407 - 2s/epoch - 28ms/step\n",
            "Epoch 17/100\n",
            "68/68 - 2s - loss: 0.4571 - accuracy: 0.9458 - 2s/epoch - 28ms/step\n",
            "Epoch 18/100\n",
            "68/68 - 2s - loss: 0.4105 - accuracy: 0.9495 - 2s/epoch - 27ms/step\n",
            "Epoch 19/100\n",
            "68/68 - 2s - loss: 0.3691 - accuracy: 0.9549 - 2s/epoch - 27ms/step\n",
            "Epoch 20/100\n",
            "68/68 - 2s - loss: 0.3328 - accuracy: 0.9563 - 2s/epoch - 27ms/step\n",
            "Epoch 21/100\n",
            "68/68 - 2s - loss: 0.3052 - accuracy: 0.9641 - 2s/epoch - 27ms/step\n",
            "Epoch 22/100\n",
            "68/68 - 2s - loss: 0.2788 - accuracy: 0.9653 - 2s/epoch - 27ms/step\n",
            "Epoch 23/100\n",
            "68/68 - 2s - loss: 0.2539 - accuracy: 0.9676 - 2s/epoch - 28ms/step\n",
            "Epoch 24/100\n",
            "68/68 - 2s - loss: 0.2324 - accuracy: 0.9701 - 2s/epoch - 27ms/step\n",
            "Epoch 25/100\n",
            "68/68 - 2s - loss: 0.2127 - accuracy: 0.9738 - 2s/epoch - 28ms/step\n",
            "Epoch 26/100\n",
            "68/68 - 2s - loss: 0.1967 - accuracy: 0.9750 - 2s/epoch - 27ms/step\n",
            "Epoch 27/100\n",
            "68/68 - 2s - loss: 0.1834 - accuracy: 0.9755 - 2s/epoch - 27ms/step\n",
            "Epoch 28/100\n",
            "68/68 - 2s - loss: 0.1704 - accuracy: 0.9766 - 2s/epoch - 27ms/step\n",
            "Epoch 29/100\n",
            "68/68 - 2s - loss: 0.1571 - accuracy: 0.9799 - 2s/epoch - 27ms/step\n",
            "Epoch 30/100\n",
            "68/68 - 2s - loss: 0.1513 - accuracy: 0.9794 - 2s/epoch - 26ms/step\n",
            "Epoch 31/100\n",
            "68/68 - 2s - loss: 0.1405 - accuracy: 0.9785 - 2s/epoch - 25ms/step\n",
            "Epoch 32/100\n",
            "68/68 - 2s - loss: 0.1328 - accuracy: 0.9789 - 2s/epoch - 26ms/step\n",
            "Epoch 33/100\n",
            "68/68 - 2s - loss: 0.1209 - accuracy: 0.9829 - 2s/epoch - 33ms/step\n",
            "Epoch 34/100\n",
            "68/68 - 2s - loss: 0.1148 - accuracy: 0.9838 - 2s/epoch - 28ms/step\n",
            "Epoch 35/100\n",
            "68/68 - 2s - loss: 0.1094 - accuracy: 0.9836 - 2s/epoch - 26ms/step\n",
            "Epoch 36/100\n",
            "68/68 - 2s - loss: 0.1062 - accuracy: 0.9831 - 2s/epoch - 25ms/step\n",
            "Epoch 37/100\n",
            "68/68 - 2s - loss: 0.1009 - accuracy: 0.9836 - 2s/epoch - 26ms/step\n",
            "Epoch 38/100\n",
            "68/68 - 2s - loss: 0.0971 - accuracy: 0.9831 - 2s/epoch - 27ms/step\n",
            "Epoch 39/100\n",
            "68/68 - 2s - loss: 0.0923 - accuracy: 0.9836 - 2s/epoch - 26ms/step\n",
            "Epoch 40/100\n",
            "68/68 - 2s - loss: 0.0871 - accuracy: 0.9852 - 2s/epoch - 32ms/step\n",
            "Epoch 41/100\n",
            "68/68 - 2s - loss: 0.0859 - accuracy: 0.9843 - 2s/epoch - 26ms/step\n",
            "Epoch 42/100\n",
            "68/68 - 2s - loss: 0.0815 - accuracy: 0.9866 - 2s/epoch - 27ms/step\n",
            "Epoch 43/100\n",
            "68/68 - 2s - loss: 0.0796 - accuracy: 0.9843 - 2s/epoch - 26ms/step\n",
            "Epoch 44/100\n",
            "68/68 - 2s - loss: 0.0773 - accuracy: 0.9856 - 2s/epoch - 26ms/step\n",
            "Epoch 45/100\n",
            "68/68 - 2s - loss: 0.0724 - accuracy: 0.9852 - 2s/epoch - 26ms/step\n",
            "Epoch 46/100\n",
            "68/68 - 2s - loss: 0.0694 - accuracy: 0.9859 - 2s/epoch - 27ms/step\n",
            "Epoch 47/100\n",
            "68/68 - 2s - loss: 0.0609 - accuracy: 0.9889 - 2s/epoch - 32ms/step\n",
            "Epoch 48/100\n",
            "68/68 - 2s - loss: 0.0629 - accuracy: 0.9863 - 2s/epoch - 32ms/step\n",
            "Epoch 49/100\n",
            "68/68 - 3s - loss: 0.0604 - accuracy: 0.9875 - 3s/epoch - 40ms/step\n",
            "Epoch 50/100\n",
            "68/68 - 2s - loss: 0.0606 - accuracy: 0.9873 - 2s/epoch - 35ms/step\n",
            "Epoch 51/100\n",
            "68/68 - 2s - loss: 0.0584 - accuracy: 0.9868 - 2s/epoch - 26ms/step\n",
            "Epoch 52/100\n",
            "68/68 - 2s - loss: 0.0552 - accuracy: 0.9889 - 2s/epoch - 27ms/step\n",
            "Epoch 53/100\n",
            "68/68 - 2s - loss: 0.0518 - accuracy: 0.9903 - 2s/epoch - 32ms/step\n",
            "Epoch 54/100\n",
            "68/68 - 2s - loss: 0.0537 - accuracy: 0.9887 - 2s/epoch - 35ms/step\n",
            "Epoch 55/100\n",
            "68/68 - 2s - loss: 0.0516 - accuracy: 0.9887 - 2s/epoch - 26ms/step\n",
            "Epoch 56/100\n",
            "68/68 - 2s - loss: 0.0487 - accuracy: 0.9912 - 2s/epoch - 28ms/step\n",
            "Epoch 57/100\n",
            "68/68 - 2s - loss: 0.0481 - accuracy: 0.9880 - 2s/epoch - 26ms/step\n",
            "Epoch 58/100\n",
            "68/68 - 2s - loss: 0.0455 - accuracy: 0.9889 - 2s/epoch - 26ms/step\n",
            "Epoch 59/100\n",
            "68/68 - 2s - loss: 0.0439 - accuracy: 0.9898 - 2s/epoch - 26ms/step\n",
            "Epoch 60/100\n",
            "68/68 - 2s - loss: 0.0438 - accuracy: 0.9894 - 2s/epoch - 26ms/step\n",
            "Epoch 61/100\n",
            "68/68 - 2s - loss: 0.0438 - accuracy: 0.9891 - 2s/epoch - 26ms/step\n",
            "Epoch 62/100\n",
            "68/68 - 2s - loss: 0.0434 - accuracy: 0.9889 - 2s/epoch - 26ms/step\n",
            "Epoch 63/100\n",
            "68/68 - 2s - loss: 0.0433 - accuracy: 0.9884 - 2s/epoch - 26ms/step\n",
            "Epoch 64/100\n",
            "68/68 - 2s - loss: 0.0363 - accuracy: 0.9912 - 2s/epoch - 26ms/step\n",
            "Epoch 65/100\n",
            "68/68 - 2s - loss: 0.0393 - accuracy: 0.9907 - 2s/epoch - 26ms/step\n",
            "Epoch 66/100\n",
            "68/68 - 2s - loss: 0.0408 - accuracy: 0.9894 - 2s/epoch - 25ms/step\n",
            "Epoch 67/100\n",
            "68/68 - 2s - loss: 0.0355 - accuracy: 0.9905 - 2s/epoch - 25ms/step\n",
            "Epoch 68/100\n",
            "68/68 - 2s - loss: 0.0412 - accuracy: 0.9882 - 2s/epoch - 25ms/step\n",
            "Epoch 69/100\n",
            "68/68 - 2s - loss: 0.0437 - accuracy: 0.9898 - 2s/epoch - 26ms/step\n",
            "Epoch 70/100\n",
            "68/68 - 2s - loss: 0.0370 - accuracy: 0.9912 - 2s/epoch - 26ms/step\n",
            "Epoch 71/100\n",
            "68/68 - 2s - loss: 0.0354 - accuracy: 0.9907 - 2s/epoch - 26ms/step\n",
            "Epoch 72/100\n",
            "68/68 - 2s - loss: 0.0341 - accuracy: 0.9917 - 2s/epoch - 31ms/step\n",
            "Epoch 73/100\n",
            "68/68 - 2s - loss: 0.0377 - accuracy: 0.9894 - 2s/epoch - 26ms/step\n",
            "Epoch 74/100\n",
            "68/68 - 2s - loss: 0.0362 - accuracy: 0.9907 - 2s/epoch - 26ms/step\n",
            "Epoch 75/100\n",
            "68/68 - 2s - loss: 0.0338 - accuracy: 0.9907 - 2s/epoch - 26ms/step\n",
            "Epoch 76/100\n",
            "68/68 - 2s - loss: 0.0427 - accuracy: 0.9889 - 2s/epoch - 26ms/step\n",
            "Epoch 77/100\n",
            "68/68 - 2s - loss: 0.0358 - accuracy: 0.9889 - 2s/epoch - 26ms/step\n",
            "Epoch 78/100\n",
            "68/68 - 2s - loss: 0.0373 - accuracy: 0.9912 - 2s/epoch - 26ms/step\n",
            "Epoch 79/100\n",
            "68/68 - 2s - loss: 0.0319 - accuracy: 0.9894 - 2s/epoch - 26ms/step\n",
            "Epoch 80/100\n",
            "68/68 - 2s - loss: 0.0384 - accuracy: 0.9884 - 2s/epoch - 27ms/step\n",
            "Epoch 81/100\n",
            "68/68 - 2s - loss: 0.0308 - accuracy: 0.9896 - 2s/epoch - 26ms/step\n",
            "Epoch 82/100\n",
            "68/68 - 2s - loss: 0.0468 - accuracy: 0.9889 - 2s/epoch - 26ms/step\n",
            "Epoch 83/100\n",
            "68/68 - 2s - loss: 0.0470 - accuracy: 0.9889 - 2s/epoch - 26ms/step\n",
            "Epoch 84/100\n",
            "68/68 - 2s - loss: 0.0392 - accuracy: 0.9898 - 2s/epoch - 26ms/step\n",
            "Epoch 85/100\n",
            "68/68 - 2s - loss: 0.0315 - accuracy: 0.9921 - 2s/epoch - 33ms/step\n",
            "Epoch 86/100\n",
            "68/68 - 2s - loss: 0.0319 - accuracy: 0.9910 - 2s/epoch - 26ms/step\n",
            "Epoch 87/100\n",
            "68/68 - 2s - loss: 0.0300 - accuracy: 0.9917 - 2s/epoch - 26ms/step\n",
            "Epoch 88/100\n",
            "68/68 - 2s - loss: 0.0276 - accuracy: 0.9914 - 2s/epoch - 26ms/step\n",
            "Epoch 89/100\n",
            "68/68 - 2s - loss: 0.0263 - accuracy: 0.9914 - 2s/epoch - 26ms/step\n",
            "Epoch 90/100\n",
            "68/68 - 2s - loss: 0.0243 - accuracy: 0.9912 - 2s/epoch - 26ms/step\n",
            "Epoch 91/100\n",
            "68/68 - 2s - loss: 0.0283 - accuracy: 0.9914 - 2s/epoch - 27ms/step\n",
            "Epoch 92/100\n",
            "68/68 - 2s - loss: 0.0276 - accuracy: 0.9921 - 2s/epoch - 26ms/step\n",
            "Epoch 93/100\n",
            "68/68 - 2s - loss: 0.0245 - accuracy: 0.9917 - 2s/epoch - 26ms/step\n",
            "Epoch 94/100\n",
            "68/68 - 2s - loss: 0.0233 - accuracy: 0.9912 - 2s/epoch - 26ms/step\n",
            "Epoch 95/100\n",
            "68/68 - 2s - loss: 0.0250 - accuracy: 0.9924 - 2s/epoch - 32ms/step\n",
            "Epoch 96/100\n",
            "68/68 - 2s - loss: 0.0236 - accuracy: 0.9914 - 2s/epoch - 26ms/step\n",
            "Epoch 97/100\n",
            "68/68 - 2s - loss: 0.0238 - accuracy: 0.9926 - 2s/epoch - 28ms/step\n",
            "Epoch 98/100\n",
            "68/68 - 2s - loss: 0.0225 - accuracy: 0.9926 - 2s/epoch - 26ms/step\n",
            "Epoch 99/100\n",
            "68/68 - 2s - loss: 0.0287 - accuracy: 0.9896 - 2s/epoch - 26ms/step\n",
            "Epoch 100/100\n",
            "68/68 - 2s - loss: 0.0414 - accuracy: 0.9887 - 2s/epoch - 26ms/step\n"
          ]
        }
      ]
    },
    {
      "cell_type": "markdown",
      "metadata": {
        "id": "5SSUxxwszK5A"
      },
      "source": [
        "# **Note Prediction**"
      ]
    },
    {
      "cell_type": "markdown",
      "metadata": {
        "id": "mhXsTPYt_zul"
      },
      "source": [
        "## **Preprocessing**"
      ]
    },
    {
      "cell_type": "code",
      "execution_count": null,
      "metadata": {
        "id": "4FzL2U9F_zuq"
      },
      "outputs": [],
      "source": [
        "sample_rate = 4000  # sample rate"
      ]
    },
    {
      "cell_type": "markdown",
      "metadata": {
        "id": "l4IfV2BW_zus"
      },
      "source": [
        "**Paths**"
      ]
    },
    {
      "cell_type": "code",
      "execution_count": null,
      "metadata": {
        "id": "5wqFHlbC_zuu"
      },
      "outputs": [],
      "source": [
        "songsPath = '/content/drive/MyDrive/Deep Learning/Music Generator/piano_pieces'\n",
        "notesPath = '/content/drive/MyDrive/Deep Learning/Music Generator/piano_triads'"
      ]
    },
    {
      "cell_type": "markdown",
      "metadata": {
        "id": "24lvrZd0CSey"
      },
      "source": [
        "**Note encoding**"
      ]
    },
    {
      "cell_type": "code",
      "execution_count": null,
      "metadata": {
        "id": "hu09ybI0hMKn"
      },
      "outputs": [],
      "source": [
        "noteLabel = {}\n",
        "noteLabel['NA'] = 0 # NO note code\n",
        "noteLabel['START'] = 1 # start note code\n",
        "noteLabel['END'] = 2 # start note code\n",
        "\n",
        "i = 3\n",
        "\n",
        "for filename in os.listdir(notesPath): # notes code\n",
        "  noteLabel[filename[:-4]] = i\n",
        "  i+=1\n"
      ]
    },
    {
      "cell_type": "markdown",
      "metadata": {
        "id": "xI8VZau3_zux"
      },
      "source": [
        "**Helper Functions**"
      ]
    },
    {
      "cell_type": "code",
      "execution_count": null,
      "metadata": {
        "id": "17zqWstf_zuz"
      },
      "outputs": [],
      "source": [
        "# add padding to piece to grow up its length to max_length\n",
        "def addPadding(piece):\n",
        "  piece = np.array(piece)\n",
        "  max_length = 31\n",
        "  return np.pad(piece, (0,max_length-piece.shape[0]))\n",
        "\n",
        "# split np.array to multiple specific length array \n",
        "def splitToSpecificLength(arr, length):\n",
        "  arr = np.array(arr)\n",
        "  numberOfPiece = arr.shape[0]//length + 1 if arr.shape[0]%length != 0 else arr.shape[0]//length\n",
        "  return np.split(arr, [length*i for i in range(1, numberOfPiece)])\n",
        "\n",
        "# Generate Dataset with specific length for Note Prediction \n",
        "def generateXYForSpecificNumberOfNotes(song, length):\n",
        "  arr = splitToSpecificLength(song, length)\n",
        "  NP_XY = [(['START'] + list(arr[i]), arr[i+1][0]) for i in range(len(arr)-1)]\n",
        "  NP_XY.append((['START'] + list(arr[-1]), 'END'))\n",
        "  return NP_XY\n"
      ]
    },
    {
      "cell_type": "markdown",
      "metadata": {
        "id": "Y_Nub38Y_zu9"
      },
      "source": [
        "**Read all song notes**"
      ]
    },
    {
      "cell_type": "code",
      "execution_count": null,
      "metadata": {
        "id": "Y1WeNl_V_zvB"
      },
      "outputs": [],
      "source": [
        "songs = []\n",
        "for song in os.listdir(songsPath):\n",
        "  data  = open(songsPath + '/' + song, 'r')\n",
        "  data = data.readlines()\n",
        "  if data:\n",
        "    songs.append(data[0].split(' / '))"
      ]
    },
    {
      "cell_type": "code",
      "execution_count": null,
      "metadata": {
        "colab": {
          "base_uri": "https://localhost:8080/"
        },
        "id": "kQ479cx0mZXG",
        "outputId": "427029df-f048-4d63-9d59-736fc1f79cbf"
      },
      "outputs": [
        {
          "output_type": "execute_result",
          "data": {
            "text/plain": [
              "435"
            ]
          },
          "metadata": {},
          "execution_count": 26
        }
      ],
      "source": [
        "len(noteLabel)"
      ]
    },
    {
      "cell_type": "markdown",
      "metadata": {
        "id": "vKF6ttuO_zvG"
      },
      "source": [
        "**Estimate number of dataset**"
      ]
    },
    {
      "cell_type": "code",
      "execution_count": null,
      "metadata": {
        "colab": {
          "base_uri": "https://localhost:8080/"
        },
        "id": "J3muOcFG_zvI",
        "outputId": "fde34685-38cb-451a-c7e5-4fc821b69217"
      },
      "outputs": [
        {
          "output_type": "stream",
          "name": "stdout",
          "text": [
            "21995.0\n"
          ]
        }
      ],
      "source": [
        "songsLength = [len(x) for x in songs]\n",
        "songsLength = np.array(songsLength)\n",
        "numberOfPiecesPerSong = np.ceil(songsLength/3) + np.ceil(songsLength/4) #+ np.ceil(songsLength/5) + np.ceil(songsLength/6)\\\n",
        "                     #+ np.ceil(songsLength/7) + np.ceil(songsLength/8) \n",
        "\n",
        "numberOfPieces = np.sum(numberOfPiecesPerSong)\n",
        "\n",
        "print(numberOfPieces)"
      ]
    },
    {
      "cell_type": "markdown",
      "metadata": {
        "id": "rRI0a5wE_zvL"
      },
      "source": [
        "**NP(S2S) Data Generator**"
      ]
    },
    {
      "cell_type": "code",
      "execution_count": null,
      "metadata": {
        "colab": {
          "base_uri": "https://localhost:8080/"
        },
        "id": "y4oeSjO7MEyS",
        "outputId": "1a78e235-e6d9-44a2-86c1-8345f06ddd1c"
      },
      "outputs": [
        {
          "output_type": "stream",
          "name": "stdout",
          "text": [
            "['START', 'Eb_min_5_0', 'Cs_maj_6_0', 'Cs_maj_7_1']\n",
            "----------------------------------------------------------------------------------------------------\n",
            "B_maj_7_1\n"
          ]
        }
      ],
      "source": [
        "XY_NP = generateXYForSpecificNumberOfNotes(songs[0], 3)\n",
        "\n",
        "X_NP = [x[0] for x in XY_NP]\n",
        "y_true_NP = [x[1] for x in XY_NP]\n",
        "\n",
        "print(X_NP[15])\n",
        "print('-' * 100)\n",
        "print(y_true_NP[15])"
      ]
    },
    {
      "cell_type": "code",
      "execution_count": null,
      "metadata": {
        "colab": {
          "base_uri": "https://localhost:8080/"
        },
        "id": "M7oaJDp1onFo",
        "outputId": "2c3d4326-9bb1-4b30-9558-c45931d7cd33"
      },
      "outputs": [
        {
          "output_type": "execute_result",
          "data": {
            "text/plain": [
              "((31, 435), (435,))"
            ]
          },
          "metadata": {},
          "execution_count": 29
        }
      ],
      "source": [
        "# test one hot\n",
        "x0 = X_NP[15]\n",
        "\n",
        "y0 = y_true_NP[15]\n",
        "\n",
        "x0 = [noteLabel[n] for n in x0]\n",
        "x0_pad = addPadding(x0)\n",
        "y0 = noteLabel[y0]\n",
        "\n",
        "x0_hot = to_categorical(x0_pad, num_classes=len(noteLabel))\n",
        "y0_hot = to_categorical(y0, num_classes=len(noteLabel))\n",
        "x0_hot.shape, y0_hot.shape"
      ]
    },
    {
      "cell_type": "code",
      "execution_count": null,
      "metadata": {
        "id": "bu0Nbg9G_zvM"
      },
      "outputs": [],
      "source": [
        "def NP_data_generator(songs, batchsize):\n",
        "  X_NP_batch, y_NP_batch = [], []\n",
        "  batchcount = 0\n",
        "  while True:\n",
        "    for song in songs:\n",
        "      # separate the notes of song with 30 length\n",
        "      XY_NP = generateXYForSpecificNumberOfNotes(song, 3) + generateXYForSpecificNumberOfNotes(song, 4) \n",
        "            # + generateXYForSpecificNumberOfNotes(song, 5) + generateXYForSpecificNumberOfNotes(song, 5) \\\n",
        "            # + generateXYForSpecificNumberOfNotes(song, 7) + generateXYForSpecificNumberOfNotes(song, 8) \\\n",
        "\n",
        "      \n",
        "      # create all pieces in the song\n",
        "      for sample in XY_NP:\n",
        "        # sample[0] => X_NP\n",
        "        # sample[1] => y_NP\n",
        "        X_sample = [noteLabel[note] for note in sample[0]]\n",
        "        y_sample = noteLabel[sample[1]]\n",
        "        #print(y_sample)\n",
        "\n",
        "\n",
        "        X_sample_pad = addPadding(X_sample) # Add padding and grow its length up to 780\n",
        "\n",
        "        # make X and Y One Hot\n",
        "        X_sample_HOT = to_categorical(X_sample_pad, num_classes=len(noteLabel))\n",
        "        y_sample_HOT = to_categorical(y_sample, num_classes=len(noteLabel))\n",
        "\n",
        "        X_NP_batch.append(X_sample_HOT)\n",
        "        y_NP_batch.append(y_sample_HOT)\n",
        "        \n",
        "        batchcount += 1\n",
        "        if batchcount > batchsize:\n",
        "          X_NP_batch = np.array(X_NP_batch)\n",
        "          y_NP_batch = np.array(y_NP_batch)\n",
        "          yield (X_NP_batch, y_NP_batch)\n",
        "          X_NP_batch = []\n",
        "          y_NP_batch = []\n",
        "          batchcount = 0"
      ]
    },
    {
      "cell_type": "markdown",
      "metadata": {
        "id": "DDHY6enp8D42"
      },
      "source": [
        "## **Implementation**"
      ]
    },
    {
      "cell_type": "code",
      "execution_count": null,
      "metadata": {
        "colab": {
          "base_uri": "https://localhost:8080/",
          "height": 533
        },
        "id": "TxPMfAyl8LtB",
        "outputId": "02aa2815-f003-4b1d-fc66-06071a477b9b"
      },
      "outputs": [
        {
          "output_type": "execute_result",
          "data": {
            "text/plain": [
              "<IPython.core.display.Image object>"
            ],
            "image/png": "[encoded data removed]"
          },
          "metadata": {},
          "execution_count": 233
        }
      ],
      "source": [
        "batchsize = 250\n",
        "NPInputShape = (31, 435)\n",
        "\n",
        "input = Input(shape=NPInputShape, name=\"input\")\n",
        "\n",
        "l = LSTM(128, activation=\"relu\", return_sequences=True)(input)\n",
        "l = LSTM(64, activation=\"relu\")(l)\n",
        "\n",
        "d = Dense(64, activation=\"relu\")(l)\n",
        "\n",
        "output = Dense(NPInputShape[1], activation=\"softmax\")(d)\n",
        "\n",
        "NP_model = Model(inputs=input, outputs=output)\n",
        "\n",
        "# Compile the Model\n",
        "NP_model.compile(loss=\"categorical_crossentropy\", optimizer=Adam(0.001), metrics=['accuracy'])\n",
        "\n",
        "filepath = '/content/drive/MyDrive/Deep Learning/Music Generator/NP_best_model.hdf5'\n",
        "checkpoint = ModelCheckpoint(filepath=filepath,\n",
        "                              monitor='accuracy',\n",
        "                              verbose=0,\n",
        "                              save_best_only=True,\n",
        "                              mode='max')\n",
        "                              \n",
        "plot_model(NP_model, to_file=\"NP_model.png\", show_shapes=True)"
      ]
    },
    {
      "cell_type": "code",
      "execution_count": null,
      "metadata": {
        "colab": {
          "base_uri": "https://localhost:8080/"
        },
        "id": "iP-acl_IC6D7",
        "outputId": "8bdfbf87-d444-48fc-ef72-f8d52213cb59"
      },
      "outputs": [
        {
          "output_type": "stream",
          "name": "stdout",
          "text": [
            "Epoch 1/50\n",
            "87/87 [==============================] - 34s 331ms/step - loss: 5.9511 - accuracy: 0.0334\n",
            "Epoch 2/50\n",
            "87/87 [==============================] - 29s 332ms/step - loss: 5.8845 - accuracy: 0.0363\n",
            "Epoch 3/50\n",
            "87/87 [==============================] - 29s 333ms/step - loss: 5.7910 - accuracy: 0.0364\n",
            "Epoch 4/50\n",
            "87/87 [==============================] - 30s 336ms/step - loss: 5.7655 - accuracy: 0.0362\n",
            "Epoch 5/50\n",
            "87/87 [==============================] - 29s 328ms/step - loss: 5.7517 - accuracy: 0.0363\n",
            "Epoch 6/50\n",
            "87/87 [==============================] - 29s 329ms/step - loss: 5.7387 - accuracy: 0.0362\n",
            "Epoch 7/50\n",
            "87/87 [==============================] - 29s 333ms/step - loss: 5.7363 - accuracy: 0.0364\n",
            "Epoch 8/50\n",
            "87/87 [==============================] - 30s 338ms/step - loss: 5.7227 - accuracy: 0.0364\n",
            "Epoch 9/50\n",
            "87/87 [==============================] - 29s 331ms/step - loss: 5.7106 - accuracy: 0.0365\n",
            "Epoch 10/50\n",
            "87/87 [==============================] - 29s 329ms/step - loss: 5.6939 - accuracy: 0.0358\n",
            "Epoch 11/50\n",
            "87/87 [==============================] - 29s 329ms/step - loss: 5.6860 - accuracy: 0.0358\n",
            "Epoch 12/50\n",
            "87/87 [==============================] - 29s 327ms/step - loss: 5.6691 - accuracy: 0.0360\n",
            "Epoch 13/50\n",
            "87/87 [==============================] - 29s 329ms/step - loss: 5.6598 - accuracy: 0.0364\n",
            "Epoch 14/50\n",
            "87/87 [==============================] - 29s 329ms/step - loss: 5.6521 - accuracy: 0.0360\n",
            "Epoch 15/50\n",
            "87/87 [==============================] - 29s 329ms/step - loss: 5.6460 - accuracy: 0.0359\n",
            "Epoch 16/50\n",
            "87/87 [==============================] - 29s 329ms/step - loss: 5.6422 - accuracy: 0.0363\n",
            "Epoch 17/50\n",
            "87/87 [==============================] - 29s 333ms/step - loss: 5.6305 - accuracy: 0.0365\n",
            "Epoch 18/50\n",
            "87/87 [==============================] - 29s 329ms/step - loss: 5.6262 - accuracy: 0.0364\n",
            "Epoch 19/50\n",
            "87/87 [==============================] - 29s 328ms/step - loss: 5.6298 - accuracy: 0.0362\n",
            "Epoch 20/50\n",
            "87/87 [==============================] - 29s 328ms/step - loss: 5.6193 - accuracy: 0.0364\n",
            "Epoch 21/50\n",
            "87/87 [==============================] - 29s 332ms/step - loss: 5.6268 - accuracy: 0.0368\n",
            "Epoch 22/50\n",
            "87/87 [==============================] - 29s 330ms/step - loss: 5.6221 - accuracy: 0.0366\n",
            "Epoch 23/50\n",
            "87/87 [==============================] - 29s 328ms/step - loss: 5.6086 - accuracy: 0.0365\n",
            "Epoch 24/50\n",
            "87/87 [==============================] - 29s 328ms/step - loss: 5.5946 - accuracy: 0.0367\n",
            "Epoch 25/50\n",
            "87/87 [==============================] - 29s 329ms/step - loss: 5.5911 - accuracy: 0.0367\n",
            "Epoch 26/50\n",
            "87/87 [==============================] - 29s 329ms/step - loss: 5.5836 - accuracy: 0.0366\n",
            "Epoch 27/50\n",
            "87/87 [==============================] - 29s 329ms/step - loss: 5.5699 - accuracy: 0.0365\n",
            "Epoch 28/50\n",
            "87/87 [==============================] - 29s 328ms/step - loss: 5.5754 - accuracy: 0.0365\n",
            "Epoch 29/50\n",
            "87/87 [==============================] - 29s 328ms/step - loss: 5.5623 - accuracy: 0.0367\n",
            "Epoch 30/50\n",
            "87/87 [==============================] - 29s 328ms/step - loss: 5.5575 - accuracy: 0.0367\n",
            "Epoch 31/50\n",
            "87/87 [==============================] - 29s 328ms/step - loss: 5.5495 - accuracy: 0.0367\n",
            "Epoch 32/50\n",
            "87/87 [==============================] - 29s 329ms/step - loss: 5.5400 - accuracy: 0.0366\n",
            "Epoch 33/50\n",
            "87/87 [==============================] - 29s 327ms/step - loss: 5.5364 - accuracy: 0.0364\n",
            "Epoch 34/50\n",
            "87/87 [==============================] - 29s 328ms/step - loss: 5.5276 - accuracy: 0.0364\n",
            "Epoch 35/50\n",
            "87/87 [==============================] - 29s 327ms/step - loss: 5.5121 - accuracy: 0.0366\n",
            "Epoch 36/50\n",
            "87/87 [==============================] - 29s 326ms/step - loss: 5.5199 - accuracy: 0.0366\n",
            "Epoch 37/50\n",
            "87/87 [==============================] - 29s 327ms/step - loss: 5.5375 - accuracy: 0.0368\n",
            "Epoch 38/50\n",
            "87/87 [==============================] - 29s 326ms/step - loss: 5.5374 - accuracy: 0.0362\n",
            "Epoch 39/50\n",
            "87/87 [==============================] - 29s 327ms/step - loss: 5.5110 - accuracy: 0.0364\n",
            "Epoch 40/50\n",
            "87/87 [==============================] - 29s 330ms/step - loss: 5.4856 - accuracy: 0.0369\n",
            "Epoch 41/50\n",
            "87/87 [==============================] - 29s 328ms/step - loss: 5.4707 - accuracy: 0.0364\n",
            "Epoch 42/50\n",
            "87/87 [==============================] - 29s 327ms/step - loss: 5.4578 - accuracy: 0.0363\n",
            "Epoch 43/50\n",
            "87/87 [==============================] - 29s 328ms/step - loss: 5.4592 - accuracy: 0.0366\n",
            "Epoch 44/50\n",
            "87/87 [==============================] - 29s 326ms/step - loss: 5.5051 - accuracy: 0.0359\n",
            "Epoch 45/50\n",
            "87/87 [==============================] - 29s 329ms/step - loss: 5.4717 - accuracy: 0.0367\n",
            "Epoch 46/50\n",
            "87/87 [==============================] - 29s 326ms/step - loss: 5.4451 - accuracy: 0.0368\n",
            "Epoch 47/50\n",
            "87/87 [==============================] - 32s 361ms/step - loss: 5.4321 - accuracy: 0.0364\n",
            "Epoch 48/50\n",
            "87/87 [==============================] - 29s 330ms/step - loss: 5.4035 - accuracy: 0.0364\n",
            "Epoch 49/50\n",
            "87/87 [==============================] - 29s 326ms/step - loss: 5.3889 - accuracy: 0.0363\n",
            "Epoch 50/50\n",
            "87/87 [==============================] - 29s 330ms/step - loss: 5.3753 - accuracy: 0.0369\n"
          ]
        }
      ],
      "source": [
        "with tf.device('/GPU:0'):\n",
        "  NP_history = NP_model.fit(NP_data_generator(songs, batchsize), steps_per_epoch=numberOfPieces/batchsize, epochs=50, callbacks=[checkpoint]).history\n",
        "  NP_model = load_model(filepath)\n",
        "  # outputResult(NP_model, NP_history, X_train, y_train, X_test, y_test, noteDic)\n",
        "  # showPlots(NP_model, NP_history)"
      ]
    },
    {
      "cell_type": "markdown",
      "source": [
        "# **Generate Song**"
      ],
      "metadata": {
        "id": "LxVgYWN6TpeU"
      }
    },
    {
      "cell_type": "code",
      "source": [
        "notesPath = '/content/drive/MyDrive/Deep Learning/Music Generator/piano_triads'\n",
        "noisesPath = '/content/drive/MyDrive/Deep Learning/Music Generator/artifacts'\n",
        "songsPath = '/content/drive/MyDrive/Deep Learning/Music Generator/piano_pieces'\n",
        "\n",
        "DAE_path = '/content/drive/MyDrive/Deep Learning/Music Generator/DAE_best_model_3.hdf5'\n",
        "NP_path = '/content/drive/MyDrive/Deep Learning/Music Generator/NP_best_model.hdf5'\n",
        "NR_path = '/content/drive/MyDrive/Deep Learning/Music Generator/NR_best_model.hdf5'\n",
        "\n",
        "sample_rate = 4000"
      ],
      "metadata": {
        "id": "7MnPbInRfF0E"
      },
      "execution_count": null,
      "outputs": []
    },
    {
      "cell_type": "code",
      "source": [
        "DAE_model = load_model(DAE_path)"
      ],
      "metadata": {
        "id": "6NbpqJNZBYCA"
      },
      "execution_count": null,
      "outputs": []
    },
    {
      "cell_type": "code",
      "source": [
        "NR_model = load_model(NR_path)"
      ],
      "metadata": {
        "id": "D56w4DTHB8JU"
      },
      "execution_count": null,
      "outputs": []
    },
    {
      "cell_type": "code",
      "source": [
        "NP_model = load_model(NP_path)"
      ],
      "metadata": {
        "id": "eXmP65tECAiW"
      },
      "execution_count": null,
      "outputs": []
    },
    {
      "cell_type": "code",
      "source": [
        "import random\n",
        "\n",
        "# generate 3 random notes as initial piece\n",
        "def generateRandomNotes(songs):\n",
        "  songNumber = random.randint(0, len(songs))  # random song\n",
        "\n",
        "  song = songs[songNumber]  # song\n",
        "  songsLength = len(song)\n",
        "  numberOfPiecesPerSong = np.ceil(songsLength/10) + np.ceil(songsLength/20)\n",
        "\n",
        "  pieceNumber = random.randint(0, numberOfPiecesPerSong-1)  # random piece in the song\n",
        "\n",
        "  songSplitted = splitToSpecificLength(song, 10) + splitToSpecificLength(song, 20)  # pieces in the song\n",
        "\n",
        "  if len(songSplitted[pieceNumber]) >= 3:\n",
        "    return songSplitted[pieceNumber][:3]\n",
        "  else:\n",
        "    return generateRandomNotes(songs)\n",
        "\n",
        "# mix piece and noise together\n",
        "def AddNoiseToPiece(piece, noise, noise_factor):\n",
        "  noisy_piece = piece + (noise_factor*noise)\n",
        "  return noisy_piece\n",
        "\n",
        "# append wav np.array of notes by having note names in a piece\n",
        "def appendNotes(piece, notes, notesLabel): \n",
        "  appendedNotes = []\n",
        "  for piece_note in piece:\n",
        "    index = notesLabel.index(piece_note)\n",
        "    appendedNotes.extend(notes[index])\n",
        "  return np.array(appendedNotes)\n",
        "\n",
        "# add padding to wav piece to grow up its length to max_length\n",
        "def addPaddingWav(piece_wav):\n",
        "  max_length = sample_rate * 90\n",
        "  return np.pad(piece_wav, (0,max_length-piece_wav.shape[0]))\n",
        "\n",
        "# add padding to piece to grow up its length to max_length\n",
        "def addPadding(piece):\n",
        "  piece = np.array(piece)\n",
        "  max_length = 31\n",
        "  return np.pad(piece, (0,max_length-piece.shape[0]))\n",
        "\n",
        "# add random noise to piece\n",
        "def addRandomNoise(noises, initial_piece):\n",
        "  noiseNumber = random.randint(0, len(noises)-1)\n",
        "  noisy_piece = AddNoiseToPiece(initial_piece, noises[noiseNumber], 0.25)\n",
        "  return noisy_piece\n",
        "\n",
        "# break piece down to its notes\n",
        "def breakDownPiece(denoised_piece, sample_rate, numberOfNotes):\n",
        "  no_padding_piece_length = sample_rate * 3 * numberOfNotes\n",
        "  breakdown_pieces = splitToSpecificLength(denoised_piece[:no_padding_piece_length], sample_rate * 3)\n",
        "  return breakdown_pieces\n",
        "\n",
        "\n",
        "def notesToVector(piece, dic): # piece should be one hot do argmaxkeep dimention\n",
        "  encoded_piece = [dic['START']] + [dic[x] for x in piece]\n",
        "  encoded_piece_pad = addPadding(encoded_piece)\n",
        "  vectorized_piece = to_categorical(encoded_piece_pad, num_classes=len(dic))\n",
        "  return vectorized_piece\n",
        "  \n",
        "\n",
        "def DAE(DAE_model, noisy_piece):\n",
        "  return DAE_model.predict(np.array([noisy_piece]))[0]\n",
        "\n",
        "def NID(NR_model, note, notesLabel):\n",
        "  noteName = notesLabel[np.argmax(NR_model.predict(np.array([note]))[0])]\n",
        "  return noteName\n",
        "\n",
        "def LM(NP_model, sub_notes_vec, dic):\n",
        "  next_note = NP_model.predict(np.array([sub_notes_vec]))[0]\n",
        "  next_note_name = predictionToNoteName(dic, next_note)\n",
        "  return next_note_name\n",
        "\n",
        "def predictionToNoteName(dic, note):\n",
        "  noteIndex = np.argmax(note)\n",
        "  if random.getrandbits(1) and noteIndex == 2:\n",
        "    noteIndex = random.randint(3, 434)\n",
        "  noteName = list(dic.keys())[list(dic.values()).index(noteIndex)]\n",
        "  return noteName\n",
        "\n",
        "\n",
        "def OHtoNoteName(dic, note):\n",
        "  noteIndex = np.argmax(note)\n",
        "  #print(noteIndex)\n",
        "  noteName = list(dic.keys())[list(dic.values()).index(noteIndex)]\n",
        "  return noteName\n"
      ],
      "metadata": {
        "id": "PMieNNDTUMbO"
      },
      "execution_count": null,
      "outputs": []
    },
    {
      "cell_type": "code",
      "source": [
        "notes, notesLabel, noises = [], [], []\n",
        "sample_rate = 4000\n",
        "\n",
        "noteDict = {}\n",
        "noteDict['NA'] = 0 # NO note code\n",
        "noteDict['START'] = 1 # start note code\n",
        "noteDict['END'] = 2 # start note code\n",
        "\n",
        "i = 3\n",
        "\n",
        "for note in os.listdir(notesPath):\n",
        "  data  = librosa.load(notesPath+'/'+note, sr=sample_rate, dtype=np.float32)[0]\n",
        "  notes.append(data)\n",
        "  notesLabel.append(note[:-4])\n",
        "  noteDict[note[:-4]] = i\n",
        "  i+=1\n",
        " \n",
        "\n",
        "for noise in os.listdir(noisesPath):\n",
        "  # noises must have 1/3 note sample rate because their length are 3X\n",
        "  noises.append(librosa.load(noisesPath + '/'+ noise, sr=sample_rate*10,dtype=np.float32)[0]) # sample rate for a 90s song: 10 noises per song\n",
        "\n",
        "notes = np.array(notes)\n",
        "noises = np.array(noises)\n",
        "# notesLabel = np.array(notesLabel)\n",
        "print(notes.shape)\n",
        "print(noises.shape)"
      ],
      "metadata": {
        "colab": {
          "base_uri": "https://localhost:8080/"
        },
        "id": "3jkJboG_ec3y",
        "outputId": "03782f42-3afc-45e4-b467-68b3729c1c78"
      },
      "execution_count": null,
      "outputs": [
        {
          "output_type": "stream",
          "name": "stdout",
          "text": [
            "(432, 12000)\n",
            "(40, 360000)\n"
          ]
        }
      ]
    },
    {
      "cell_type": "code",
      "source": [
        "sub_notes_classes = None\n",
        "\n",
        "note_list = generateRandomNotes(songs)\n",
        "NOTES_GROUND_TRUTH = list(note_list)\n",
        "initial_piece = appendNotes(note_list, notes, notesLabel)\n",
        "initial_piece_pad = addPaddingWav(initial_piece)\n",
        "noisy_piece = addRandomNoise(noises, initial_piece_pad)\n",
        "final_piece = None\n",
        "\n",
        "# print([noisy_piece])\n",
        "numberOfNotes = 3\n",
        "piece_limit = 30\n",
        "while True:\n",
        "  denoised_piece = DAE(DAE_model, noisy_piece)\n",
        "  sub_notes = breakDownPiece(denoised_piece, sample_rate, numberOfNotes)\n",
        "  sub_notes_classes = [NID(NR_model, note, notesLabel) for note in sub_notes]\n",
        "  sub_notes_vec = notesToVector(sub_notes_classes, noteDict)\n",
        "  next_note = LM(NP_model, sub_notes_vec, noteDict)\n",
        "  NOTES_GROUND_TRUTH.append(next_note)\n",
        "  new_piece =  appendNotes(sub_notes_classes, notes, notesLabel)\n",
        "  note_list = sub_notes_classes + [next_note]\n",
        "  numberOfNotes += 1\n",
        "\n",
        "  if next_note == 'END' or numberOfNotes == 30:\n",
        "    final_piece = new_piece\n",
        "    break\n",
        "  else:\n",
        "    new_piece = appendNotes(note_list, notes, notesLabel)\n",
        "    new_piece_pad = addPaddingWav(new_piece)\n",
        "    noisy_piece = addRandomNoise(noises, new_piece_pad)\n"
      ],
      "metadata": {
        "id": "SszQoUKITxj-"
      },
      "execution_count": null,
      "outputs": []
    },
    {
      "cell_type": "code",
      "source": [
        "sub_notes_classes"
      ],
      "metadata": {
        "id": "Zdu5yoAVJOvC",
        "colab": {
          "base_uri": "https://localhost:8080/"
        },
        "outputId": "fb5dd957-c773-495d-d518-576eadbdb5a4"
      },
      "execution_count": null,
      "outputs": [
        {
          "output_type": "execute_result",
          "data": {
            "text/plain": [
              "['Gs_maj_6_1', 'A_maj_6_1', 'Bb_dim_7_1', 'F_maj_4_1', 'C_min_5_0']"
            ]
          },
          "metadata": {},
          "execution_count": 60
        }
      ]
    },
    {
      "cell_type": "code",
      "source": [
        "NOTES_GROUND_TRUTH"
      ],
      "metadata": {
        "id": "CvV48XlwJU6p",
        "colab": {
          "base_uri": "https://localhost:8080/"
        },
        "outputId": "61e8d945-78c2-406c-e3b4-d7918337ecfa"
      },
      "execution_count": null,
      "outputs": [
        {
          "output_type": "execute_result",
          "data": {
            "text/plain": [
              "['G_min_7_1', 'A_dim_5_1', 'Bb_maj_4_1', 'B_min_6_1', 'Cs_min_4_1', 'END']"
            ]
          },
          "metadata": {},
          "execution_count": 61
        }
      ]
    },
    {
      "cell_type": "code",
      "source": [
        "wavfile.write('final_piece.wav', sample_rate, final_piece)"
      ],
      "metadata": {
        "id": "_RzNNHHGJHy-"
      },
      "execution_count": null,
      "outputs": []
    }
  ],
  "metadata": {
    "colab": {
      "collapsed_sections": [
        "rG540utTBHVi",
        "Q1qXvuLDsHy-",
        "mHrW-d9w4Css",
        "LXvHNESIZ_BV",
        "9g2bT1KDsTU1",
        "WcHmHbcQsYPY",
        "6YZs2_NCO_2K",
        "jHKA9UHazJkI",
        "vIqIjSi41bS8",
        "plg3bsOfjJYn",
        "WuHsZrgdmTgO",
        "NmUGeK9MoHyt",
        "1t344qwo0F-o",
        "KGWOhtvqgfQI",
        "xzGuRMZc2UUT",
        "US2y4cnYzL3I",
        "5SSUxxwszK5A",
        "mhXsTPYt_zul",
        "DDHY6enp8D42"
      ],
      "name": "NLP-An Odd Music Generator",
      "provenance": [],
      "include_colab_link": true
    },
    "gpuClass": "standard",
    "kernelspec": {
      "display_name": "Python 3",
      "name": "python3"
    },
    "language_info": {
      "name": "python"
    }
  },
  "nbformat": 4,
  "nbformat_minor": 0
}
